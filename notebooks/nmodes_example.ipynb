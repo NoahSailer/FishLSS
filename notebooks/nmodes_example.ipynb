{
 "cells": [
  {
   "cell_type": "code",
   "execution_count": 1,
   "metadata": {},
   "outputs": [],
   "source": [
    "# import all revelant packages\n",
    "from headers import *\n",
    "from twoPoint import *\n",
    "from twoPointNoise import *"
   ]
  },
  {
   "cell_type": "code",
   "execution_count": 2,
   "metadata": {},
   "outputs": [],
   "source": [
    "# set up the cosmology\n",
    "params = {\n",
    "          'output': 'tCl lCl mPk',\n",
    "          'l_max_scalars': 1000,\n",
    "          'lensing': 'yes',\n",
    "          'P_k_max_h/Mpc': 10.,\n",
    "          'non linear':'halofit', \n",
    "          'z_pk': '0.0,1087',\n",
    "          'A_s': 2.10732e-9,\n",
    "          'n_s': 0.96824,\n",
    "          'alpha_s': 0.,\n",
    "          'h': 0.6770,\n",
    "          'N_ur': 1.0196,\n",
    "          'N_ncdm': 2,\n",
    "          'm_ncdm': '0.01,0.05',\n",
    "          'tau_reio': 0.0568,\n",
    "          'omega_b': 0.02247,\n",
    "          'omega_cdm': 0.11923,\n",
    "          'Omega_k': 0.}\n",
    "\n",
    "cosmo = Class()  \n",
    "cosmo.set(params) \n",
    "cosmo.compute() "
   ]
  },
  {
   "cell_type": "code",
   "execution_count": 3,
   "metadata": {},
   "outputs": [],
   "source": [
    "# create a dummy experiment\n",
    "b = lambda z: 2. + 0*z\n",
    "n = lambda z: 1e-4 + 0*z\n",
    "exp = experiment(zmin=1., zmax=2, nbins=1, fsky=0.5, n=n, b=b)\n",
    "\n",
    "# create the forecast object\n",
    "# choose setup=False to avoid computing fiducial power spectra (not necessary for PFOM)\n",
    "forecast = fisherForecast(experiment=exp,cosmo=cosmo,name='nmodes_example',setup=False)"
   ]
  },
  {
   "cell_type": "code",
   "execution_count": 4,
   "metadata": {},
   "outputs": [
    {
     "name": "stdout",
     "output_type": "stream",
     "text": [
      "PFOM = 0.7120698270710039\n"
     ]
    }
   ],
   "source": [
    "# Model the measured power spectrum P_F using linear theory to \n",
    "# avoid having to call velocileptors a bunch of times \n",
    "# (very good approximation, see next block)\n",
    "forecast.linear = True\n",
    "\n",
    "# Compute the PFOM\n",
    "zmin = 1\n",
    "zmax = 2\n",
    "nbins = 20   # divide [zmin, zmax] in nbins intervals. For this example 20 is sufficiently large for convergence\n",
    "Nmodes = forecast.Nmodes(zmin,zmax,nbins)\n",
    "\n",
    "print('PFOM =',Nmodes/1e6)"
   ]
  },
  {
   "cell_type": "code",
   "execution_count": 5,
   "metadata": {},
   "outputs": [
    {
     "name": "stdout",
     "output_type": "stream",
     "text": [
      "1.3578500404273663 percent difference\n"
     ]
    }
   ],
   "source": [
    "# checking the linear approximation\n",
    "\n",
    "Nmodes_linear = forecast.Nmodes(zmin,zmax,1)\n",
    "\n",
    "forecast.linear = False\n",
    "\n",
    "Nmodes_full = forecast.Nmodes(zmin,zmax,1)\n",
    "\n",
    "print(np.abs(Nmodes_linear/Nmodes_full-1)*100,'percent difference')"
   ]
  },
  {
   "cell_type": "code",
   "execution_count": 6,
   "metadata": {},
   "outputs": [
    {
     "name": "stdout",
     "output_type": "stream",
     "text": [
      "0.5929408454415697 percent difference\n"
     ]
    }
   ],
   "source": [
    "# by default we are setting \n",
    "# alpha0 = 1.22 + 0.24*b**2*(z-5.96)\n",
    "# This is a bad approximation for very low redshift\n",
    "# It is easy to change this in the Nmodes function\n",
    "# if you want to have a constant alpha0 (with z):\n",
    "forecast.linear = True\n",
    "Nmodes_noAlpha0 = forecast.Nmodes(zmin,zmax,nbins,alpha0=0)\n",
    "\n",
    "\n",
    "# for this particular example the difference in alpha0\n",
    "# doesn't really matter \n",
    "print(np.abs(Nmodes_noAlpha0/Nmodes-1)*100,'percent difference')"
   ]
  }
 ],
 "metadata": {
  "kernelspec": {
   "display_name": "Python 3",
   "language": "python",
   "name": "python3"
  },
  "language_info": {
   "codemirror_mode": {
    "name": "ipython",
    "version": 3
   },
   "file_extension": ".py",
   "mimetype": "text/x-python",
   "name": "python",
   "nbconvert_exporter": "python",
   "pygments_lexer": "ipython3",
   "version": "3.8.5"
  }
 },
 "nbformat": 4,
 "nbformat_minor": 4
}
