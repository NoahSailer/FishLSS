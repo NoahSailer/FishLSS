{
 "cells": [
  {
   "cell_type": "code",
   "execution_count": 1,
   "metadata": {},
   "outputs": [],
   "source": [
    "# import all revelant packages\n",
    "from headers import *\n",
    "outputFolder = 'output'"
   ]
  },
  {
   "cell_type": "code",
   "execution_count": 2,
   "metadata": {},
   "outputs": [],
   "source": [
    "params = {\n",
    "          'output': 'mPk',\n",
    "          'P_k_max_h/Mpc': 20.,\n",
    "          'non linear' : 'HMCode',\n",
    "          'non linear' : 'halofit',\n",
    "          'z_pk': '0.0,10',\n",
    "          'A_s': 2.10732e-9,\n",
    "          'n_s': 0.96824,\n",
    "          'h': 0.6770,\n",
    "          'omega_b': 0.02247,\n",
    "          'omega_cdm': 0.11923}\n",
    "\n",
    "cosmo = Class()\n",
    "cosmo.set(params)\n",
    "cosmo.compute()"
   ]
  },
  {
   "cell_type": "markdown",
   "metadata": {},
   "source": [
    "The experiment has noise $N = 1000 \\text{ [Mpc/h]}^3$, which corresponds to $n = 0.001 \\text{ [h/Mpc]}^{3}$. I'm evaluating the power spectrum at $z=1$, so I choose to have one redshift bin centered about $1$. The bias defaults to $b=1.5$."
   ]
  },
  {
   "cell_type": "code",
   "execution_count": 3,
   "metadata": {},
   "outputs": [],
   "source": [
    "exp = experiment(zmin=0.8,zmax=1.2,n=1e-3,nbins=1,sigma_z=0.)"
   ]
  },
  {
   "cell_type": "markdown",
   "metadata": {},
   "source": [
    "I'm marginalizing over the parameters $\\Omega_b, \\Omega_c, h, \\log(A_s), n_s, b, \\text{ and }N$. I'm setting $k_\\text{min}=10^{-4}\\text{ h/Mpc}$ and $k_\\text{max} = 0.2\\text{ h/Mpc}$. I'm splitting the integral up into 200 $k$ and $\\mu$ bins."
   ]
  },
  {
   "cell_type": "code",
   "execution_count": 4,
   "metadata": {},
   "outputs": [],
   "source": [
    "fishcast = fisherForecast(experiment=exp,cosmo=cosmo,params=params,khmax=0.2,Nk=200,Nmu=200)\n",
    "fishcast.marg_params = np.array(['omega_b','omega_cdm','h','log(A_s)','n_s','b','N'])"
   ]
  },
  {
   "cell_type": "markdown",
   "metadata": {},
   "source": [
    "To be consistent with Emanuele, I'm setting the volume to be exactly  $22.2 \\text{ [Gpc/h]}^3$."
   ]
  },
  {
   "cell_type": "code",
   "execution_count": 5,
   "metadata": {},
   "outputs": [],
   "source": [
    "fishcast.Vsurvey = np.array([2.22e10])"
   ]
  },
  {
   "cell_type": "code",
   "execution_count": 6,
   "metadata": {},
   "outputs": [],
   "source": [
    "F = fishcast.compute_Fisher_matrix()"
   ]
  },
  {
   "cell_type": "markdown",
   "metadata": {},
   "source": [
    "This is the Fisher matrix that Emanuele gets."
   ]
  },
  {
   "cell_type": "code",
   "execution_count": 7,
   "metadata": {},
   "outputs": [],
   "source": [
    "G = np.array([[4.45142819795e8 ,-1.80608721909e8,2.57753702061e7 ,-2.23233666861e7,-3.22526642248e7,-2.52605277442e7,-2988.75624629], \n",
    "[-1.80608721909e8,8.06533590801e7 ,-1.28862751558e7,9.44270032084e6 ,1.40800432912e7 ,1.06076456429e7 ,1289.01652831],  \n",
    "[2.57753702061e7 ,-1.28862751558e7,2.3978617815e6 ,-1.47348867987e6,-2.161143888e6  ,-1.64203066749e6,-190.230007417],\n",
    "[-2.23233666861e7,9.44270032084e6 ,-1.47348867987e6,1.17339333573e6 ,1.66084756506e6 ,1.32538653921e6 ,151.155238499], \n",
    "[-3.22526642248e7,1.40800432912e7 ,-2.161143888e6  ,1.66084756506e6 ,2.49476697721e6 ,1.8747200498e6  ,232.435626086],  \n",
    "[-2.52605277442e7,1.06076456429e7 ,-1.64203066749e6,1.32538653921e6 ,1.8747200498e6  ,1.52559664834e6 ,176.835856178],  \n",
    "[-2988.75624629  ,1289.01652831   ,-190.230007417  ,151.155238499   ,232.435626086   ,176.835856178   ,0.0258127871737]])"
   ]
  },
  {
   "cell_type": "markdown",
   "metadata": {},
   "source": [
    "And here's the ratio of our forecasts."
   ]
  },
  {
   "cell_type": "code",
   "execution_count": 8,
   "metadata": {},
   "outputs": [],
   "source": [
    "from tabulate import tabulate\n",
    "headers = list(fishcast.marg_params.copy())\n",
    "table = tabulate(G/F,headers)\n",
    "file = open(outputFolder+'/Fisher_ratio.dat','w')\n",
    "file.write(table)\n",
    "file.close()"
   ]
  },
  {
   "cell_type": "markdown",
   "metadata": {},
   "source": [
    "# Comparing derivatives at z=0"
   ]
  },
  {
   "cell_type": "code",
   "execution_count": 10,
   "metadata": {},
   "outputs": [],
   "source": [
    "#we're comparing derivates of the linear power spectrum, so I'm removing the flag non linear = halofit\n",
    "params = {\n",
    "          'output': 'mPk',\n",
    "          'P_k_max_h/Mpc': 20.,\n",
    "          'z_pk': '0.0,10',\n",
    "          'A_s': 2.10732e-9,\n",
    "          'n_s': 0.96824,\n",
    "          'h': 0.6770,\n",
    "          'omega_b': 0.02247,\n",
    "          'omega_cdm': 0.11923}\n",
    "\n",
    "cosmo = Class()\n",
    "cosmo.set(params)\n",
    "cosmo.compute()\n",
    "\n",
    "fishcast = fisherForecast(experiment=exp,cosmo=cosmo,params=params,khmax=40.,Nk=200,Nmu=200)\n",
    "fishcast.marg_params = np.array(['omega_b','omega_cdm','h','log(A_s)','n_s','b','N'])"
   ]
  },
  {
   "cell_type": "code",
   "execution_count": 11,
   "metadata": {},
   "outputs": [],
   "source": [
    "from twoPoint import*\n",
    "z=0\n",
    "p_fid = compute_tracer_power_spectrum(fishcast, z)(fishcast.k,fishcast.mu)\n",
    "dPdomega_b = fishcast.compute_dPdp(param='omega_b',z=z)\n",
    "dPdomega_c = fishcast.compute_dPdp(param='omega_cdm',z=z)\n",
    "dPdh = fishcast.compute_dPdp(param='h',z=z)"
   ]
  },
  {
   "cell_type": "code",
   "execution_count": 12,
   "metadata": {
    "scrolled": true
   },
   "outputs": [
    {
     "data": {
      "image/png": "[encoded data removed]",
      "text/plain": [
       "<Figure size 432x288 with 1 Axes>"
      ]
     },
     "metadata": {
      "needs_background": "light"
     },
     "output_type": "display_data"
    }
   ],
   "source": [
    "fishcast.pretty_plot(fishcast.k,[dPdomega_c/p_fid,dPdomega_b/p_fid,dPdh/p_fid],xlabel=r'k [h/Mpc]',ylabel=r'$d\\log[P^{lin}_m(k,\\mu=0)]/dp$',legendtitle='p',datalabels=[r'$\\Omega_c$',r'$\\Omega_b$',r'$h$'],c=['b','r','g'],filename='output/derivatives')"
   ]
  },
  {
   "cell_type": "markdown",
   "metadata": {},
   "source": [
    "# Comparing the matter power spectrum at z=0"
   ]
  },
  {
   "cell_type": "code",
   "execution_count": 13,
   "metadata": {},
   "outputs": [],
   "source": [
    "data = np.genfromtxt(outputFolder+'/output_.11923_.02247_67.70_matterpower_z000.dat',\n",
    "                     skip_header=1,\n",
    "                     skip_footer=1,\n",
    "                     names=True,\n",
    "                     dtype=None,\n",
    "                     delimiter=' ')"
   ]
  },
  {
   "cell_type": "code",
   "execution_count": 14,
   "metadata": {},
   "outputs": [],
   "source": [
    "EmanK = [data[i][0] for i in range(len(data))]\n",
    "EmanP = [data[i][3] for i in range(len(data))]"
   ]
  },
  {
   "cell_type": "code",
   "execution_count": 15,
   "metadata": {},
   "outputs": [],
   "source": [
    "kk = np.logspace(-6.0,1.0,1000)\n",
    "pkcb = np.array([cosmo.pk(k*fishcast.params['h'],z)*fishcast.params['h']**3. for k in kk])\n",
    "NoahP = interp1d(kk, pkcb, kind='linear', bounds_error=False, fill_value=0.)(EmanK)"
   ]
  },
  {
   "cell_type": "code",
   "execution_count": 16,
   "metadata": {
    "scrolled": false
   },
   "outputs": [
    {
     "data": {
      "image/png": "[encoded data removed]",
      "text/plain": [
       "<Figure size 432x288 with 1 Axes>"
      ]
     },
     "metadata": {
      "needs_background": "light"
     },
     "output_type": "display_data"
    }
   ],
   "source": [
    "plt.semilogx(EmanK,NoahP/EmanP,label=r'$P^{Noah}_m(k)/P^{Emanuele}_m(k)$',c='k')\n",
    "plt.xlabel(r'k [h/Mpc]$^3$')\n",
    "plt.legend(loc=0)\n",
    "plt.xlim(1e-5,8)\n",
    "plt.ylim(1.008,1.012)\n",
    "plt.savefig(outputFolder+'/pk_ratio.pdf')"
   ]
  },
  {
   "cell_type": "code",
   "execution_count": null,
   "metadata": {},
   "outputs": [],
   "source": []
  }
 ],
 "metadata": {
  "kernelspec": {
   "display_name": "Python 3",
   "language": "python",
   "name": "python3"
  },
  "language_info": {
   "codemirror_mode": {
    "name": "ipython",
    "version": 3
   },
   "file_extension": ".py",
   "mimetype": "text/x-python",
   "name": "python",
   "nbconvert_exporter": "python",
   "pygments_lexer": "ipython3",
   "version": "3.6.9"
  }
 },
 "nbformat": 4,
 "nbformat_minor": 2
}
