{
 "cells": [
  {
   "cell_type": "code",
   "execution_count": 1,
   "metadata": {},
   "outputs": [],
   "source": [
    "# import all revelant packages\n",
    "from headers import *\n",
    "from twoPoint import *\n",
    "from twoPointNoise import *\n",
    "from notebook_helper_functions import *\n",
    "\n",
    "# Don't forget to marginalize over Tb"
   ]
  },
  {
   "cell_type": "markdown",
   "metadata": {},
   "source": [
    "# Create the forecast objects"
   ]
  },
  {
   "cell_type": "code",
   "execution_count": 2,
   "metadata": {},
   "outputs": [],
   "source": [
    "params = {'output': 'mPk','P_k_max_h/Mpc': 40.,'non linear':'halofit', \n",
    "          'z_pk': '0.0,10','A_s': 2.10732e-9,'n_s': 0.96824,\n",
    "          'alpha_s': 0.,'h': 0.6770, 'N_ur': 1.0196,\n",
    "          'N_ncdm': 2,'m_ncdm': '0.01,0.05','tau_reio': 0.0568,\n",
    "          'omega_b': 0.02247,'omega_cdm': 0.11923,'Omega_k': 0.}\n",
    "\n",
    "cosmo = Class()\n",
    "cosmo.set(params)\n",
    "cosmo.compute()"
   ]
  },
  {
   "cell_type": "code",
   "execution_count": 3,
   "metadata": {},
   "outputs": [],
   "source": [
    "exp = experiment(zmin=2., zmax=5., nbins=3, fsky=0.34, sigma_z=0.0, LBG=True)  # 6\n",
    "fishcast = fisherForecast(experiment=exp,cosmo=cosmo,params=params,khmin=5.e-4,\\\n",
    "                          khmax=1.,Nk=1000,Nmu=200,velocileptors=True,name='MegaMapper')\n",
    "#\n",
    "DESI = experiment(zmin=0.6, zmax=1.7, nbins=3, fsky=0.34, sigma_z=0.0, ELG=True)\n",
    "desiCast = fisherForecast(experiment=DESI,cosmo=cosmo,params=params,khmin=5.e-4,\\\n",
    "                          khmax=1.,Nk=1000,Nmu=200,velocileptors=True,name='DESI')\n",
    "#\n",
    "Euclid = experiment(zmin=0.7, zmax=2., nbins=3, fsky=0.36, sigma_z=0.0, Euclid=True)    # 5\n",
    "eucCast = fisherForecast(experiment=Euclid,cosmo=cosmo,params=params,khmin=5.e-4,\\\n",
    "                          khmax=1.,Nk=1000,Nmu=200,velocileptors=True,name='Euclid')\n",
    "#\n",
    "b = interp1d([2,3,4,5],[2.5,4.0,3.5,5.5],kind='linear')\n",
    "n = interp1d([2,3,4,5],np.array([9.8,1.2,1.0,0.4])*(1e-4),kind='linear')\n",
    "MegaMapper = experiment(zmin=2., zmax=5., nbins=3, fsky=0.34, sigma_z=0.0, b=b, n=n)\n",
    "megaCast = fisherForecast(experiment=MegaMapper,cosmo=cosmo,params=params,khmin=5.e-4,\\\n",
    "                          khmax=1.,Nk=1000,Nmu=200,velocileptors=True,name='MegaMapper_fiducial')\n",
    "#\n",
    "PUMA_5_opt = experiment(zmin=2., zmax=6., nbins=3, fsky=0.5, sigma_z=0.0, HI=True, pesimistic=False,Ndetectors=5e3)   # 8\n",
    "puma5optCast = fisherForecast(experiment=PUMA_5_opt,cosmo=cosmo,params=params,khmin=5.e-4,\\\n",
    "                          khmax=1.,Nk=1000,Nmu=200,velocileptors=True,name='PUMA')\n",
    "#\n",
    "PUMA_5_pess = experiment(zmin=2., zmax=6., nbins=3, fsky=0.5, sigma_z=0.0, HI=True, pesimistic=True,Ndetectors=5e3)   # 8\n",
    "puma5pessCast = fisherForecast(experiment=PUMA_5_pess,cosmo=cosmo,params=params,khmin=5.e-4,\\\n",
    "                          khmax=1.,Nk=1000,Nmu=200,velocileptors=True,name='PUMA')\n",
    "#\n",
    "PUMA_32_opt = experiment(zmin=2., zmax=6., nbins=3, fsky=0.5, sigma_z=0.0, HI=True,pesimistic=False,Ndetectors=32e3)  # 8\n",
    "puma32optCast = fisherForecast(experiment=PUMA_32_opt,cosmo=cosmo,params=params,khmin=5.e-4,\\\n",
    "                          khmax=1.,Nk=1000,Nmu=200,velocileptors=True,name='PUMA')\n",
    "#\n",
    "PUMA_32_pess = experiment(zmin=2., zmax=6., nbins=3, fsky=0.5, sigma_z=0.0, HI=True,pesimistic=True,Ndetectors=32e3)  # 8\n",
    "puma32pessCast = fisherForecast(experiment=PUMA_32_pess,cosmo=cosmo,params=params,khmin=5.e-4,\\\n",
    "                          khmax=1.,Nk=1000,Nmu=200,velocileptors=True,name='PUMA')\n",
    "#\n",
    "mse = experiment(zmin=1.6, zmax=4., nbins=3, fsky=0.24, sigma_z=0.0, MSE=True)\n",
    "mseCast = fisherForecast(experiment=mse,cosmo=cosmo,params=params,khmin=5.e-4,\\\n",
    "                          khmax=1.,Nk=1000,Nmu=200,velocileptors=True,name='MSE')\n",
    "#\n",
    "cv = experiment(zmin=2., zmax=6., nbins=3, fsky=0.34, sigma_z=0.0, LBG=True, custom_n=True, n=10000.) # 6\n",
    "cv_f = fisherForecast(experiment=cv,cosmo=cosmo,params=params,khmin=5.e-4,\\\n",
    "                          khmax=1.,Nk=1000,Nmu=200,velocileptors=False,name='MegaMapper')"
   ]
  },
  {
   "cell_type": "markdown",
   "metadata": {},
   "source": [
    "## Load the derivatives"
   ]
  },
  {
   "cell_type": "code",
   "execution_count": 4,
   "metadata": {},
   "outputs": [],
   "source": [
    "basis = np.array(['h','log(A_s)','n_s','omega_cdm','omega_b','tau_reio',\\\n",
    "                                  'b','b2','bs','alpha0','alpha2','alpha4',\\\n",
    "                                  'N','sn2','m_ncdm','N_ur','alpha_s','Omega_k'])\n",
    "\n",
    "basis_hi = np.array(list(basis)+['Tb'])"
   ]
  },
  {
   "cell_type": "code",
   "execution_count": 5,
   "metadata": {},
   "outputs": [
    {
     "name": "stdout",
     "output_type": "stream",
     "text": [
      "Loaded toy model derivatives\n",
      "Loaded DESI derivatives\n",
      "Loaded Euclid derivatives\n",
      "Loaded MegaMapper derivatives\n",
      "Loaded MSE derivatives\n",
      "Loaded PUMA derivatives\n"
     ]
    }
   ],
   "source": [
    "derivatives_fish = fishcast.load_derivatives(basis)\n",
    "print('Loaded toy model derivatives')\n",
    "derivatives_desi = desiCast.load_derivatives(basis)\n",
    "print('Loaded DESI derivatives')\n",
    "derivatives_euc = eucCast.load_derivatives(basis)\n",
    "print('Loaded Euclid derivatives')\n",
    "derivatives_mega = megaCast.load_derivatives(basis)\n",
    "print('Loaded MegaMapper derivatives')\n",
    "derivatives_mse = mseCast.load_derivatives(basis)\n",
    "print('Loaded MSE derivatives')\n",
    "derivatives_puma = puma5optCast.load_derivatives(basis_hi)\n",
    "print('Loaded PUMA derivatives')"
   ]
  },
  {
   "cell_type": "markdown",
   "metadata": {},
   "source": [
    "## Make the fiducial fisher matrices"
   ]
  },
  {
   "cell_type": "code",
   "execution_count": 6,
   "metadata": {},
   "outputs": [],
   "source": [
    "F_desi = desiCast.gen_fisher(basis,kmax_knl=1.,derivatives=derivatives_desi)\n",
    "F_euc = eucCast.gen_fisher(basis,kmax_knl=1.,derivatives=derivatives_euc)\n",
    "F_mega = megaCast.gen_fisher(basis,kmax_knl=1.,derivatives=derivatives_mega)\n",
    "F_mse = mseCast.gen_fisher(basis,kmax_knl=1.,derivatives=derivatives_mse)\n",
    "F_puma5opt = puma5optCast.gen_fisher(basis_hi,kmax_knl=1.,derivatives=derivatives_puma)\n",
    "F_puma5pess = puma5pessCast.gen_fisher(basis_hi,kmax_knl=1.,derivatives=derivatives_puma)\n",
    "F_puma32opt = puma32optCast.gen_fisher(basis_hi,kmax_knl=1.,derivatives=derivatives_puma)\n",
    "F_puma32pess = puma32pessCast.gen_fisher(basis_hi,kmax_knl=1.,derivatives=derivatives_puma)"
   ]
  },
  {
   "cell_type": "markdown",
   "metadata": {},
   "source": [
    "## Load CMB priors"
   ]
  },
  {
   "cell_type": "code",
   "execution_count": 7,
   "metadata": {},
   "outputs": [],
   "source": [
    "def CMB_with_mnu(F,n):\n",
    "   result = np.zeros((n,n))\n",
    "   # 'omch2', 'ombh2', 'As', 'ns', 'H0', 'tau', 'mnu', 'neff', 'omk' \n",
    "   #  'h','log(A_s)','n_s','omega_cdm','omega_b','tau_reio','b','b2','bs','alpha0','alpha2','alpha4','N','sn2','m_ncdm','N_ur','alpha_s','Omega_k'\n",
    "   mapping = {0:4,1:2,2:3,3:0,4:1,5:5,14:6,15:7,17:8}\n",
    "   for i in range(n):\n",
    "      for j in range(n):\n",
    "         try:\n",
    "            result[i,j] = F[mapping[i],mapping[j]]\n",
    "         except:\n",
    "            continue\n",
    "   #  'H0','A_s','n_s','omega_cdm','omega_b','tau_reio','m_ncdm' basis\n",
    "   result[0,:] *= 100.\n",
    "   result[:,0] *= 100.\n",
    "   result[1,:] *= params['A_s']\n",
    "   result[:,1] *= params['A_s']\n",
    "   return result\n",
    "\n",
    "Planck_LowEll = np.genfromtxt('input/SimoFisher_Planck_LowEll_02-10-2020.txt')\n",
    "Planck_HighEll = np.genfromtxt('input/SimoFisher_Planck_HighEll_02-10-2020.txt')\n",
    "SO_HighEll = np.genfromtxt('input/SimoFisher_SO_HighEll_02-10-2020.txt')\n",
    "S4_HighEll = np.genfromtxt('input/SimoFisher_S4_HighEll_02-10-2020.txt')\n",
    "LiteBird_LowEll = np.genfromtxt('input/SimoFisher_LiteBird_LowEll_02-10-2020.txt')\n",
    "Planck = CMB_with_mnu(Planck_LowEll + Planck_HighEll, 18)\n",
    "Planck_SO = CMB_with_mnu(Planck_LowEll + SO_HighEll,18)\n",
    "Planck_S4 = CMB_with_mnu(Planck_LowEll + S4_HighEll,18)\n",
    "LiteBird_S4 = CMB_with_mnu(LiteBird_LowEll + S4_HighEll,18)"
   ]
  },
  {
   "cell_type": "markdown",
   "metadata": {},
   "source": [
    "# Do the corrections to $\\bar{n}$ and $V_\\text{eff}$ matter? (They don't)"
   ]
  },
  {
   "cell_type": "code",
   "execution_count": 8,
   "metadata": {},
   "outputs": [],
   "source": [
    "def chi(z): return (1+z)*cosmo.angular_distance(z)*params['h']\n",
    "\n",
    "def dchidz(z): return (chi(z+0.01)-chi(z))/0.01\n",
    "\n",
    "def I(i,j,zmin,zmax,P=10000):\n",
    "   zs = np.linspace(zmin,zmax,10)\n",
    "   dz = zs[1]-zs[0]\n",
    "   w = lambda z: 1/(1+P*compute_n(fishcast,z))\n",
    "   integrand = [4*np.pi*chi(z)**2*dz*dchidz(z)*w(z)**j*compute_n(fishcast,z)**i for z in zs]\n",
    "   return np.sum(integrand)\n",
    "\n",
    "def nbar_corrected(zmin,zmax,P=10000): return I(4,4,zmin,zmax,P=P)/I(3,4,zmin,zmax,P=P)\n",
    "\n",
    "def v_corrected(zmin,zmax,P=10000): return I(2,2,zmin,zmax,P=P)**2/I(4,4,zmin,zmax,P=P)"
   ]
  },
  {
   "cell_type": "code",
   "execution_count": 9,
   "metadata": {},
   "outputs": [
    {
     "name": "stderr",
     "output_type": "stream",
     "text": [
      "findfont: Font family ['serif'] not found. Falling back to DejaVu Sans.\n"
     ]
    },
    {
     "data": {
      "image/png": "[encoded data removed]",
      "text/plain": [
       "<Figure size 720x504 with 1 Axes>"
      ]
     },
     "metadata": {},
     "output_type": "display_data"
    }
   ],
   "source": [
    "zs = np.linspace(2,5,50)\n",
    "\n",
    "plt.figure(figsize=(10,7))\n",
    "\n",
    "plt.plot(zs,[compute_n(fishcast,z) for z in zs],lw=3,c='C0',zorder=1,label=r'$n_\\text{LBG}(z)$')\n",
    "\n",
    "zcs = np.array([2.5,3.5,4.5])\n",
    "plt.scatter(zcs,[nbar_corrected(2,3),nbar_corrected(3,4),nbar_corrected(4,5)],marker='.',c='C1',zorder=2,s=400,label=r'$I_{44}/I_{34}\\,,P_\\text{fid}=10^4\\,h^{-3}\\,\\text{Mpc}^3$')\n",
    "\n",
    "\n",
    "plt.text(2.3,0.0017,r'$\\frac{V I_{44}}{I^2_{22}}=\\,$'+str(round(fishcast.comov_vol(2,3)/fishcast.experiment.fsky/v_corrected(2,3),2)),fontsize=20)\n",
    "\n",
    "plt.text(3.3,0.0017,r'$\\frac{V I_{44}}{I^2_{22}}=\\,$'+str(round(fishcast.comov_vol(3,4)/fishcast.experiment.fsky/v_corrected(3,4),2)),fontsize=20)\n",
    "\n",
    "plt.text(4.3,0.0017,r'$\\frac{V I_{44}}{I^2_{22}}=\\,$'+str(round(fishcast.comov_vol(4,5)/fishcast.experiment.fsky/v_corrected(4,5),2)),fontsize=20)\n",
    "\n",
    "plt.axvline(3,-1,1,c='k',ls='--')\n",
    "plt.axvline(4,-1,1,c='k',ls='--')\n",
    "\n",
    "plt.xlim(2,5)\n",
    "\n",
    "plt.legend(loc=0,framealpha=1)\n",
    "\n",
    "plt.xlabel(r'$z$')\n",
    "plt.ylabel(r'Number density [$h^3\\,$Mpc$^{-3}$]')\n",
    "plt.savefig('figures/updated_covariance.pdf',bbox_inches='tight')"
   ]
  },
  {
   "cell_type": "markdown",
   "metadata": {},
   "source": [
    "## Let's play around with $\\sigma_z/(1+z)$"
   ]
  },
  {
   "cell_type": "code",
   "execution_count": 10,
   "metadata": {},
   "outputs": [],
   "source": [
    "onePextensions = np.array(['h','log(A_s)','n_s','omega_cdm','omega_b','tau_reio',\\\n",
    "                                  'alpha_s','Omega_k','N_ur','m_ncdm'])\n",
    "\n",
    "sigma_zs= np.logspace(-3,np.log10(0.02),50)\n",
    "result = []\n",
    "\n",
    "for sigma_z in sigma_zs:\n",
    "   desiCast.experiment.sigma_z = sigma_z\n",
    "   #megaCast.experiment.sigma_z = sigma_z\n",
    "   F_desi_tmp = desiCast.gen_fisher(basis,kmax_knl=1.,derivatives=derivatives_desi)\n",
    "   #F_mega_tmp = megaCast.gen_fisher(basis,kmax_knl=0.5,derivatives=derivatives_mega)\n",
    "   result.append( one_param_constraints([Planck_SO,F_desi_tmp],basis,onePextensions) ) # included F_mega_tmp\n",
    "\n",
    "result = np.array(result)\n",
    "result /= one_param_constraints([Planck_SO,F_desi],basis,onePextensions) \n",
    "result = np.transpose(result)"
   ]
  },
  {
   "cell_type": "code",
   "execution_count": 11,
   "metadata": {},
   "outputs": [
    {
     "data": {
      "image/png": "[encoded data removed]",
      "text/plain": [
       "<Figure size 720x576 with 1 Axes>"
      ]
     },
     "metadata": {},
     "output_type": "display_data"
    }
   ],
   "source": [
    "fig,ax = plt.subplots(figsize=(10,8))\n",
    "\n",
    "ax.semilogx(sigma_zs,(result[0]-1)*100,lw=3,label=r'$h$')\n",
    "ax.semilogx(sigma_zs,(result[1]-1)*100,lw=3,label=r'$\\log(A_s)$')\n",
    "ax.semilogx(sigma_zs,(result[2]-1)*100,lw=3,label=r'$n_s$')\n",
    "ax.semilogx(sigma_zs,(result[3]-1)*100,lw=3,label=r'$\\omega_c$')\n",
    "ax.semilogx(sigma_zs,(result[4]-1)*100,lw=3,label=r'$\\omega_b$')\n",
    "ax.semilogx(sigma_zs,(result[5]-1)*100,lw=3,label=r'$\\tau$')\n",
    "ax.semilogx(sigma_zs,(result[6]-1)*100,lw=3,label=r'$\\alpha_s$')\n",
    "ax.semilogx(sigma_zs,(result[7]-1)*100,lw=3,label=r'$\\Omega_k$')\n",
    "ax.semilogx(sigma_zs,(result[8]-1)*100,lw=3,label=r'$N_\\text{eff}$')\n",
    "ax.semilogx(sigma_zs,(result[9]-1)*100,lw=3,label=r'$M_\\nu$')\n",
    "\n",
    "\n",
    "plt.legend(loc='upper left',frameon=False,ncol=2)\n",
    "plt.xlabel(r'$\\sigma_z/(1+z)$')\n",
    "plt.ylabel(r'Relative increase in $\\sigma\\,\\,[\\%]$')\n",
    "plt.title(r'$k_\\text{max} = \\,k_\\text{nl}$',pad=10)\n",
    "plt.tight_layout()\n",
    "plt.savefig('figures/sigma_z_degredation_05.pdf')"
   ]
  },
  {
   "cell_type": "markdown",
   "metadata": {},
   "source": [
    "## And now with $k_\\text{max}/k_\\text{nl}$"
   ]
  },
  {
   "cell_type": "code",
   "execution_count": 12,
   "metadata": {},
   "outputs": [],
   "source": [
    "desiCast.experiment.sigma_z = 0\n",
    "megaCast.experiment.sigma_z = 0"
   ]
  },
  {
   "cell_type": "code",
   "execution_count": 13,
   "metadata": {},
   "outputs": [],
   "source": [
    "kmaxs = np.linspace(0.1,1,50)\n",
    "result = []\n",
    "for kmax in kmaxs:\n",
    "   F_desi_tmp = desiCast.gen_fisher(basis,kmax_knl=kmax,derivatives=derivatives_desi)\n",
    "   #F_mega_tmp = megaCast.gen_fisher(basis,kmax_knl=kmax,derivatives=derivatives_mega)\n",
    "   result.append( one_param_constraints([Planck_SO,F_desi_tmp],basis,onePextensions) ) #mega tmp was included\n",
    "\n",
    "\n",
    "result = np.array(result)\n",
    "result /= one_param_constraints([Planck_SO,F_desi],basis,onePextensions) \n",
    "result = np.transpose(result)"
   ]
  },
  {
   "cell_type": "code",
   "execution_count": 14,
   "metadata": {},
   "outputs": [
    {
     "data": {
      "image/png": "[encoded data removed]",
      "text/plain": [
       "<Figure size 720x576 with 1 Axes>"
      ]
     },
     "metadata": {},
     "output_type": "display_data"
    }
   ],
   "source": [
    "fig,ax = plt.subplots(figsize=(10,8))\n",
    "\n",
    "ax.semilogy(kmaxs,result[0],lw=3,label=r'$h$')\n",
    "ax.semilogy(kmaxs,result[1],lw=3,label=r'$\\log(A_s)$')\n",
    "ax.semilogy(kmaxs,result[2],lw=3,label=r'$n_s$')\n",
    "ax.semilogy(kmaxs,result[3],lw=3,label=r'$\\omega_c$')\n",
    "ax.semilogy(kmaxs,result[4],lw=3,label=r'$\\omega_b$')\n",
    "ax.semilogy(kmaxs,result[5],lw=3,label=r'$\\tau$')\n",
    "ax.semilogy(kmaxs,result[6],lw=3,label=r'$\\alpha_s$')\n",
    "ax.semilogy(kmaxs,result[7],lw=3,label=r'$\\Omega_k$')\n",
    "ax.semilogy(kmaxs,result[8],lw=3,label=r'$N_\\text{eff}$')\n",
    "ax.semilogy(kmaxs,result[9],lw=3,label=r'$M_\\nu$')\n",
    "\n",
    "ax.set_yticks([1,10])\n",
    "ax.set_yticks([0.5,0.6,0.7,0.8,0.9,2,3,4,5,6,7,8,9],minor=True)\n",
    "ax.set_yticklabels(['1','10'])\n",
    "ax.set_yticklabels(['0.5','','0.7','','','2','','','5','','7','',''],minor=True)\n",
    "\n",
    "plt.xlabel(r'$k_\\text{max}/k_\\text{nl}$')\n",
    "plt.ylabel(r'$\\sigma_p(k_\\text{max}/k_\\text{nl})\\,/\\,\\sigma_p(1)$')\n",
    "plt.title(r'$\\sigma_z=0$',pad=10)\n",
    "plt.savefig('figures/one_parameter_constraints_vs_kmax.pdf',bbox_inches='tight')"
   ]
  },
  {
   "cell_type": "markdown",
   "metadata": {},
   "source": [
    "# Table for $\\Lambda$CDM and one-parameter extensions\n",
    "### Easy to copy and paste"
   ]
  },
  {
   "cell_type": "code",
   "execution_count": 15,
   "metadata": {},
   "outputs": [],
   "source": [
    "onePextensions = np.array(['h','log(A_s)','n_s','omega_cdm','omega_b','tau_reio',\\\n",
    "                                  'alpha_s','Omega_k','N_ur','m_ncdm'])"
   ]
  },
  {
   "cell_type": "code",
   "execution_count": null,
   "metadata": {
    "scrolled": false
   },
   "outputs": [],
   "source": [
    "scaling = np.array([1e4,1e3,1e3,1e4,1e5,1e3,1e3,1e3,1e3,1e3])\n",
    "\n",
    "print(pretty_table([Planck,F_desi],basis,onePextensions,scaling,name=r'\\textit{Planck} $+$ DESI &'))\n",
    "\n",
    "print(pretty_table([Planck,F_mega],basis,onePextensions,scaling,name=r'\\textit{Planck} $+$ MegaMapper &'))\n",
    "\n",
    "print(pretty_table([Planck,F_desi,F_mega],basis,onePextensions,scaling,name=r'\\textit{Planck} $+$ DESI $+$ MegaMapper &'))\n",
    "\n",
    "print(pretty_table([Planck,F_puma5opt],basis,onePextensions,scaling,Fs2=[Planck,F_puma5pess],HI=True,name=r'\\textit{Planck} $+$ PUMA-5K &'))\n",
    "\n",
    "print(pretty_table([Planck,F_desi,F_puma5opt],basis,onePextensions,scaling,Fs2=[Planck,F_desi,F_puma5pess],HI=True,name=r'\\textit{Planck} $+$ DESI $+$ PUMA-5K &'))\n",
    "\n",
    "print(pretty_table([Planck,F_puma32opt],basis,onePextensions,scaling,Fs2=[Planck,F_puma32pess],HI=True,name=r'\\textit{Planck} $+$ PUMA-32K &'))\n",
    "\n",
    "print(pretty_table([Planck,F_desi,F_puma32opt],basis,onePextensions,scaling,Fs2=[Planck,F_desi,F_puma32pess],HI=True,name=r'\\textit{Planck} $+$ DESI $+$ PUMA-32K &'))\n",
    "\n",
    "print(pretty_table([SO,F_euc],basis,onePextensions,scaling,name=r'SO $+$ Euclid &'))\n",
    "\n",
    "print(pretty_table([SO,F_mega],basis,onePextensions,scaling,name=r'SO $+$ MegaMapper &'))\n",
    "\n",
    "print(pretty_table([SO,F_euc,F_mega],basis,onePextensions,scaling,name=r'SO $+$ Euclid $+$ MegaMapper &'))\n",
    "\n",
    "print(pretty_table([SO,F_puma5opt],basis,onePextensions,scaling,Fs2=[SO,F_puma5pess],HI=True,name=r'SO $+$ PUMA-5K &'))\n",
    "\n",
    "print(pretty_table([SO,F_euc,F_puma5opt],basis,onePextensions,scaling,Fs2=[SO,F_euc,F_puma5pess],HI=True,name=r'SO $+$ Euclid $+$ PUMA-5K &'))\n",
    "\n",
    "print(pretty_table([SO,F_puma32opt],basis,onePextensions,scaling,Fs2=[SO,F_puma32pess],HI=True,name=r'SO $+$ PUMA-32K &'))\n",
    "\n",
    "print(pretty_table([SO,F_euc,F_puma32opt],basis,onePextensions,scaling,Fs2=[SO,F_euc,F_puma32pess],HI=True,name=r'SO $+$ Euclid $+$ PUMA-32K &'))"
   ]
  },
  {
   "cell_type": "code",
   "execution_count": 16,
   "metadata": {},
   "outputs": [],
   "source": [
    "onePextensions = np.array(['h','log(A_s)','n_s','omega_cdm','omega_b','tau_reio',\\\n",
    "                                  'alpha_s','Omega_k','N_ur','m_ncdm'])"
   ]
  },
  {
   "cell_type": "code",
   "execution_count": 17,
   "metadata": {},
   "outputs": [
    {
     "name": "stdout",
     "output_type": "stream",
     "text": [
      "\\textit{Planck} $+$ DESI & $26.59$ & $10.23$ & $2.56$ & $6.14$ & $10.02$ & $5.09$ & $13.3$ & $1.17$ & $88.37$ & $36.06$ \\\\\n",
      "\\textit{Planck} $+$ SO $+$ DESI & $20.47$ & $10.19$ & $2.09$ & $5.42$ & $4.08$ & $5.03$ & $12.89$ & $0.68$ & $41.36$ & $35.21$ \\\\\n",
      "\\textit{Planck} $+$ SO $+$ MSE & $19.97$ & $11.04$ & $2.2$ & $5.43$ & $3.79$ & $5.21$ & $5.86$ & $0.68$ & $38.13$ & $35.45$ \\\\\n",
      "\\textit{Planck} $+$ SO $+$ Euclid & $16.0$ & $7.02$ & $1.98$ & $4.33$ & $3.83$ & $3.53$ & $7.74$ & $0.6$ & $35.66$ & $26.77$ \\\\\n",
      "\\textit{Planck} $+$ SO $+$ Euclid $+$ MegaMapper & $11.03$ & $3.67$ & $1.65$ & $3.11$ & $3.37$ & $1.67$ & $2.81$ & $0.49$ & $27.61$ & $17.13$ \\\\\n",
      "LiteBIRD $+$ S4 $+$ Euclid $+$ MegaMapper & $10.53$ & $2.96$ & $1.49$ & $2.95$ & $2.08$ & $1.31$ & $2.64$ & $0.3$ & $15.73$ & $8.78$ \\\\\n",
      "LiteBIRD $+$ S4 $+$ Euclid $+$ PUMA-5K & $8.54$ & $2.55$ & $1.18$ & $2.41$ & $1.85$ & $1.13$ & $1.76$ & $0.26$ & $13.67$ & $7.74$ \\\\\n",
      "LiteBIRD $+$ S4 $+$ Euclid $+$ PUMA-32K & $6.73$ & $1.88$ & $0.85$ & $1.9$ & $1.66$ & $0.84$ & $0.95$ & $0.23$ & $12.52$ & $6.21$ \\\\\n"
     ]
    }
   ],
   "source": [
    "scaling = np.array([1e4,1e3,1e3,1e4,1e5,1e3,1e3,1e3,1e3,1e3])\n",
    "\n",
    "print(pretty_table([Planck,F_desi],basis,onePextensions,scaling,name=r'\\textit{Planck} $+$ DESI &'))\n",
    "\n",
    "print(pretty_table([Planck_SO,F_desi],basis,onePextensions,scaling,name=r'\\textit{Planck} $+$ SO $+$ DESI &'))\n",
    "\n",
    "print(pretty_table([Planck_SO,F_mse],basis,onePextensions,scaling,name=r'\\textit{Planck} $+$ SO $+$ MSE &'))\n",
    "\n",
    "print(pretty_table([Planck_SO,F_euc],basis,onePextensions,scaling,name=r'\\textit{Planck} $+$ SO $+$ Euclid &'))\n",
    "\n",
    "#print(pretty_table([Planck_SO,F_euc,F_desi],basis,onePextensions,scaling,name=r'\\textit{Planck} $+$ SO $+$ Euclid $+$ DESI &'))\n",
    "\n",
    "print(pretty_table([Planck_SO,F_euc,F_mega],basis,onePextensions,scaling,name=r'\\textit{Planck} $+$ SO $+$ Euclid $+$ MegaMapper &'))\n",
    "\n",
    "print(pretty_table([LiteBird_S4,F_euc,F_mega],basis,onePextensions,scaling,name=r'LiteBIRD $+$ S4 $+$ Euclid $+$ MegaMapper &'))\n",
    "\n",
    "print(pretty_table([LiteBird_S4,F_euc,F_puma5opt],basis,onePextensions,scaling,name=r'LiteBIRD $+$ S4 $+$ Euclid $+$ PUMA-5K &'))\n",
    "\n",
    "print(pretty_table([LiteBird_S4,F_euc,F_puma32opt],basis,onePextensions,scaling,name=r'LiteBIRD $+$ S4 $+$ Euclid $+$ PUMA-32K &'))\n"
   ]
  },
  {
   "cell_type": "markdown",
   "metadata": {},
   "source": [
    "# $f\\sigma_8$ constraints"
   ]
  },
  {
   "cell_type": "code",
   "execution_count": 33,
   "metadata": {},
   "outputs": [],
   "source": [
    "# old basis: 'h','log(A_s)','n_s','omega_cdm','omega_b','tau_reio','b','b2','bs','alpha0','alpha2','alpha4','N','sn2'\n",
    "\n",
    "# new basis: 'fs8','log(A_s)','n_s','omega_cdm','omega_b','tau_reio','b','b2','bs','alpha0','alpha2','alpha4','N','sn2'\n",
    "\n",
    "oldbasis = np.array(['h','log(A_s)','n_s','omega_cdm','omega_b','tau_reio','b','b2','bs','alpha0','alpha2','alpha4','N','sn2'])\n",
    "\n",
    "def fs8(z):\n",
    "   f = cosmo.scale_independent_growth_factor_f(z)\n",
    "   s8 = cosmo.sigma(8/params['h'],z)\n",
    "   return f*s8\n",
    "\n",
    "def dfs8dp(param,z):\n",
    "   flag = False\n",
    "   if param == 'h' or param == 'n_s' or param == 'omega_cdm' or param == 'omega_b' or param == 'tau_reio' or param =='log(A_s)':\n",
    "      if param == 'log(A_s)':\n",
    "         flag = True\n",
    "         param = 'A_s'\n",
    "      fid_val = params[param]\n",
    "      fid_fs8 = fs8(z)\n",
    "      cosmo.set({param: fid_val*1.01})\n",
    "      cosmo.compute()\n",
    "      new_fs8 = fs8(z)\n",
    "      cosmo.set({param: fid_val})\n",
    "      cosmo.compute()\n",
    "      if flag: return params[param]*(new_fs8-fid_fs8)/fid_val/0.01\n",
    "      return (new_fs8-fid_fs8)/fid_val/0.01\n",
    "   else: return 0\n",
    "\n",
    "def rotation_matrix(z,n=14):\n",
    "   result = np.zeros((n,n))\n",
    "   for i in range(14):\n",
    "      for j in range(14):\n",
    "         if i != 0 and i == j: result[i,j] = 1\n",
    "         if i == 0: result[i,j] = dfs8dp(oldbasis[j],z)\n",
    "   return result"
   ]
  },
  {
   "cell_type": "code",
   "execution_count": 48,
   "metadata": {},
   "outputs": [],
   "source": [
    "def get_relative_fs8_constraint(F,Rs,HI=False):\n",
    "   x = [0,6,7,8,9,10,11,12,13]\n",
    "   con = np.array([np.sqrt(np.linalg.inv((np.dot(np.transpose(np.linalg.inv(R)),np.dot((F)[:14,:14],np.linalg.inv(R)))))[0,0]) for R in Rs])\n",
    "   lib = np.array([np.sqrt(np.linalg.inv((np.dot(np.transpose(np.linalg.inv(R)),np.dot((Planck+F)[:14,:14],np.linalg.inv(R))))[x][:,x])[0,0]) for R in Rs])\n",
    "   if HI:\n",
    "      x = [0,1,2,3,4,5,6,7,8,9,10,11,12,13,-1]\n",
    "      con = np.array([np.sqrt(np.linalg.inv((np.dot(np.transpose(np.linalg.inv(R)),np.dot((Planck+F)[x][:,x],np.linalg.inv(R))))[x][:,x])[0,0]) for R in Rs])\n",
    "      y = [0,6,7,8,9,10,11,12,13,-1]\n",
    "      lib = np.array([np.sqrt(np.linalg.inv((np.dot(np.transpose(np.linalg.inv(R)),np.dot((Planck+F)[x][:,x],np.linalg.inv(R))))[y][:,y])[0,0]) for R in Rs])\n",
    "   return np.array([con,lib])"
   ]
  },
  {
   "cell_type": "code",
   "execution_count": 35,
   "metadata": {},
   "outputs": [],
   "source": [
    "Rs_desi = np.array([rotation_matrix(z) for z in desiCast.experiment.zcenters])"
   ]
  },
  {
   "cell_type": "code",
   "execution_count": 36,
   "metadata": {},
   "outputs": [],
   "source": [
    "Rs_mega = np.array([rotation_matrix(z) for z in megaCast.experiment.zcenters])"
   ]
  },
  {
   "cell_type": "code",
   "execution_count": 37,
   "metadata": {},
   "outputs": [],
   "source": [
    "Rs_euc = np.array([rotation_matrix(z) for z in eucCast.experiment.zcenters])"
   ]
  },
  {
   "cell_type": "code",
   "execution_count": 38,
   "metadata": {},
   "outputs": [],
   "source": [
    "Rs_mse = np.array([rotation_matrix(z) for z in mseCast.experiment.zcenters])"
   ]
  },
  {
   "cell_type": "code",
   "execution_count": 44,
   "metadata": {},
   "outputs": [],
   "source": [
    "Rs_puma = np.array([rotation_matrix(z,n=15) for z in puma5pessCast.experiment.zcenters])"
   ]
  },
  {
   "cell_type": "code",
   "execution_count": null,
   "metadata": {},
   "outputs": [],
   "source": [
    "Rs_general = np.array([rotation_matrix(z) for z in np.linspace(0.6,6,10)])"
   ]
  },
  {
   "cell_type": "code",
   "execution_count": 51,
   "metadata": {},
   "outputs": [
    {
     "data": {
      "image/png": "[encoded data removed]",
      "text/plain": [
       "<Figure size 576x432 with 1 Axes>"
      ]
     },
     "metadata": {},
     "output_type": "display_data"
    }
   ],
   "source": [
    "fig, ax = plt.subplots(figsize=(8,6))\n",
    "\n",
    "zs = desiCast.experiment.zcenters\n",
    "signal = np.array([fs8(z) for z in zs])\n",
    "err = get_relative_fs8_constraint(Planck+F_desi,Rs_desi)[1]\n",
    "err1 = get_relative_fs8_constraint(Planck+F_desi,Rs_desi)[0]\n",
    "ax.semilogy(zs,err/signal,c='C0',lw=3,marker='.',markersize=20,label='DESI')\n",
    "ax.semilogy(zs,err1/signal,c='C0',lw=3,marker='.',ls='--',markersize=20)\n",
    "\n",
    "zs = megaCast.experiment.zcenters\n",
    "signal = np.array([fs8(z) for z in zs])\n",
    "err = get_relative_fs8_constraint(Planck+F_mega,Rs_desi)[1]\n",
    "err1 = get_relative_fs8_constraint(Planck+F_mega,Rs_desi)[0]\n",
    "ax.semilogy(zs,err/signal,c='C1',lw=3,marker='.',markersize=20,label='MegaMapper')\n",
    "ax.semilogy(zs,err1/signal,c='C1',lw=3,marker='.',ls='--',markersize=20)\n",
    "\n",
    "zs = eucCast.experiment.zcenters\n",
    "signal = np.array([fs8(z) for z in zs])\n",
    "err = get_relative_fs8_constraint(Planck+F_euc,Rs_euc)[1]\n",
    "err1 = get_relative_fs8_constraint(Planck+F_euc,Rs_euc)[0]\n",
    "ax.semilogy(zs,err/signal,c='C2',lw=3,marker='.',markersize=20,label='Euclid')\n",
    "ax.semilogy(zs,err1/signal,c='C2',lw=3,marker='.',ls='--',markersize=20)\n",
    "\n",
    "zs = mseCast.experiment.zcenters\n",
    "signal = np.array([fs8(z) for z in zs])\n",
    "err = get_relative_fs8_constraint(Planck+F_mse,Rs_mse)[1]\n",
    "err1 = get_relative_fs8_constraint(Planck+F_mse,Rs_mse)[0]\n",
    "ax.semilogy(zs,err/signal,c='C3',lw=3,marker='.',markersize=20,label='MSE')\n",
    "ax.semilogy(zs,err1/signal,c='C3',lw=3,marker='.',ls='--',markersize=20)\n",
    "\n",
    "#zs = puma5pessCast.experiment.zcenters\n",
    "#signal = np.array([fs8(z) for z in zs])\n",
    "#err = get_relative_fs8_constraint(meld_fishers([Planck,F_puma5pess]),Rs_puma,HI=True)[1]\n",
    "#err1 = get_relative_fs8_constraint(meld_fishers([Planck,F_puma5pess]),Rs_puma,HI=True)[0]\n",
    "#ax.semilogy(zs,err/signal,c='C4',lw=3,marker='.',markersize=20,label='PUMA-5K')\n",
    "#ax.semilogy(zs,err1/signal,c='C4',lw=3,marker='.',ls='--',markersize=20)\n",
    "\n",
    "plt.legend(loc=(1,0),frameon=False)\n",
    "plt.ylabel(r'$\\sigma_{f\\sigma_8}/f\\sigma_8$')\n",
    "plt.xlabel(r'$z$')\n",
    "plt.savefig('figures/fs8.pdf',bbox_inches='tight')"
   ]
  },
  {
   "cell_type": "markdown",
   "metadata": {},
   "source": [
    "# Lensing"
   ]
  },
  {
   "cell_type": "code",
   "execution_count": null,
   "metadata": {},
   "outputs": [],
   "source": [
    "desiParams = {\n",
    "          'output': 'tCl lCl mPk',\n",
    "          'modes': 's',\n",
    "          'l_max_scalars': 2000,\n",
    "          'lensing': 'yes',\n",
    "          'P_k_max_h/Mpc': 40.,\n",
    "          'non linear':'halofit', \n",
    "          'z_pk': '0.0,10',\n",
    "          'A_s': 2.10732e-9,\n",
    "          'n_s': 0.96824,\n",
    "          'alpha_s': 0.,\n",
    "          'h': 0.6770,\n",
    "          'N_ur': 1.0196,\n",
    "          'N_ncdm': 2,\n",
    "          'm_ncdm': '0.01,0.05',\n",
    "          'tau_reio': 0.0568,\n",
    "          'omega_b': 0.02247,\n",
    "          'omega_cdm': 0.11923,\n",
    "          'Omega_k': 0.}\n",
    "\n",
    "desiCosmo = Class()\n",
    "desiCosmo.set(desiParams)\n",
    "desiCosmo.compute()\n",
    "\n",
    "DESI = experiment(zmin=0.6, zmax=1.7, nbins=3, fsky=0.5, sigma_z=0.0, ELG=True)\n",
    "\n",
    "desiCast = fisherForecast(experiment=DESI,cosmo=desiCosmo,params=desiParams,khmin=5.e-4,\\\n",
    "                          khmax=1.,Nk=1000,Nmu=200,velocileptors=True,name='DESI')"
   ]
  },
  {
   "cell_type": "code",
   "execution_count": null,
   "metadata": {},
   "outputs": [],
   "source": [
    "#'h','log(A_s)','n_s','omega_cdm','omega_b','tau_reio','b','b2','bs','alpha0','alpha2','alpha4','N','sn2','m_ncdm','N_ur','alpha_s','Omega_k'\n",
    "\n",
    "Cl_basis = np.array(['h','log(A_s)','n_s','omega_cdm','omega_b','tau_reio','b','b2','bs','alpha0','alpha2','alpha4','sn2','gamma'])\n",
    "# 60 96 133\n",
    "\n",
    "derivs_Ckk = np.array([np.genfromtxt('output/DESI/derivatives_Cl/Ckk_'+par+'_60_96.txt') for par in Cl_basis])\n",
    "\n",
    "derivs_Ckg_60_96 = np.array([np.genfromtxt('output/DESI/derivatives_Cl/Ckg_'+par+'_60_96.txt') for par in Cl_basis])\n",
    "derivs_Ckg_96_133 = np.array([np.genfromtxt('output/DESI/derivatives_Cl/Ckg_'+par+'_96_133.txt') for par in Cl_basis])\n",
    "derivs_Ckg_133_170 = np.array([np.genfromtxt('output/DESI/derivatives_Cl/Ckg_'+par+'_133_170.txt') for par in Cl_basis])\n",
    "\n",
    "derivs_Cgg_60_96 = np.array([np.genfromtxt('output/DESI/derivatives_Cl/Cgg_'+par+'_60_96.txt') for par in Cl_basis])\n",
    "derivs_Cgg_96_133 = np.array([np.genfromtxt('output/DESI/derivatives_Cl/Cgg_'+par+'_96_133.txt') for par in Cl_basis])\n",
    "derivs_Cgg_133_170 = np.array([np.genfromtxt('output/DESI/derivatives_Cl/Cgg_'+par+'_133_170.txt') for par in Cl_basis])"
   ]
  },
  {
   "cell_type": "code",
   "execution_count": null,
   "metadata": {},
   "outputs": [],
   "source": [
    "Ckk = compute_lensing_Cell(desiCast,'k','k',3,4)"
   ]
  },
  {
   "cell_type": "code",
   "execution_count": null,
   "metadata": {},
   "outputs": [],
   "source": [
    "Ckg_60_96 = compute_lensing_Cell(desiCast,'k','g',0.6,0.6+11./30.)\n",
    "Ckg_96_133 = compute_lensing_Cell(desiCast,'k','g',0.6+11./30.,0.6+22./30.)\n",
    "Ckg_133_170 = compute_lensing_Cell(desiCast,'k','g',0.6+22./30.,1.7)"
   ]
  },
  {
   "cell_type": "code",
   "execution_count": null,
   "metadata": {},
   "outputs": [],
   "source": [
    "Cgg_60_96 = compute_lensing_Cell(desiCast,'g','g',0.6,0.6+11./30.)\n",
    "Cgg_96_133 = compute_lensing_Cell(desiCast,'g','g',0.6+11./30.,0.6+22./30.)\n",
    "Cgg_133_170 = compute_lensing_Cell(desiCast,'g','g',0.6+22./30.,1.7)"
   ]
  },
  {
   "cell_type": "code",
   "execution_count": null,
   "metadata": {},
   "outputs": [],
   "source": [
    "def covariance(ell):\n",
    "   i = np.where(ell == desiCast.ell)[0][0]\n",
    "   result = np.array([[Ckk[i],         Ckg_60_96[i], Ckg_96_133[i], Ckg_133_170[i] ],\n",
    "                     [Ckg_60_96[i],   Cgg_60_96[i], 0         , 0           ],\n",
    "                     [Ckg_96_133[i],  0        , Cgg_96_133[i], 0           ],\n",
    "                     [Ckg_133_170[i], 0        , 0         , Cgg_133_170[i] ]])\n",
    "   return result\n",
    "\n",
    "def deriv_covariance(ell,param):\n",
    "   i = np.where(ell == desiCast.ell)[0][0]\n",
    "   j = np.where(param == Cl_basis)[0][0]\n",
    "   result = np.array([[derivs_Ckk[j][i],        derivs_Ckg_60_96[j][i], derivs_Ckg_96_133[j][i], derivs_Ckg_133_170[j][i] ],\n",
    "                     [derivs_Ckg_60_96[j][i],   derivs_Cgg_60_96[j][i], 0         , 0           ],\n",
    "                     [derivs_Ckg_96_133[j][i],  0        , derivs_Cgg_96_133[j][i], 0           ],\n",
    "                     [derivs_Ckg_133_170[j][i], 0        , 0         , derivs_Cgg_133_170[j][i] ]])\n",
    "   return result\n",
    "\n",
    "def F(ell):\n",
    "   N = len(Cl_basis)\n",
    "   result = np.zeros((N,N))\n",
    "   for i in range(N):\n",
    "      for j in range(N):\n",
    "         d1 = deriv_covariance(ell,Cl_basis[i])\n",
    "         d2 = deriv_covariance(ell,Cl_basis[j])\n",
    "         cinv = np.linalg.inv(covariance(ell))\n",
    "         result[i,j] = 0.5 * np.trace(np.dot(np.dot(cinv,d1),np.dot(cinv,d2)))\n",
    "   return result\n",
    "\n",
    "F_Cl = F(30)\n",
    "for i in range(30,1000): F_Cl += F(i)"
   ]
  },
  {
   "cell_type": "code",
   "execution_count": null,
   "metadata": {},
   "outputs": [],
   "source": [
    "Fprime = meld_fishers([Planck[:6,:6],F_Cl])"
   ]
  },
  {
   "cell_type": "code",
   "execution_count": null,
   "metadata": {},
   "outputs": [],
   "source": [
    "x = [0,1,2,3,4,5,6,7,8,9,10,13]\n",
    "y = [0,1,2,3,4,5,-1]\n",
    "print(Cl_basis[y])\n",
    "np.sqrt(np.diag(np.linalg.inv(Fprime[x][:,x]))[y])"
   ]
  },
  {
   "cell_type": "markdown",
   "metadata": {},
   "source": [
    "## Distance measures"
   ]
  },
  {
   "cell_type": "code",
   "execution_count": null,
   "metadata": {},
   "outputs": [],
   "source": [
    "def Da(z): return fishcast.cosmo.angular_distance(z)\n",
    "\n",
    "def H(z): return fishcast.cosmo.Hubble(z)*(299792.458)/fishcast.params['h']\n",
    "\n",
    "def sigmaDa(F,HI=False):\n",
    "   x = [0,1,2,3,4,5,6,7,8,9,10,11,12,13,18]\n",
    "   if HI: x = [0,1,2,3,4,5,6,7,8,9,10,11,12,13,20,18]\n",
    "   return np.sqrt(np.linalg.inv(meld_fishers([Planck,F[x][:,x]]))[-1,-1])\n",
    "\n",
    "def sigmaHz(F,HI=False):\n",
    "   x = [0,1,2,3,4,5,6,7,8,9,10,11,12,13,17]\n",
    "   if HI: x = [0,1,2,3,4,5,6,7,8,9,10,11,12,13,20,17]\n",
    "   return np.sqrt(np.linalg.inv(meld_fishers([Planck,F[x][:,x]]) )[-1,-1])\n",
    "\n",
    "da_desi = np.array([sigmaDa(desiCast.gen_fisher(basis,kmax_knl=0.5,derivatives=derivatives_desi,zbins=[i])) for i in range(3)])\n",
    "da_mega = np.array([sigmaDa(megaCast.gen_fisher(basis,kmax_knl=0.5,derivatives=derivatives_mega,zbins=[i])) for i in range(3)])\n",
    "da_euc = np.array([sigmaDa(eucCast.gen_fisher(basis,kmax_knl=0.5,derivatives=derivatives_euc,zbins=[i])) for i in range(5)])\n",
    "da_puma5opt = np.array([sigmaDa(puma5optCast.gen_fisher(basis_hi,kmax_knl=0.5,derivatives=derivatives_puma,zbins=[i]),HI=True) for i in range(8)])\n",
    "da_puma5pess = np.array([sigmaDa(puma5pessCast.gen_fisher(basis_hi,kmax_knl=0.5,derivatives=derivatives_puma,zbins=[i]),HI=True) for i in range(8)])\n",
    "da_puma32opt = np.array([sigmaDa(puma32optCast.gen_fisher(basis_hi,kmax_knl=0.5,derivatives=derivatives_puma,zbins=[i]),HI=True) for i in range(8)])\n",
    "da_puma32pess = np.array([sigmaDa(puma32pessCast.gen_fisher(basis_hi,kmax_knl=0.5,derivatives=derivatives_puma,zbins=[i]),HI=True) for i in range(8)])\n",
    "\n",
    "hz_desi = np.array([sigmaHz(desiCast.gen_fisher(basis,kmax_knl=0.5,derivatives=derivatives_desi,zbins=[i])) for i in range(3)])\n",
    "hz_mega = np.array([sigmaHz(megaCast.gen_fisher(basis,kmax_knl=0.5,derivatives=derivatives_mega,zbins=[i])) for i in range(3)])\n",
    "hz_euc = np.array([sigmaHz(eucCast.gen_fisher(basis,kmax_knl=0.5,derivatives=derivatives_euc,zbins=[i])) for i in range(5)])\n",
    "hz_puma5opt = np.array([sigmaHz(puma5optCast.gen_fisher(basis_hi,kmax_knl=0.5,derivatives=derivatives_puma,zbins=[i]),HI=True) for i in range(8)])\n",
    "hz_puma5pess = np.array([sigmaHz(puma5pessCast.gen_fisher(basis_hi,kmax_knl=0.5,derivatives=derivatives_puma,zbins=[i]),HI=True) for i in range(8)])\n",
    "hz_puma32opt = np.array([sigmaHz(puma32optCast.gen_fisher(basis_hi,kmax_knl=0.5,derivatives=derivatives_puma,zbins=[i]),HI=True) for i in range(8)])\n",
    "hz_puma32pess = np.array([sigmaHz(puma32pessCast.gen_fisher(basis_hi,kmax_knl=0.5,derivatives=derivatives_puma,zbins=[i]),HI=True) for i in range(8)])"
   ]
  },
  {
   "cell_type": "code",
   "execution_count": null,
   "metadata": {},
   "outputs": [],
   "source": [
    "def plot_steps(sigma,Das,zs,c,label):\n",
    "   sigma = np.array([sigma[0]]+list(sigma)+[sigma[-1]])\n",
    "   Das = np.array([Das[0]]+list(Das)+[Das[-1]])\n",
    "   d = zs[1]-zs[0]\n",
    "   zs = np.array([zs[0]-d/2]+list(zs)+[zs[-1]+d/2])\n",
    "   plt.step(zs,sigma*100/Das,lw=4,c=c,where='mid',label=label)\n",
    "\n",
    "def filled_steps(sigma1,sigma2,Das,zs,c,label):\n",
    "   plot_steps(sigma1,Das,zs,c,None)\n",
    "   plot_steps(sigma2,Das,zs,c,None)\n",
    "   sigma1 = np.array([sigma1[0]]+list(sigma1)+[sigma1[-1]])\n",
    "   sigma2 = np.array([sigma2[0]]+list(sigma2)+[sigma2[-1]])\n",
    "   Das = np.array([Das[0]]+list(Das)+[Das[-1]])\n",
    "   d = zs[1]-zs[0]\n",
    "   zs = np.array([zs[0]-d/2]+list(zs)+[zs[-1]+d/2])\n",
    "   plt.fill_between(zs,sigma1*100/Das,sigma2*100/Das,color=c,alpha=0.3,step='mid',label=label)"
   ]
  },
  {
   "cell_type": "code",
   "execution_count": null,
   "metadata": {},
   "outputs": [],
   "source": [
    "plt.figure(figsize=(9,7))\n",
    "\n",
    "zs = desiCast.experiment.zcenters\n",
    "Das = np.array([Da(z) for z in zs])\n",
    "plot_steps(da_desi,Das,zs,'C1','DESI')\n",
    "\n",
    "zs = eucCast.experiment.zcenters\n",
    "Das = np.array([Da(z) for z in zs])\n",
    "plot_steps(da_euc,Das,zs,'C2','Euclid')\n",
    "\n",
    "zs = puma5optCast.experiment.zcenters\n",
    "Das = np.array([Da(z) for z in zs])\n",
    "filled_steps(da_puma5opt,da_puma5pess,Das,zs,'C3','PUMA-5K')\n",
    "\n",
    "zs = puma32optCast.experiment.zcenters\n",
    "Das = np.array([Da(z) for z in zs])\n",
    "filled_steps(da_puma32opt,da_puma32pess,Das,zs,'C4','PUMA-32K')\n",
    "\n",
    "zs = megaCast.experiment.zcenters\n",
    "Das = np.array([Da(z) for z in zs])\n",
    "plot_steps(da_mega,Das,zs,'C0','MegaMapper')\n",
    "\n",
    "plt.tight_layout()\n",
    "\n",
    "plt.legend(loc='upper left',frameon=False)\n",
    "plt.xlabel(r'$z$')\n",
    "plt.ylabel(r'$\\sigma\\left(D_A(z)\\right)/D_A(z)\\,\\,[\\%]$')\n",
    "\n",
    "plt.savefig('figures/da_constraints.pdf',bbox_inches='tight')"
   ]
  },
  {
   "cell_type": "code",
   "execution_count": null,
   "metadata": {},
   "outputs": [],
   "source": [
    "plt.figure(figsize=(9,7))\n",
    "\n",
    "zs = desiCast.experiment.zcenters\n",
    "Das = np.array([H(z) for z in zs])\n",
    "plot_steps(hz_desi,Das,zs,'C1','DESI')\n",
    "\n",
    "zs = eucCast.experiment.zcenters\n",
    "Das = np.array([H(z) for z in zs])\n",
    "plot_steps(hz_euc,Das,zs,'C2','Euclid')\n",
    "\n",
    "zs = puma5optCast.experiment.zcenters\n",
    "Das = np.array([H(z) for z in zs])\n",
    "filled_steps(hz_puma5opt,hz_puma5pess,Das,zs,'C3','PUMA-5K')\n",
    "\n",
    "zs = puma32optCast.experiment.zcenters\n",
    "Das = np.array([H(z) for z in zs])\n",
    "filled_steps(hz_puma32opt,hz_puma32pess,Das,zs,'C4','PUMA-32K')\n",
    "\n",
    "zs = megaCast.experiment.zcenters\n",
    "Das = np.array([H(z) for z in zs])\n",
    "plot_steps(hz_mega,Das,zs,'C0','MegaMapper')\n",
    "\n",
    "plt.tight_layout()\n",
    "\n",
    "plt.xlabel(r'$z$')\n",
    "plt.ylabel(r'$\\sigma\\left(H(z)\\right)/H(z)\\,\\,[\\%]$')\n",
    "\n",
    "plt.savefig('figures/hz_constraints.pdf',bbox_inches='tight')"
   ]
  },
  {
   "cell_type": "markdown",
   "metadata": {},
   "source": [
    "## Non-linear vs linear derivatives"
   ]
  },
  {
   "cell_type": "code",
   "execution_count": 57,
   "metadata": {},
   "outputs": [],
   "source": [
    "params2 = {'output': 'mPk','P_k_max_h/Mpc': 40.,'non linear':'halofit', \n",
    "          'z_pk': '0.0,10','A_s': 2.10732e-9,'n_s': 0.96824,\n",
    "          'alpha_s': 0.,'h': 0.6770, 'N_ur': 1.0196,\n",
    "          'N_ncdm': 2,'m_ncdm': '0.01,0.05','tau_reio': 0.0568,\n",
    "          'omega_b': 0.02247,'omega_cdm': 0.11923,'Omega_k': 0.}\n",
    "\n",
    "cosmo2 = Class()\n",
    "cosmo2.set(params2)\n",
    "cosmo2.compute()\n",
    "#\n",
    "exp = experiment(zmin=2., zmax=5., nbins=6, fsky=0.34, sigma_z=0.0, LBG=True)\n",
    "#\n",
    "fLinear = fisherForecast(experiment=exp,cosmo=cosmo2,params=params2,khmin=5.e-4,\\\n",
    "                             khmax=1.,Nk=1000,Nmu=200,velocileptors=False,linear=True,name='Linear')"
   ]
  },
  {
   "cell_type": "code",
   "execution_count": 58,
   "metadata": {},
   "outputs": [],
   "source": [
    "x = compute_tracer_power_spectrum(fishcast,2.25)\n",
    "ptFiducial = fishcast.get_f_at_fixed_mu(x,0)\n",
    "x = compute_tracer_power_spectrum(fLinear,2.25)\n",
    "linearFiducial = fLinear.get_f_at_fixed_mu(x,0)"
   ]
  },
  {
   "cell_type": "code",
   "execution_count": 59,
   "metadata": {},
   "outputs": [
    {
     "ename": "OSError",
     "evalue": "output/MegaMapper/derivatives/log(A_s)_225.txt not found.",
     "output_type": "error",
     "traceback": [
      "\u001b[0;31m---------------------------------------------------------------------------\u001b[0m",
      "\u001b[0;31mOSError\u001b[0m                                   Traceback (most recent call last)",
      "\u001b[0;32m<ipython-input-59-b8b8494cbad1>\u001b[0m in \u001b[0;36m<module>\u001b[0;34m()\u001b[0m\n\u001b[1;32m     13\u001b[0m \u001b[0;34m\u001b[0m\u001b[0m\n\u001b[1;32m     14\u001b[0m \u001b[0;34m\u001b[0m\u001b[0m\n\u001b[0;32m---> 15\u001b[0;31m \u001b[0mget_derivatives\u001b[0m\u001b[0;34m(\u001b[0m\u001b[0;36m0\u001b[0m\u001b[0;34m,\u001b[0m\u001b[0;36m0\u001b[0m\u001b[0;34m,\u001b[0m\u001b[0;34m'log(A_s)'\u001b[0m\u001b[0;34m)\u001b[0m\u001b[0;34m\u001b[0m\u001b[0m\n\u001b[0m\u001b[1;32m     16\u001b[0m \u001b[0mget_derivatives\u001b[0m\u001b[0;34m(\u001b[0m\u001b[0;36m0\u001b[0m\u001b[0;34m,\u001b[0m\u001b[0;36m1\u001b[0m\u001b[0;34m,\u001b[0m\u001b[0;34m'm_ncdm'\u001b[0m\u001b[0;34m)\u001b[0m\u001b[0;34m\u001b[0m\u001b[0m\n\u001b[1;32m     17\u001b[0m \u001b[0mget_derivatives\u001b[0m\u001b[0;34m(\u001b[0m\u001b[0;36m1\u001b[0m\u001b[0;34m,\u001b[0m\u001b[0;36m0\u001b[0m\u001b[0;34m,\u001b[0m\u001b[0;34m'omega_cdm'\u001b[0m\u001b[0;34m)\u001b[0m\u001b[0;34m\u001b[0m\u001b[0m\n",
      "\u001b[0;32m<ipython-input-59-b8b8494cbad1>\u001b[0m in \u001b[0;36mget_derivatives\u001b[0;34m(i, j, param)\u001b[0m\n\u001b[1;32m      4\u001b[0m \u001b[0;34m\u001b[0m\u001b[0m\n\u001b[1;32m      5\u001b[0m \u001b[0;32mdef\u001b[0m \u001b[0mget_derivatives\u001b[0m\u001b[0;34m(\u001b[0m\u001b[0mi\u001b[0m\u001b[0;34m,\u001b[0m\u001b[0mj\u001b[0m\u001b[0;34m,\u001b[0m\u001b[0mparam\u001b[0m\u001b[0;34m)\u001b[0m\u001b[0;34m:\u001b[0m\u001b[0;34m\u001b[0m\u001b[0m\n\u001b[0;32m----> 6\u001b[0;31m    \u001b[0mx\u001b[0m \u001b[0;34m=\u001b[0m \u001b[0mnp\u001b[0m\u001b[0;34m.\u001b[0m\u001b[0mgenfromtxt\u001b[0m\u001b[0;34m(\u001b[0m\u001b[0;34m'output/MegaMapper/derivatives/'\u001b[0m\u001b[0;34m+\u001b[0m\u001b[0mparam\u001b[0m\u001b[0;34m+\u001b[0m\u001b[0;34m'_225.txt'\u001b[0m\u001b[0;34m)\u001b[0m\u001b[0;34m\u001b[0m\u001b[0m\n\u001b[0m\u001b[1;32m      7\u001b[0m    \u001b[0mx1\u001b[0m \u001b[0;34m=\u001b[0m \u001b[0mfishcast\u001b[0m\u001b[0;34m.\u001b[0m\u001b[0mget_f_at_fixed_mu\u001b[0m\u001b[0;34m(\u001b[0m\u001b[0mx\u001b[0m\u001b[0;34m,\u001b[0m\u001b[0;36m0\u001b[0m\u001b[0;34m)\u001b[0m\u001b[0;34m\u001b[0m\u001b[0m\n\u001b[1;32m      8\u001b[0m    \u001b[0mx\u001b[0m \u001b[0;34m=\u001b[0m \u001b[0mfLinear\u001b[0m\u001b[0;34m.\u001b[0m\u001b[0mcompute_dPdp\u001b[0m\u001b[0;34m(\u001b[0m\u001b[0mparam\u001b[0m\u001b[0;34m,\u001b[0m\u001b[0;36m2.25\u001b[0m\u001b[0;34m,\u001b[0m\u001b[0mfive_point\u001b[0m\u001b[0;34m=\u001b[0m\u001b[0;32mTrue\u001b[0m\u001b[0;34m)\u001b[0m\u001b[0;34m\u001b[0m\u001b[0m\n",
      "\u001b[0;32m~/anaconda3/lib/python3.6/site-packages/numpy/lib/npyio.py\u001b[0m in \u001b[0;36mgenfromtxt\u001b[0;34m(fname, dtype, comments, delimiter, skip_header, skip_footer, converters, missing_values, filling_values, usecols, names, excludelist, deletechars, replace_space, autostrip, case_sensitive, defaultfmt, unpack, usemask, loose, invalid_raise, max_rows, encoding)\u001b[0m\n\u001b[1;32m   1747\u001b[0m             \u001b[0mfname\u001b[0m \u001b[0;34m=\u001b[0m \u001b[0mos_fspath\u001b[0m\u001b[0;34m(\u001b[0m\u001b[0mfname\u001b[0m\u001b[0;34m)\u001b[0m\u001b[0;34m\u001b[0m\u001b[0m\n\u001b[1;32m   1748\u001b[0m         \u001b[0;32mif\u001b[0m \u001b[0misinstance\u001b[0m\u001b[0;34m(\u001b[0m\u001b[0mfname\u001b[0m\u001b[0;34m,\u001b[0m \u001b[0mstr\u001b[0m\u001b[0;34m)\u001b[0m\u001b[0;34m:\u001b[0m\u001b[0;34m\u001b[0m\u001b[0m\n\u001b[0;32m-> 1749\u001b[0;31m             \u001b[0mfid\u001b[0m \u001b[0;34m=\u001b[0m \u001b[0mnp\u001b[0m\u001b[0;34m.\u001b[0m\u001b[0mlib\u001b[0m\u001b[0;34m.\u001b[0m\u001b[0m_datasource\u001b[0m\u001b[0;34m.\u001b[0m\u001b[0mopen\u001b[0m\u001b[0;34m(\u001b[0m\u001b[0mfname\u001b[0m\u001b[0;34m,\u001b[0m \u001b[0;34m'rt'\u001b[0m\u001b[0;34m,\u001b[0m \u001b[0mencoding\u001b[0m\u001b[0;34m=\u001b[0m\u001b[0mencoding\u001b[0m\u001b[0;34m)\u001b[0m\u001b[0;34m\u001b[0m\u001b[0m\n\u001b[0m\u001b[1;32m   1750\u001b[0m             \u001b[0mfid_ctx\u001b[0m \u001b[0;34m=\u001b[0m \u001b[0mcontextlib\u001b[0m\u001b[0;34m.\u001b[0m\u001b[0mclosing\u001b[0m\u001b[0;34m(\u001b[0m\u001b[0mfid\u001b[0m\u001b[0;34m)\u001b[0m\u001b[0;34m\u001b[0m\u001b[0m\n\u001b[1;32m   1751\u001b[0m         \u001b[0;32melse\u001b[0m\u001b[0;34m:\u001b[0m\u001b[0;34m\u001b[0m\u001b[0m\n",
      "\u001b[0;32m~/anaconda3/lib/python3.6/site-packages/numpy/lib/_datasource.py\u001b[0m in \u001b[0;36mopen\u001b[0;34m(path, mode, destpath, encoding, newline)\u001b[0m\n\u001b[1;32m    193\u001b[0m \u001b[0;34m\u001b[0m\u001b[0m\n\u001b[1;32m    194\u001b[0m     \u001b[0mds\u001b[0m \u001b[0;34m=\u001b[0m \u001b[0mDataSource\u001b[0m\u001b[0;34m(\u001b[0m\u001b[0mdestpath\u001b[0m\u001b[0;34m)\u001b[0m\u001b[0;34m\u001b[0m\u001b[0m\n\u001b[0;32m--> 195\u001b[0;31m     \u001b[0;32mreturn\u001b[0m \u001b[0mds\u001b[0m\u001b[0;34m.\u001b[0m\u001b[0mopen\u001b[0m\u001b[0;34m(\u001b[0m\u001b[0mpath\u001b[0m\u001b[0;34m,\u001b[0m \u001b[0mmode\u001b[0m\u001b[0;34m,\u001b[0m \u001b[0mencoding\u001b[0m\u001b[0;34m=\u001b[0m\u001b[0mencoding\u001b[0m\u001b[0;34m,\u001b[0m \u001b[0mnewline\u001b[0m\u001b[0;34m=\u001b[0m\u001b[0mnewline\u001b[0m\u001b[0;34m)\u001b[0m\u001b[0;34m\u001b[0m\u001b[0m\n\u001b[0m\u001b[1;32m    196\u001b[0m \u001b[0;34m\u001b[0m\u001b[0m\n\u001b[1;32m    197\u001b[0m \u001b[0;34m\u001b[0m\u001b[0m\n",
      "\u001b[0;32m~/anaconda3/lib/python3.6/site-packages/numpy/lib/_datasource.py\u001b[0m in \u001b[0;36mopen\u001b[0;34m(self, path, mode, encoding, newline)\u001b[0m\n\u001b[1;32m    533\u001b[0m                                       encoding=encoding, newline=newline)\n\u001b[1;32m    534\u001b[0m         \u001b[0;32melse\u001b[0m\u001b[0;34m:\u001b[0m\u001b[0;34m\u001b[0m\u001b[0m\n\u001b[0;32m--> 535\u001b[0;31m             \u001b[0;32mraise\u001b[0m \u001b[0mIOError\u001b[0m\u001b[0;34m(\u001b[0m\u001b[0;34m\"%s not found.\"\u001b[0m \u001b[0;34m%\u001b[0m \u001b[0mpath\u001b[0m\u001b[0;34m)\u001b[0m\u001b[0;34m\u001b[0m\u001b[0m\n\u001b[0m\u001b[1;32m    536\u001b[0m \u001b[0;34m\u001b[0m\u001b[0m\n\u001b[1;32m    537\u001b[0m \u001b[0;34m\u001b[0m\u001b[0m\n",
      "\u001b[0;31mOSError\u001b[0m: output/MegaMapper/derivatives/log(A_s)_225.txt not found."
     ]
    },
    {
     "data": {
      "image/png": "[encoded data removed]",
      "text/plain": [
       "<Figure size 1152x432 with 4 Axes>"
      ]
     },
     "metadata": {},
     "output_type": "display_data"
    }
   ],
   "source": [
    "k = np.linspace(0.0008,0.5*0.14*(1+3.25),1000)\n",
    "\n",
    "fig,axs = plt.subplots(2,2,figsize=(16,6), gridspec_kw={'hspace': 0.2,'wspace':0.2})\n",
    "\n",
    "def get_derivatives(i,j,param):\n",
    "   x = np.genfromtxt('output/MegaMapper/derivatives/'+param+'_225.txt')\n",
    "   x1 = fishcast.get_f_at_fixed_mu(x,0)\n",
    "   x = fLinear.compute_dPdp(param,2.25,five_point=True)\n",
    "   x2 = fLinear.get_f_at_fixed_mu(x,0)\n",
    "   axs[i,j].semilogx(k,x1(k)/ptFiducial(k),lw=4,c='C0')\n",
    "   axs[i,j].semilogx(k,x2(k)/linearFiducial(k),lw=4,ls='--',c='C1')\n",
    "   return\n",
    "   \n",
    "\n",
    "get_derivatives(0,0,'log(A_s)')\n",
    "get_derivatives(0,1,'m_ncdm')\n",
    "get_derivatives(1,0,'omega_cdm')\n",
    "get_derivatives(1,1,'N_ur')\n",
    "\n",
    "axs[0,0].set_xticklabels([])\n",
    "axs[0,1].set_xticklabels([])\n",
    "\n",
    "axs[0,0].plot([],[],c='C0',label=r'Non-linear',lw=4)\n",
    "axs[0,0].plot([],[],c='C1',label='Linear',lw=4,ls='--')\n",
    "axs[0,0].legend(loc=(0,1.05),frameon=False,ncol=3)\n",
    "\n",
    "axs[0,0].text(0.03,0.8,r'$\\partial_{\\log(A_s)} \\log P_{gg}$',transform=axs[0,0].transAxes)\n",
    "axs[0,1].text(0.03,0.2,r'$\\partial_{M_\\nu}\\log P_{gg}$',transform=axs[0,1].transAxes)\n",
    "axs[1,0].text(0.03,0.2,r'$\\partial_{\\omega_c} \\log P_{gg}$',transform=axs[1,0].transAxes)\n",
    "axs[1,1].text(0.03,0.2,r'$\\partial_{N_\\text{eff}} \\log P_{gg}$',transform=axs[1,1].transAxes)\n",
    "\n",
    "axs[0,0].set_xlim(k[0],k[-1])\n",
    "axs[0,1].set_xlim(k[0],k[-1])\n",
    "axs[1,0].set_xlim(k[0],k[-1])\n",
    "axs[1,1].set_xlim(k[0],k[-1])\n",
    "\n",
    "axs[1,0].set_xlabel(r'$k$ [$h\\,$Mpc$^{-1}$]')\n",
    "axs[1,1].set_xlabel(r'$k$ [$h\\,$Mpc$^{-1}$]')\n",
    "\n",
    "plt.tight_layout()\n",
    "plt.savefig('figures/lin_vs_nonlin.pdf',bbox_inches='tight')"
   ]
  },
  {
   "cell_type": "markdown",
   "metadata": {},
   "source": [
    "## When do redshift errors start to matter?"
   ]
  },
  {
   "cell_type": "code",
   "execution_count": 60,
   "metadata": {},
   "outputs": [],
   "source": [
    "def H(z): return cosmo.Hubble(z)*(299792.458)/params['h']\n",
    "def sigma_min(z): return np.sqrt(fishcast.Sigma2(z)) * H(z) / (1+z) / 299792.458"
   ]
  },
  {
   "cell_type": "code",
   "execution_count": 61,
   "metadata": {},
   "outputs": [
    {
     "data": {
      "image/png": "[encoded data removed]",
      "text/plain": [
       "<Figure size 864x360 with 1 Axes>"
      ]
     },
     "metadata": {},
     "output_type": "display_data"
    }
   ],
   "source": [
    "fig, ax = plt.subplots(figsize=(12,5))\n",
    "\n",
    "zs = np.linspace(0,6)\n",
    "ax.semilogy(zs,[sigma_min(z)*100. for z in zs],lw=3,c='k',label=r'$\\frac{\\Sigma(z)H(z)}{c(1+z)}$')\n",
    "ax.set_xlim(0,6)\n",
    "ax.set_xlabel(r'$z$')\n",
    "ax.set_ylabel(r'[\\%]')\n",
    "\n",
    "def conversion(x): return x*3.e5/100./100.\n",
    "def conversion_inverse(x): return x*100.*100./3.e5\n",
    "\n",
    "secax = ax.secondary_yaxis('right', functions=(conversion,conversion_inverse))\n",
    "secax.set_ylabel(r'[100 km s$^{-1}$]')\n",
    "\n",
    "ax.set_yticks([0.1])\n",
    "ax.set_yticks([0.05,0.06,0.07,0.08,0.09,0.2],minor=True)\n",
    "ax.set_yticklabels(['0.1'])\n",
    "ax.set_yticklabels(['0.05','0.06','','0.08','','0.2'],minor=True)\n",
    "\n",
    "secax.set_yticks(conversion(np.array([0.1])))\n",
    "secax.set_yticks(conversion(np.array([0.05,0.06,0.07,0.08,0.09,0.2])),minor=True)\n",
    "secax.set_yticklabels([str(conversion(0.1))])\n",
    "secax.set_yticklabels([str(conversion(0.05)),str(conversion(0.06)),'',str(conversion(0.08)),'',str(conversion(0.2))],minor=True)\n",
    "\n",
    "plt.legend(loc='upper right',framealpha=1)\n",
    "plt.grid(which='both')\n",
    "plt.tight_layout()\n",
    "plt.savefig('figures/redshift_uncertainty.pdf',bbox_inches='tight')"
   ]
  },
  {
   "cell_type": "markdown",
   "metadata": {},
   "source": [
    "# $k_\\text{max}$ and $\\bar{n}$ vs $z$"
   ]
  },
  {
   "cell_type": "code",
   "execution_count": 62,
   "metadata": {},
   "outputs": [],
   "source": [
    "zs = np.linspace(2,5,100)\n",
    "knl = np.array([1./np.sqrt(fishcast.Sigma2(z)) for z in zs])  # h/Mpc\n",
    "n = np.array([LBGn(fishcast, z) for z in zs])\n",
    "b = np.array([LBGb(fishcast,z) for z in zs])\n",
    "chi = np.array([(1.+z)*cosmo.angular_distance(z) for z in zs]) * params['h']  # Mpc/h"
   ]
  },
  {
   "cell_type": "code",
   "execution_count": 63,
   "metadata": {},
   "outputs": [
    {
     "data": {
      "image/png": "[encoded data removed]",
      "text/plain": [
       "<Figure size 576x432 with 2 Axes>"
      ]
     },
     "metadata": {},
     "output_type": "display_data"
    }
   ],
   "source": [
    "fig,ax = plt.subplots(figsize=(8,6))\n",
    "ax.plot(zs,knl,color='C0',lw=3,label='$1$')\n",
    "ax.plot(zs,0.5*knl,color='C0',lw=3,label='$0.5$',ls='dashed')\n",
    "ax.plot(zs,0.3*knl,color='C0',lw=3,label='$0.3$',ls='dashdot')\n",
    "ax.plot(zs,0.1*knl,color='C0',lw=3,label='$0.1$',ls='dotted')\n",
    "# set x-axis label\n",
    "ax.set_xlabel(r'$z$')\n",
    "# set y-axis label\n",
    "ax.set_ylabel(r'$k_\\text{max}$ [$h\\,{\\rm Mpc}^{-1}$]',color='C0')\n",
    "ax.set_yticks(ticks=np.linspace(0,1,11))\n",
    "# twin object for two different y-axis on the sample plot\n",
    "ax2=ax.twinx()\n",
    "ax2.set_yticks(ticks=np.linspace(0,5,11))\n",
    "# make a plot with different y-axis using second axis object\n",
    "ax2.plot(zs,knl*chi/1000,color='C1',lw=3,label='$1$')\n",
    "ax2.plot(zs,0.5*knl*chi/1000,color='C1',lw=3,label='$0.5$',ls='dashed')\n",
    "ax2.plot(zs,0.3*knl*chi/1000,color='C1',lw=3,label='$0.3$',ls='dashdot')\n",
    "ax2.plot(zs,0.1*knl*chi/1000,color='C1',lw=3,label='$0.1$',ls='dotted')\n",
    "ax2.set_ylabel(r'$10^{-3}\\ell_\\text{max}$',color='C1')\n",
    "plt.xticks(ticks=np.linspace(2,5,7))\n",
    "plt.xlim(2,5)\n",
    "leg = ax.legend(loc='upper left',title=r'$k_\\text{max}/k_\\text{nl}$',ncol=2,fontsize='small',frameon=False)\n",
    "for i in range(4): leg.legendHandles[i].set_color('k')\n",
    "ax2.set_ylim(0,5)\n",
    "ax.set_ylim(0,1)\n",
    "plt.tight_layout()\n",
    "plt.savefig('figures/kmax.pdf',bbox_inches='tight')"
   ]
  },
  {
   "cell_type": "code",
   "execution_count": 64,
   "metadata": {},
   "outputs": [
    {
     "data": {
      "image/png": "[encoded data removed]",
      "text/plain": [
       "<Figure size 576x432 with 1 Axes>"
      ]
     },
     "metadata": {},
     "output_type": "display_data"
    }
   ],
   "source": [
    "plt.figure(figsize=(8,6))\n",
    "\n",
    "plt.semilogy(zs,n,color='C0',lw=3,label='1')\n",
    "plt.semilogy(zs,0.5*n,color='C0',lw=3,label='0.5',ls='dashed')\n",
    "plt.semilogy(zs,0.3*n,color='C0',lw=3,label='0.3',ls='dashdot')\n",
    "plt.semilogy(zs,0.1*n,color='C0',lw=3,label='0.1',ls='dotted')\n",
    "\n",
    "mega_n_ideal = interp1d([2,2.5,3,3.5,4,4.5,5],np.array([25,12,6.0,3.0,1.5,0.8,0.4])*(1e-4),kind='linear')\n",
    "mega_n_fid = interp1d([2,3,4,5],np.array([9.8,1.2,1.0,0.4])*(1e-4),kind='linear')\n",
    "plt.semilogy(zs,mega_n_fid(zs),c='C1',lw=3)\n",
    "\n",
    "plt.legend(loc='upper right',frameon=False,title=r'$\\bar{n}/n_\\text{LBG}$',\n",
    "           fontsize='small',ncol=2)\n",
    "plt.xticks(ticks=np.linspace(2,5,7))\n",
    "plt.xlim(2,5)\n",
    "plt.ylim(5e-6,4e-3)\n",
    "plt.xlabel(r'$z$')\n",
    "plt.ylabel(r'$\\bar{n}\\,\\,[h^{3}\\,{\\rm Mpc}^{-3}]$')\n",
    "plt.tight_layout()\n",
    "plt.savefig('figures/nbar.pdf',bbox_inches='tight')"
   ]
  },
  {
   "cell_type": "markdown",
   "metadata": {},
   "source": [
    "## $b^2 n$ for various surveys"
   ]
  },
  {
   "cell_type": "code",
   "execution_count": 66,
   "metadata": {},
   "outputs": [
    {
     "name": "stderr",
     "output_type": "stream",
     "text": [
      "findfont: Font family ['serif'] not found. Falling back to DejaVu Sans.\n"
     ]
    },
    {
     "data": {
      "image/png": "[encoded data removed]",
      "text/plain": [
       "<Figure size 864x432 with 1 Axes>"
      ]
     },
     "metadata": {},
     "output_type": "display_data"
    }
   ],
   "source": [
    "zz_kinda_low = np.linspace(2.,5.,100)\n",
    "mega_b_ideal = interp1d([2,2.5,3,3.5,4,4.5,5],[2.5,3.3,4.1,4.9,5.8,6.6,7.4],kind='linear')(zz_kinda_low)\n",
    "mega_n_ideal = interp1d([2,2.5,3,3.5,4,4.5,5],np.array([25,12,6.0,3.0,1.5,0.8,0.4])*(1e-4),kind='linear')(zz_kinda_low)\n",
    "mega_b_fid = interp1d([2,3,4,5],[2.5,4.0,3.5,5.5],kind='linear')(zz_kinda_low)\n",
    "mega_n_fid = interp1d([2,3,4,5],np.array([9.8,1.2,1.0,0.4])*(1e-4),kind='linear')(zz_kinda_low)\n",
    "\n",
    "zz = np.linspace(2.,6.,100)\n",
    "HIbias = np.array([HIb(z) for z in zz])\n",
    "fishcast.experiment.Ndetectors = 32e3\n",
    "HInumber_density32 = np.array([HIneff(fishcast,z)[1000] for z in zz])\n",
    "fishcast.experiment.Ndetectors = 5e3\n",
    "HInumber_density5 = np.array([HIneff(fishcast,z)[1000] for z in zz])\n",
    "\n",
    "zz_low = np.linspace(0.7,2.,100)\n",
    "Euclid_b = np.sqrt(1+zz_low)\n",
    "Euclid_n = Euclidn(zz_low)\n",
    "\n",
    "zz_lower = np.linspace(0.6,1.7,100)\n",
    "ELGbias = np.array([ELGb(fishcast,z) for z in zz_lower])\n",
    "ELGnumber_density = np.array([ELGn(fishcast,z) for z in zz_lower])\n",
    "\n",
    "zz_mse = np.linspace(1.6,4,100)\n",
    "MSEbias = np.array([MSEb(fishcast,z) for z in zz_mse])\n",
    "MSEnumber_density = np.array([MSEn(z) for z in zz_mse])\n",
    "\n",
    "##################################################################################\n",
    "z_spherex = np.array([0.1,0.3,0.5,0.7,0.9,1.3,1.9,2.5,3.1,3.7,4.3])\n",
    "\n",
    "n1_spherex = np.array([6.210e-03,1.540e-03,4.930e-05,1.430e-06,1.000e-09,1.000e-09,1.000e-09,1.000e-09,1.000e-09,2.210e-07,1.000e-09])\n",
    "n2_spherex = np.array([8.200e-03,4.580e-03,7.180e-04,1.190e-04,2.310e-05,5.250e-07,2.170e-07,4.300e-07,1.000e-09,1.000e-09,1.000e-09])\n",
    "n3_spherex = np.array([8.110e-03,6.150e-03,2.360e-03,1.440e-03,6.550e-04,4.200e-05,3.910e-06,3.700e-06,1.000e-09,4.420e-07,1.000e-09])\n",
    "n4_spherex = np.array([1.340e-02,1.030e-02,4.320e-03,2.840e-03,2.120e-03,3.060e-04,4.240e-05,2.400e-05,1.040e-05,6.640e-07,4.850e-07])\n",
    "n5_spherex = np.array([1.150e-02,6.390e-03,2.580e-03,2.930e-03,2.330e-03,5.050e-04,1.480e-04,9.150e-05,4.630e-05,2.430e-06,1.160e-06])\n",
    "\n",
    "#bias; each row is a galaxy sample (i.e. a sigz0 bin), each column a redshift bin\n",
    "b1_spherex = np.array([0.860,1.100,2.300,4.400,1.000,1.000,1.000,1.000,1.000,7.300,1.000])\n",
    "b2_spherex = np.array([0.790,0.910,1.300,2.000,2.900,5.300,6.200,6.200,1.000,1.000,1.000])\n",
    "b3_spherex = np.array([0.760,0.840,1.100,1.300,1.600,2.900,4.500,4.900,1.000,6.700,1.000])\n",
    "b4_spherex = np.array([0.730,0.790,0.940,1.100,1.200,2.000,3.200,3.900,4.800,6.300,7.200])\n",
    "b5_spherex = np.array([0.720,0.780,0.910,1.000,1.100,1.700,2.600,3.200,3.900,5.700,6.500])\n",
    "#################################################################################\n",
    "\n",
    "\n",
    "plt.figure(figsize=(12,6))\n",
    "\n",
    "plt.semilogy(zz,HInumber_density32*HIbias**2.,c='darkred',lw=3,label=r'PUMA-32K')\n",
    "plt.semilogy(zz,HInumber_density5*HIbias**2.,c='C3',lw=3,label=r'PUMA-5K')\n",
    "\n",
    "plt.semilogy(zz_kinda_low,mega_n_fid*mega_b_fid**2.,c='violet',lw=3,label=r'MegaMapper')\n",
    "\n",
    "plt.semilogy(zz_low,Euclid_n*Euclid_b**2.,c='C0',lw=3,label=r'Euclid',zorder=3)\n",
    "plt.semilogy(zz_low,ELGnumber_density*ELGbias**2.,c='C1',lw=3,label=r'DESI',zorder=3)\n",
    "plt.semilogy(zz_mse,MSEnumber_density*MSEbias**2,c='C4',lw=3,label=r'MSE',zorder=3)\n",
    "\n",
    "\n",
    "plt.semilogy(z_spherex,n1_spherex*b1_spherex**2,c='C2',lw=2,label=r'SPHEREx')\n",
    "plt.semilogy(z_spherex,n2_spherex*b2_spherex**2,c='C2',lw=2)\n",
    "plt.semilogy(z_spherex,n3_spherex*b3_spherex**2,c='C2',lw=2)\n",
    "plt.semilogy(z_spherex,n4_spherex*b4_spherex**2,c='C2',lw=2)\n",
    "plt.semilogy(z_spherex,n5_spherex*b5_spherex**2,c='C2',lw=2)\n",
    "\n",
    "plt.xlabel(r'$z$')\n",
    "plt.ylabel(r'$b^2n\\,\\,$[$h^3$\\text{Mpc}$^{-3}$]')\n",
    "plt.legend(loc=(0,1),frameon=False,ncol=4,fontsize=20,handlelength=1)\n",
    "plt.xlim(0.,6.1)\n",
    "plt.ylim(1.e-4,0.2)\n",
    "plt.xticks(ticks=[0.,0.5,1.,1.5,2.0,2.5,3.,3.5,4.,4.5,5.,5.5,6.])\n",
    "plt.grid(alpha=0.5)\n",
    "plt.savefig('figures/b2n.pdf',bbox_inches='tight')"
   ]
  },
  {
   "cell_type": "markdown",
   "metadata": {},
   "source": [
    "## Figure of merit ($N_\\text{modes}$)"
   ]
  },
  {
   "cell_type": "markdown",
   "metadata": {},
   "source": [
    "### Code for calculating the number of linear CMB modes"
   ]
  },
  {
   "cell_type": "code",
   "execution_count": null,
   "metadata": {},
   "outputs": [],
   "source": [
    "# CMB N_modes\n",
    "params_CMB = {'output': 'tCl, pCl, lCl', 'modes':'s,t',\n",
    "    'l_max_scalars': 10000, 'l_max_tensors': 1000,\n",
    "    'lensing': 'yes',\n",
    "    'r': 0.01,\n",
    "    'A_s': 2.10732e-9,\n",
    "    'n_s': 0.96824, \n",
    "    'h': 0.6770,\n",
    "    'N_ur': 2.0328,\n",
    "    'N_ncdm': 1,\n",
    "    'm_ncdm': 0.06,\n",
    "    'tau_reio': 0.0568,\n",
    "    'omega_b': 0.022447,\n",
    "    'omega_cdm': 0.11923}  \n",
    "\n",
    "cosmo_CMB = Class()\n",
    "cosmo_CMB.set(params_CMB)\n",
    "cosmo_CMB.compute()\n",
    "cls = cosmo_CMB.raw_cl(10000)\n",
    "\n",
    "Tcmb = 2.7255e6 #muK\n",
    "\n",
    "def N(l,noise,FWHM):\n",
    "   noise *= 0.000290888 # convert muK-arcmin to muK-radians\n",
    "   FWHM *= 0.000290888 # convert arcmin to radians\n",
    "   return noise**2. * np.exp(FWHM**2. * l**2. / (8.*np.log(2.)))\n",
    "\n",
    "def covariance(l,noise,FWHM):\n",
    "   tt = cls['tt'][l] * Tcmb**2.\n",
    "   if l>3000: tt += 1.e6\n",
    "   te = np.abs(cls['te'][l]) * Tcmb**2.\n",
    "   ee = cls['ee'][l] * Tcmb**2.\n",
    "   n = N(l,noise,FWHM)\n",
    "   C = np.array([[ (tt+n)**2. , (tt+n)*te                     , te**2.          ],\n",
    "                 [ (tt+n)*te  , (te**2 + (tt+n)*(ee+2.*n))/2. , (ee+2.*n)*te    ],\n",
    "                 [ te**2.     , (ee+2.*n)*te                  , (ee+2.*n)**2.   ]])\n",
    "   C /= (2.*l+1.)/2.\n",
    "   return C\n",
    "\n",
    "def N_modes_CMB(noise,FWHM):\n",
    "   '''\n",
    "   noise in muK-arcmin\n",
    "   FWHM in arcmin\n",
    "   '''\n",
    "   ell = cls['ell'][2:]\n",
    "   def F_AA(l):\n",
    "      C = covariance(l,noise,FWHM)\n",
    "      Cinv = np.linalg.inv(C)\n",
    "      mu = np.array([cls['tt'][l],cls['te'][l],cls['ee'][l]]) * Tcmb**2.\n",
    "      return np.dot(np.dot(mu,Cinv),mu)\n",
    "   result = sum([F_AA(l) for l in ell])\n",
    "   return 2.*result\n",
    "\n",
    "SO = N_modes_CMB(7.,1.4)/2.  # dividing by 2 here to account for fsky=0.5\n",
    "S4 = N_modes_CMB(1.5,1.4)/2."
   ]
  },
  {
   "cell_type": "markdown",
   "metadata": {},
   "source": [
    "### Calculate the contribution to $N_\\text{modes}$ from DESI, add to the other LSS experiments"
   ]
  },
  {
   "cell_type": "code",
   "execution_count": null,
   "metadata": {},
   "outputs": [],
   "source": [
    "DESI = experiment(zmin=0.6, zmax=1.7, nbins=5, fsky=0.34, sigma_z=0.0, ELG=True)\n",
    "desiCast = fisherForecast(experiment=DESI,cosmo=cosmo,params=params,khmin=5.e-4,\\\n",
    "                          khmax=1.,Nk=200,Nmu=200,velocileptors=False)\n",
    "desi_Nmodes = desiCast.Nmodes(0.6,1.7,60)"
   ]
  },
  {
   "cell_type": "markdown",
   "metadata": {},
   "source": [
    "### Create objects for MegaMapper and cosmic variance limited experiment"
   ]
  },
  {
   "cell_type": "code",
   "execution_count": null,
   "metadata": {},
   "outputs": [],
   "source": [
    "# make sure to turn velocileptors off"
   ]
  },
  {
   "cell_type": "code",
   "execution_count": null,
   "metadata": {},
   "outputs": [],
   "source": [
    "mega_zmax = np.linspace(2.2,5,50) \n",
    "mega_fiducial_Nmodes = np.array([megaCast_fiducial.Nmodes(2.,z,50) for z in mega_zmax])"
   ]
  },
  {
   "cell_type": "code",
   "execution_count": null,
   "metadata": {},
   "outputs": [],
   "source": [
    "puma_zmax = np.linspace(2.2,6,50)\n",
    "puma_pessimistic5_Nmodes = np.array([pumaCast_pessimistic5.Nmodes(2.,z,50) for z in puma_zmax])"
   ]
  },
  {
   "cell_type": "code",
   "execution_count": null,
   "metadata": {},
   "outputs": [],
   "source": [
    "puma_pessimistic32_Nmodes = np.array([pumaCast_pessimistic32.Nmodes(2.,z,50) for z in puma_zmax])"
   ]
  },
  {
   "cell_type": "code",
   "execution_count": null,
   "metadata": {},
   "outputs": [],
   "source": [
    "puma_optimistic5_Nmodes = np.array([pumaCast_optimistic5.Nmodes(2.,z,50) for z in puma_zmax])"
   ]
  },
  {
   "cell_type": "code",
   "execution_count": null,
   "metadata": {},
   "outputs": [],
   "source": [
    "puma_optimistic32_Nmodes = np.array([pumaCast_optimistic32.Nmodes(2.,z,50) for z in puma_zmax])"
   ]
  },
  {
   "cell_type": "code",
   "execution_count": null,
   "metadata": {},
   "outputs": [],
   "source": [
    "cv_Nmodes = np.array([cv_f.Nmodes(2.,z,50) for z in puma_zmax])\n",
    "upper_limit = np.ones(len(mega_zmax))*(1.e23)"
   ]
  },
  {
   "cell_type": "code",
   "execution_count": null,
   "metadata": {},
   "outputs": [],
   "source": [
    "plt.figure(figsize=(14,8))\n",
    "\n",
    "#plt.semilogy(mega_zmax,mega_ideal_Nmodes+desi_Nmodes,c='C0',lw=3.,label='MegaMapper (idealised)',zorder=3)\n",
    "#plt.semilogy(mega_zmax,mega_fiducial_Nmodes+desi_Nmodes,c='C0',lw=3.,label='MegaMapper (fiducial)',zorder=3,ls='--')\n",
    "#plt.fill_between(mega_zmax,mega_fiducial_Nmodes+desi_Nmodes,mega_ideal_Nmodes+desi_Nmodes,color='C0',alpha=0.3)\n",
    "plt.semilogy(mega_zmax,mega_fiducial_Nmodes+desi_Nmodes,c='C0',lw=5.,label='MegaMapper',zorder=5,ls='-')\n",
    "\n",
    "plt.semilogy(puma_zmax,puma_optimistic5_Nmodes+desi_Nmodes,c='C3',lw=2.,zorder=3)\n",
    "plt.semilogy(puma_zmax,puma_pessimistic5_Nmodes+desi_Nmodes,c='C3',lw=2.,zorder=3,ls='-')\n",
    "plt.fill_between(puma_zmax,puma_pessimistic5_Nmodes+desi_Nmodes,puma_optimistic5_Nmodes+desi_Nmodes,color='C3',alpha=0.3,label='PUMA-5K')\n",
    "\n",
    "plt.semilogy(puma_zmax,puma_optimistic32_Nmodes+desi_Nmodes,c='C4',lw=2.,zorder=3)\n",
    "plt.semilogy(puma_zmax,puma_pessimistic32_Nmodes+desi_Nmodes,c='C4',lw=2.,zorder=3,ls='-')\n",
    "plt.fill_between(puma_zmax,puma_pessimistic32_Nmodes+desi_Nmodes,puma_optimistic32_Nmodes+desi_Nmodes,color='C4',alpha=0.3,label='PUMA-32K')\n",
    "\n",
    "plt.semilogy(puma_zmax,S4*np.ones(len(puma_zmax)),lw=3,ls='-',color='C2',label='CMB-S4',zorder=4)\n",
    "plt.semilogy(puma_zmax,SO*np.ones(len(puma_zmax)),lw=3,ls='--',color='C2',label='Simons Observatory',zorder=4)\n",
    "#plt.fill_between(puma_zmax,SO*np.ones(len(puma_zmax)),S4*np.ones(len(puma_zmax)),color='C2',alpha=0.3)\n",
    "\n",
    "plt.fill_between(puma_zmax,cv_Nmodes+desi_Nmodes,upper_limit,color='orange',alpha=0.2)\n",
    "\n",
    "plt.text(2.3,2.e8,'Excluded by cosmic variance')\n",
    "\n",
    "plt.xticks(ticks=[2.2,2.5,3.,3.5,4.,4.5,5.,5.5,6.])\n",
    "\n",
    "plt.xlabel(r'$z_\\text{max}$')\n",
    "plt.ylabel(r'$N_\\text{modes}$')\n",
    "plt.legend(loc=(0,1),fontsize='small',frameon=False,ncol=5,handlelength=1)\n",
    "plt.xlim(2.2,6)\n",
    "plt.ylim(2.e6,4.e8)\n",
    "plt.savefig('figures/fom.pdf',bbox_inches='tight')"
   ]
  },
  {
   "cell_type": "markdown",
   "metadata": {},
   "source": [
    "## EDE power spectrum vs $\\Lambda$CDM"
   ]
  },
  {
   "cell_type": "code",
   "execution_count": null,
   "metadata": {},
   "outputs": [],
   "source": []
  },
  {
   "cell_type": "markdown",
   "metadata": {},
   "source": [
    "# Neutrino constraints\n",
    "\n",
    "What are all of the experimental parameters that we can vary?\n",
    "$\\sigma_z/(1+z)$, the redshift range, $k_\\text{max}$, $\\bar{n}$"
   ]
  },
  {
   "cell_type": "code",
   "execution_count": 67,
   "metadata": {},
   "outputs": [],
   "source": [
    "def constraint(zbins,nratio,kmax_knl):\n",
    "   fishcast.experiment = experiment(zmin=2., zmax=5., nbins=3, fsky=0.34, sigma_z=0, LBG=True,\\\n",
    "                                 custom_n=True, n=lambda z: nratio*LBGn(fishcast,z)) \n",
    "   F = fishcast.gen_fisher(basis,kmax_knl=kmax_knl,derivatives=derivatives_fish,zbins=zbins)\n",
    "   x = [0,1,2,3,4,5,6,7,8,9,10,11,12,13,14]\n",
    "   F = meld_fishers([F,Planck_SO])[x][:,x]\n",
    "   return np.sqrt(np.linalg.inv(F)[-1,-1])"
   ]
  },
  {
   "cell_type": "code",
   "execution_count": 68,
   "metadata": {},
   "outputs": [
    {
     "name": "stderr",
     "output_type": "stream",
     "text": [
      "/home/noah/anaconda3/lib/python3.6/site-packages/ipykernel_launcher.py:1: VisibleDeprecationWarning: Creating an ndarray from ragged nested sequences (which is a list-or-tuple of lists-or-tuples-or ndarrays with different lengths or shapes) is deprecated. If you meant to do this, you must specify 'dtype=object' when creating the ndarray\n",
      "  \"\"\"Entry point for launching an IPython kernel.\n"
     ]
    }
   ],
   "source": [
    "bins = np.array([np.array([0]), np.array([0,1]),np.array([0,1,2])])#,np.array([0,1,2,3]),np.array([0,1,2,3,4]),np.array([0,1,2,3,4,5])])\n",
    "zmaxs = np.array([3.0,4.0,5.0])#np.array([2.5,3.0,3.5,4.0,4.5,5.0])\n",
    "kmaxs = np.array([0.1,0.3,0.5,1.])\n",
    "nratios = np.array([0.3,1.,2.,3.])"
   ]
  },
  {
   "cell_type": "code",
   "execution_count": 69,
   "metadata": {},
   "outputs": [],
   "source": [
    "sigmas = np.zeros((len(bins),len(kmaxs)))\n",
    "\n",
    "for i,b in enumerate(bins):\n",
    "   for j,kmax_knl in enumerate(kmaxs):\n",
    "      sigmas[i,j] = constraint(b,0.5,kmax_knl)"
   ]
  },
  {
   "cell_type": "code",
   "execution_count": 70,
   "metadata": {},
   "outputs": [
    {
     "data": {
      "image/png": "[encoded data removed]",
      "text/plain": [
       "<Figure size 720x720 with 1 Axes>"
      ]
     },
     "metadata": {},
     "output_type": "display_data"
    }
   ],
   "source": [
    "fig, ax = plt.subplots(figsize=(10,10))\n",
    "\n",
    "im = ax.imshow(sigmas.transpose()*1000,cmap='Blues_r',vmin=-10,vmax=40)\n",
    "\n",
    "ax.set_yticks(np.arange(len(kmaxs)))\n",
    "ax.set_xticks(np.arange(len(zmaxs)))\n",
    "ax.set_yticklabels(kmaxs.astype(str))\n",
    "ax.set_xticklabels(zmaxs.astype(str))\n",
    "\n",
    "for i in range(len(zmaxs)):\n",
    "    for j in range(len(kmaxs)):\n",
    "        ax.text(i, j, str(int(sigmas[i, j]*1000)),ha=\"center\", va=\"center\", color=\"k\",fontsize=30)\n",
    "        \n",
    "ax.set_xlabel(r'$z_\\text{max}$')\n",
    "ax.set_ylabel(r'$k_\\text{max}/k_\\text{nl}$')\n",
    "ax.set_title(r'$\\sigma\\left(M_\\nu\\right)\\,{\\rm [meV]}$',pad=10)\n",
    "fig.tight_layout()\n",
    "plt.savefig('figures/sigma_mnu_vs_k_and_zmax.pdf',bbox_inches='tight')"
   ]
  },
  {
   "cell_type": "code",
   "execution_count": 71,
   "metadata": {},
   "outputs": [],
   "source": [
    "sigmas = np.zeros((len(bins),len(nratios)))\n",
    "\n",
    "for i,b in enumerate(bins):\n",
    "   for j,n in enumerate(nratios):\n",
    "      sigmas[i,j] = constraint(b,n,1.)"
   ]
  },
  {
   "cell_type": "code",
   "execution_count": 72,
   "metadata": {},
   "outputs": [
    {
     "data": {
      "image/png": "[encoded data removed]",
      "text/plain": [
       "<Figure size 720x720 with 1 Axes>"
      ]
     },
     "metadata": {},
     "output_type": "display_data"
    }
   ],
   "source": [
    "fig, ax = plt.subplots(figsize=(10,10))\n",
    "\n",
    "im = ax.imshow(sigmas.transpose()*1000,cmap='Blues_r',vmin=-10,vmax=40)\n",
    "\n",
    "ax.set_yticks(np.arange(len(nratios)))\n",
    "ax.set_xticks(np.arange(len(zmaxs)))\n",
    "ax.set_yticklabels(nratios.astype(str))\n",
    "ax.set_xticklabels(zmaxs.astype(str))\n",
    "\n",
    "for i in range(len(zmaxs)):\n",
    "    for j in range(len(nratios)):\n",
    "        ax.text(i, j, str(int(sigmas[i, j]*1000)),ha=\"center\", va=\"center\", color=\"k\",fontsize=30)\n",
    "        \n",
    "ax.set_xlabel(r'$z_\\text{max}$')\n",
    "ax.set_ylabel(r'$\\bar{n}/n_\\text{LBG}$')\n",
    "ax.set_title(r'$\\sigma\\left(M_\\nu\\right)\\,{\\rm [meV]}$',pad=10)\n",
    "fig.tight_layout()\n",
    "plt.savefig('figures/sigma_mnu_vs_n_and_zmax.pdf',bbox_inches='tight')"
   ]
  },
  {
   "cell_type": "markdown",
   "metadata": {},
   "source": [
    "# $N_\\text{eff}$ constraints"
   ]
  },
  {
   "cell_type": "code",
   "execution_count": 73,
   "metadata": {},
   "outputs": [],
   "source": [
    "def constraint(zbins,nratio,kmax_knl):\n",
    "   fishcast.experiment = experiment(zmin=2., zmax=5., nbins=6, fsky=0.34, sigma_z=0, LBG=True,\\\n",
    "                                 custom_n=True, n=lambda z: nratio*LBGn(fishcast,z)) \n",
    "   F = fishcast.gen_fisher(basis,kmax_knl=kmax_knl,derivatives=derivatives_fish,zbins=zbins)\n",
    "   x = [0,1,2,3,4,5,6,7,8,9,10,11,12,13,15]\n",
    "   F = meld_fishers([F,Planck_SO])[x][:,x]\n",
    "   return np.sqrt(np.linalg.inv(F)[-1,-1])"
   ]
  },
  {
   "cell_type": "code",
   "execution_count": 74,
   "metadata": {},
   "outputs": [
    {
     "name": "stderr",
     "output_type": "stream",
     "text": [
      "/home/noah/anaconda3/lib/python3.6/site-packages/ipykernel_launcher.py:1: VisibleDeprecationWarning: Creating an ndarray from ragged nested sequences (which is a list-or-tuple of lists-or-tuples-or ndarrays with different lengths or shapes) is deprecated. If you meant to do this, you must specify 'dtype=object' when creating the ndarray\n",
      "  \"\"\"Entry point for launching an IPython kernel.\n"
     ]
    }
   ],
   "source": [
    "bins = np.array([np.array([0]), np.array([0,1]),np.array([0,1,2])])#,np.array([0,1,2,3]),np.array([0,1,2,3,4]),np.array([0,1,2,3,4,5])])\n",
    "zmaxs = np.array([3.0,4.0,5.0])#np.array([2.5,3.0,3.5,4.0,4.5,5.0])\n",
    "kmaxs = np.array([0.1,0.3,0.5,1.])\n",
    "nratios = np.array([0.3,1.,2.,3.])"
   ]
  },
  {
   "cell_type": "code",
   "execution_count": 75,
   "metadata": {},
   "outputs": [],
   "source": [
    "sigmas = np.zeros((len(bins),len(kmaxs)))\n",
    "\n",
    "for i,b in enumerate(bins):\n",
    "   for j,kmax_knl in enumerate(kmaxs):\n",
    "      sigmas[i,j] = constraint(b,0.5,kmax_knl)"
   ]
  },
  {
   "cell_type": "code",
   "execution_count": 76,
   "metadata": {},
   "outputs": [
    {
     "data": {
      "image/png": "[encoded data removed]",
      "text/plain": [
       "<Figure size 720x720 with 1 Axes>"
      ]
     },
     "metadata": {},
     "output_type": "display_data"
    }
   ],
   "source": [
    "fig, ax = plt.subplots(figsize=(10,10))\n",
    "\n",
    "im = ax.imshow(sigmas.transpose()*1000,cmap='Blues_r',vmin=-10,vmax=40)\n",
    "\n",
    "ax.set_yticks(np.arange(len(kmaxs)))\n",
    "ax.set_xticks(np.arange(len(zmaxs)))\n",
    "ax.set_yticklabels(kmaxs.astype(str))\n",
    "ax.set_xticklabels(zmaxs.astype(str))\n",
    "\n",
    "for i in range(len(zmaxs)):\n",
    "    for j in range(len(kmaxs)):\n",
    "        ax.text(i, j, str(int(sigmas[i, j]*1000)),ha=\"center\", va=\"center\", color=\"k\",fontsize=30)\n",
    "        \n",
    "ax.set_xlabel(r'$z_\\text{max}$')\n",
    "ax.set_ylabel(r'$k_\\text{max}/k_\\text{nl}$')\n",
    "ax.set_title(r'$\\sigma\\left(10^3 N_\\text{eff}\\right)$',pad=10)\n",
    "fig.tight_layout()\n",
    "plt.savefig('figures/sigma_neff_vs_k_and_zmax.pdf',bbox_inches='tight')"
   ]
  },
  {
   "cell_type": "code",
   "execution_count": 77,
   "metadata": {},
   "outputs": [],
   "source": [
    "sigmas = np.zeros((len(bins),len(nratios)))\n",
    "\n",
    "for i,b in enumerate(bins):\n",
    "   for j,n in enumerate(nratios):\n",
    "      sigmas[i,j] = constraint(b,n,1.)"
   ]
  },
  {
   "cell_type": "code",
   "execution_count": 78,
   "metadata": {},
   "outputs": [
    {
     "data": {
      "image/png": "[encoded data removed]",
      "text/plain": [
       "<Figure size 720x720 with 1 Axes>"
      ]
     },
     "metadata": {},
     "output_type": "display_data"
    }
   ],
   "source": [
    "fig, ax = plt.subplots(figsize=(10,10))\n",
    "\n",
    "im = ax.imshow(sigmas.transpose()*1000,cmap='Blues_r',vmin=-10,vmax=40)\n",
    "\n",
    "ax.set_yticks(np.arange(len(nratios)))\n",
    "ax.set_xticks(np.arange(len(zmaxs)))\n",
    "ax.set_yticklabels(nratios.astype(str))\n",
    "ax.set_xticklabels(zmaxs.astype(str))\n",
    "\n",
    "for i in range(len(zmaxs)):\n",
    "    for j in range(len(nratios)):\n",
    "        ax.text(i, j, str(int(sigmas[i, j]*1000)),ha=\"center\", va=\"center\", color=\"k\",fontsize=30)\n",
    "        \n",
    "ax.set_xlabel(r'$z_\\text{max}$')\n",
    "ax.set_ylabel(r'$\\bar{n}/n_\\text{LBG}$')\n",
    "ax.set_title(r'$\\sigma\\left(10^3 N_\\text{eff}\\right)$',pad=10)\n",
    "fig.tight_layout()\n",
    "plt.savefig('figures/sigma_neff_vs_n_and_zmax.pdf',bbox_inches='tight')"
   ]
  },
  {
   "cell_type": "markdown",
   "metadata": {},
   "source": [
    "# What happens if you get rid of a $z$-bin?"
   ]
  },
  {
   "cell_type": "code",
   "execution_count": 79,
   "metadata": {},
   "outputs": [],
   "source": [
    "def constraint_ncdm(zbins,nononlin=False):\n",
    "   F = megaCast.gen_fisher(basis,kmax_knl=1.,derivatives=derivatives_mega,zbins=zbins)\n",
    "   x = [0,1,2,3,4,5,6,7,8,9,10,11,12,13,14]\n",
    "   if nononlin: x = [0,1,2,3,4,5,6,12,14]\n",
    "   F = meld_fishers([F,Planck_SO])[x][:,x]\n",
    "   return np.sqrt(np.linalg.inv(F)[-1,-1])"
   ]
  },
  {
   "cell_type": "code",
   "execution_count": 80,
   "metadata": {},
   "outputs": [
    {
     "name": "stderr",
     "output_type": "stream",
     "text": [
      "/home/noah/anaconda3/lib/python3.6/site-packages/ipykernel_launcher.py:1: VisibleDeprecationWarning: Creating an ndarray from ragged nested sequences (which is a list-or-tuple of lists-or-tuples-or ndarrays with different lengths or shapes) is deprecated. If you meant to do this, you must specify 'dtype=object' when creating the ndarray\n",
      "  \"\"\"Entry point for launching an IPython kernel.\n"
     ]
    }
   ],
   "source": [
    "bins = np.array([np.array([1,2]), np.array([0,2]),np.array([0,1]),np.array([0,1,2]) ])\n",
    "\n",
    "sigmas_ncdm = np.array([constraint_ncdm(b) for b in bins])*1000.\n",
    "\n",
    "sigmas_ncdm_nononlin = np.array([constraint_ncdm(b,nononlin=True) for b in bins])*1000."
   ]
  },
  {
   "cell_type": "code",
   "execution_count": 82,
   "metadata": {
    "scrolled": false
   },
   "outputs": [
    {
     "data": {
      "image/png": "[encoded data removed]",
      "text/plain": [
       "<Figure size 720x576 with 1 Axes>"
      ]
     },
     "metadata": {},
     "output_type": "display_data"
    }
   ],
   "source": [
    "plt.figure(figsize=(10,8))\n",
    "\n",
    "plt.xticks(ticks=[1,2,3,4],labels=[r'$3<z<5$',r'$2<z<3\\\\4<z<5$',r'$2<z<4$',r'$2<z<5$'])\n",
    "plt.bar([1,2,3,4],sigmas_ncdm,color='C0',width=0.9,alpha=1)\n",
    "plt.bar([1,2,3,4],sigmas_ncdm_nononlin,color='C1',width=0.7,alpha=1)\n",
    "#plt.legend(loc='upper left',fontsize='small',frameon=False)\n",
    "plt.ylabel(r'$\\sigma(M_\\nu)\\,\\,[{\\rm meV}]$')\n",
    "plt.ylim(0,50)\n",
    "plt.savefig('figures/sigma_mcdm_without_one_zbin.pdf',bbox_inches='tight')"
   ]
  },
  {
   "cell_type": "markdown",
   "metadata": {},
   "source": [
    "# EDE constraints"
   ]
  },
  {
   "cell_type": "code",
   "execution_count": null,
   "metadata": {},
   "outputs": [],
   "source": [
    "basis = np.array(['h','log(A_s)','n_s','omega_cdm','omega_b','tau_reio',\\\n",
    "                                  'b','b2','bs','alpha0','alpha2','alpha4',\\\n",
    "                                  'N','sn2','fEDE'])\n",
    "log10z_cs = np.linspace(1.5,6.5,20)\n",
    "\n",
    "def sigmaFede(forecast,log10z_c,alpha):\n",
    "   F = forecast.gen_fisher(basis,log10z_c=log10z_c,alpha=alpha)\n",
    "   Finv = np.linalg.inv(F+SO_barebones(15)) \n",
    "   return np.sqrt(Finv[-1,-1])"
   ]
  },
  {
   "cell_type": "code",
   "execution_count": null,
   "metadata": {},
   "outputs": [],
   "source": [
    "desiEDE = np.array([sigmaFede(desiCast,log10z_c,0.5) for log10z_c in log10z_cs])"
   ]
  },
  {
   "cell_type": "code",
   "execution_count": null,
   "metadata": {},
   "outputs": [],
   "source": [
    "eucEDE = np.array([sigmaFede(eucCast,log10z_c,0.6) for log10z_c in log10z_cs])"
   ]
  },
  {
   "cell_type": "code",
   "execution_count": null,
   "metadata": {},
   "outputs": [],
   "source": [
    "megaEDE = np.array([sigmaFede(megaCast,log10z_c,0.5) for log10z_c in log10z_cs])"
   ]
  },
  {
   "cell_type": "code",
   "execution_count": null,
   "metadata": {},
   "outputs": [],
   "source": [
    "old = np.array([sigmaFede(megaCast,log10z_c,1.) for log10z_c in log10z_cs])"
   ]
  },
  {
   "cell_type": "code",
   "execution_count": null,
   "metadata": {},
   "outputs": [],
   "source": [
    "puma5optEDE = np.array([sigmaFede(puma5optCast,log10z_c,0.5) for log10z_c in log10z_cs])"
   ]
  },
  {
   "cell_type": "code",
   "execution_count": null,
   "metadata": {},
   "outputs": [],
   "source": [
    "puma5pessEDE = np.array([sigmaFede(puma5pessCast,log10z_c,0.5) for log10z_c in log10z_cs])"
   ]
  },
  {
   "cell_type": "code",
   "execution_count": null,
   "metadata": {},
   "outputs": [],
   "source": [
    "puma32optEDE = np.array([sigmaFede(puma32optCast,log10z_c,0.5) for log10z_c in log10z_cs])"
   ]
  },
  {
   "cell_type": "code",
   "execution_count": null,
   "metadata": {},
   "outputs": [],
   "source": [
    "puma32pessEDE = np.array([sigmaFede(puma32pessCast,log10z_c,0.5) for log10z_c in log10z_cs])"
   ]
  },
  {
   "cell_type": "code",
   "execution_count": null,
   "metadata": {},
   "outputs": [],
   "source": [
    "np.savetxt('output/DESI/desiEDE_constaints.txt',desiEDE)\n",
    "np.savetxt('output/Euclid/eucEDE_constaints.txt',eucEDE)\n",
    "np.savetxt('output/MegaMapper_fiducial/megaEDE_constaints.txt',megaEDE)\n",
    "np.savetxt('output/PUMA/puma5optEDE_constaints.txt',puma5optEDE)\n",
    "np.savetxt('output/PUMA/puma5pessEDE_constaints.txt',puma5pessEDE)\n",
    "np.savetxt('output/PUMA/puma32optEDE_constaints.txt',puma32optEDE)\n",
    "np.savetxt('output/PUMA/puma32pessEDE_constaints.txt',puma32pessEDE)"
   ]
  },
  {
   "cell_type": "code",
   "execution_count": null,
   "metadata": {},
   "outputs": [],
   "source": [
    "fig, ax = plt.subplots(figsize=(14,6))\n",
    "\n",
    "\n",
    "ax.semilogy(log10z_cs,100.*desiEDE,label=r'DESI',lw=3,c='C1',zorder=3)\n",
    "ax.semilogy(log10z_cs,100.*eucEDE,label=r'Euclid',lw=3,c='C2',zorder=3)\n",
    "ax.semilogy(log10z_cs,100.*megaEDE,label=r'MegaMapper',lw=3,c='C0',zorder=3)\n",
    "\n",
    "ax.semilogy(log10z_cs,100.*old*np.sqrt(0.34/0.5),label=r'old MegaMapper assumptions',lw=3,c='cyan',zorder=3)\n",
    "\n",
    "ax.fill_between(log10z_cs,100*puma5pessEDE,100*puma5optEDE,color='C3',alpha=0.5,label='PUMA-5K')\n",
    "ax.semilogy(log10z_cs,100*puma5pessEDE,c='C3')\n",
    "ax.semilogy(log10z_cs,100*puma5optEDE,c='C3')\n",
    "ax.fill_between(log10z_cs,100*puma32pessEDE,100*puma32optEDE,color='C4',alpha=0.5,label='PUMA-32K')\n",
    "ax.semilogy(log10z_cs,100*puma32pessEDE,c='C4')\n",
    "ax.semilogy(log10z_cs,100*puma32optEDE,c='C4')\n",
    "\n",
    "ax.set_xlabel(r'$\\log_{10}(z_c)$')\n",
    "ax.set_ylabel(r'$\\sigma(f_\\text{EDE})$ [\\%]')\n",
    "ax.legend(loc=(0,1),fontsize='small',frameon=False,ncol=5)\n",
    "plt.xticks(ticks=[1.5,2.,2.5,3.,3.5,4.,4.5,5.,5.5,6.,6.5])\n",
    "plt.xlim(1.5,6.5)\n",
    "plt.ylim(0.3,10.)\n",
    "ax.set_yticks([1,10])\n",
    "ax.set_yticks([0.3,0.4,0.5,0.6,0.7,0.8,0.9,2,3,4,5,6,7,8,9],minor=True)\n",
    "ax.set_yticklabels(['1','10'])\n",
    "ax.set_yticklabels(['0.3','','0.5','','','','','','3','','5','','','',''],minor=True)\n",
    "plt.savefig('figures/fEDE_constraints.pdf',bbox_inches='tight')"
   ]
  },
  {
   "cell_type": "markdown",
   "metadata": {},
   "source": [
    "# $A_\\text{lin}$ constraints"
   ]
  },
  {
   "cell_type": "code",
   "execution_count": null,
   "metadata": {},
   "outputs": [],
   "source": [
    "basis = np.array(['h','log(A_s)','n_s','omega_cdm','omega_b','tau_reio',\\\n",
    "                                  'b','b2','bs','alpha0','alpha2','alpha4',\\\n",
    "                                  'N','sn2','A_lin'])\n",
    "omega_lins = np.logspace(np.log10(10),np.log10(250.),20)\n",
    "def sigmaAlin(forecast,omega_lin,alpha):\n",
    "   F = forecast.gen_fisher(basis,omega_lin=omega_lin,alpha=alpha)\n",
    "   Finv = np.linalg.inv(F+SO_barebones(15)) \n",
    "   return np.sqrt(Finv[-1,-1])"
   ]
  },
  {
   "cell_type": "code",
   "execution_count": null,
   "metadata": {},
   "outputs": [],
   "source": [
    "desiAlin = np.array([sigmaAlin(desiCast,omega_lin,0.5) for omega_lin in omega_lins])"
   ]
  },
  {
   "cell_type": "code",
   "execution_count": null,
   "metadata": {},
   "outputs": [],
   "source": [
    "eucAlin = np.array([sigmaAlin(eucCast,omega_lin,0.6) for omega_lin in omega_lins])"
   ]
  },
  {
   "cell_type": "code",
   "execution_count": null,
   "metadata": {},
   "outputs": [],
   "source": [
    "megaAlin = np.array([sigmaAlin(megaCast,omega_lin,0.5) for omega_lin in omega_lins])"
   ]
  },
  {
   "cell_type": "code",
   "execution_count": null,
   "metadata": {},
   "outputs": [],
   "source": [
    "puma5optAlin = np.array([sigmaAlin(puma5optCast,omega_lin,0.5) for omega_lin in omega_lins])"
   ]
  },
  {
   "cell_type": "code",
   "execution_count": null,
   "metadata": {},
   "outputs": [],
   "source": [
    "puma5pessAlin = np.array([sigmaAlin(puma5pessCast,omega_lin,0.5) for omega_lin in omega_lins])"
   ]
  },
  {
   "cell_type": "code",
   "execution_count": null,
   "metadata": {},
   "outputs": [],
   "source": [
    "puma32optAlin = np.array([sigmaAlin(puma32optCast,omega_lin,0.5) for omega_lin in omega_lins])"
   ]
  },
  {
   "cell_type": "code",
   "execution_count": null,
   "metadata": {},
   "outputs": [],
   "source": [
    "puma32pessAlin = np.array([sigmaAlin(puma32pessCast,omega_lin,0.5) for omega_lin in omega_lins])"
   ]
  },
  {
   "cell_type": "code",
   "execution_count": null,
   "metadata": {},
   "outputs": [],
   "source": [
    "np.savetxt('output/DESI/desiAlin_constaints.txt',desiAlin)\n",
    "np.savetxt('output/Euclid/eucAlin_constaints.txt',eucAlin)\n",
    "np.savetxt('output/MegaMapper_fiducial/megaAlin_constaints.txt',megaAlin)\n",
    "np.savetxt('output/PUMA/puma5optAlin_constaints.txt',puma5optAlin)\n",
    "np.savetxt('output/PUMA/puma5pessAlin_constaints.txt',puma5pessAlin)\n",
    "np.savetxt('output/PUMA/puma32optAlin_constaints.txt',puma32optAlin)\n",
    "np.savetxt('output/PUMA/puma32pessAlin_constaints.txt',puma32pessAlin)"
   ]
  },
  {
   "cell_type": "markdown",
   "metadata": {},
   "source": [
    "# Temporary plot"
   ]
  },
  {
   "cell_type": "code",
   "execution_count": null,
   "metadata": {},
   "outputs": [],
   "source": [
    "basis = np.array(['h','log(A_s)','omega_cdm','n_s','omega_b','tau_reio','b','N',\\\n",
    "                                 'b2','bs','alpha0','alpha2','alpha4','sn2','m_ncdm'])\n",
    "\n",
    "fishcast.experiment = experiment(zmin=2., zmax=5., nbins=6, fsky=0.5, sigma_z=0., LBG=True,\\\n",
    "                                 custom_n=True, n=lambda z: 0.5*LBGn(fishcast,z))\n",
    "\n",
    "alphas = np.linspace(0.1,1.,10)\n",
    "F_fine_k_n_05 = np.array([fishcast.gen_fisher(basis,alpha=alpha) for alpha in alphas])\n",
    "\n",
    "fishcast.experiment = experiment(zmin=2., zmax=5., nbins=6, fsky=0.5, sigma_z=0., LBG=True,\\\n",
    "                                 custom_n=True, n=lambda z: 1.*LBGn(fishcast,z))\n",
    "\n",
    "alphas = np.linspace(0.1,1.,10)\n",
    "F_fine_k_n_10 = np.array([fishcast.gen_fisher(basis,alpha=alpha) for alpha in alphas])"
   ]
  },
  {
   "cell_type": "code",
   "execution_count": null,
   "metadata": {},
   "outputs": [],
   "source": [
    "plt.figure(figsize=(10,8))\n",
    "indices = [0,1,2,3,4,5,6,7,10,11,12,13,14]\n",
    "plt.semilogy(alphas,[1000.*np.sqrt(np.linalg.inv(f)[-1,-1]) for f in F_fine_k_n_05],lw=3,color='blue',label=r'$\\bar{n}/n_\\text{LBG}=0.5$')\n",
    "plt.semilogy(alphas,[1000.*np.sqrt(np.linalg.inv(f[indices][:,indices])[-1,-1]) for f in F_fine_k_n_05],lw=3,color='blue',ls='--')\n",
    "\n",
    "plt.semilogy(alphas,[1000.*np.sqrt(np.linalg.inv(f)[-1,-1]) for f in F_fine_k_n_10],lw=3,color='red',label=r'$\\bar{n}/n_\\text{LBG}=1$')\n",
    "plt.semilogy(alphas,[1000.*np.sqrt(np.linalg.inv(f[indices][:,indices])[-1,-1]) for f in F_fine_k_n_10],lw=3,color='red',ls='--')\n",
    "\n",
    "plt.axhline(60,0,2,lw=1.,color='k')\n",
    "\n",
    "plt.axhline(30,0,2,lw=1.,color='k')\n",
    "\n",
    "plt.yticks(labels=['30','60','100','1000'],ticks=[30,60,100,1000])\n",
    "\n",
    "plt.xlabel(r'$k_\\text{max}/k_\\text{nl}$')\n",
    "plt.ylabel(r'$\\sigma(M_\\nu)$ [meV]')\n",
    "plt.xlim(0.1,1)\n",
    "plt.xticks(ticks = [0.1,0.2,0.4,0.6,0.8,1.0])\n",
    "plt.legend(loc='upper right',frameon=False)\n",
    "plt.savefig('figures/sigma_mu_vs_kratio.pdf',bbox_inches='tight')"
   ]
  },
  {
   "cell_type": "markdown",
   "metadata": {},
   "source": [
    "## Fitting $\\alpha_0$"
   ]
  },
  {
   "cell_type": "code",
   "execution_count": null,
   "metadata": {},
   "outputs": [],
   "source": [
    "plt.figure(figsize=(14,6))\n",
    "zs = np.array([3,4,5,6])\n",
    "\n",
    "def sketchy_fit(zs,b): return 1.22 + 0.24*b**2*(zs-5.96)\n",
    "\n",
    "alpha0s_b2 = np.array([-1.31935195,-0.65809596,-0.18420515,0.71498688])\n",
    "alpha0s_b3 = np.array([-4.79938307,-2.66281887,-1.24095722,0.99833036])\n",
    "alpha0s_b4 = np.array([-10.2127226,-5.81759548,-2.96337951,1.2157253])\n",
    "alpha0s_b5 = np.array([-17.55936976,-10.12243213,-5.35147573,1.36718324])\n",
    "\n",
    "plt.plot(zs,alpha0s_b2,label=r'$b=2$',lw=3)\n",
    "plt.plot(zs,alpha0s_b3,label=r'$b=3$',lw=3)\n",
    "plt.plot(zs,alpha0s_b4,label=r'$b=4$',lw=3)\n",
    "plt.plot(zs,alpha0s_b5,label=r'$b=5$',lw=3)\n",
    "\n",
    "plt.plot(zs,sketchy_fit(zs,2),c='k',label=r'$1.22+0.24 b^2(z-5.96)$')\n",
    "plt.plot(zs,sketchy_fit(zs,3),c='k')\n",
    "plt.plot(zs,sketchy_fit(zs,4),c='k')\n",
    "plt.plot(zs,sketchy_fit(zs,5),c='k')\n",
    "\n",
    "plt.xlabel(r'$z$')\n",
    "plt.ylabel(r'$\\alpha_0$ (best fit)')\n",
    "plt.legend(loc='lower right',frameon=False,ncol=2)\n",
    "plt.savefig('figures/alpha0_fitting1.pdf',bbox_inches='tight')"
   ]
  },
  {
   "cell_type": "markdown",
   "metadata": {},
   "source": [
    "## Junk"
   ]
  },
  {
   "cell_type": "code",
   "execution_count": null,
   "metadata": {},
   "outputs": [],
   "source": [
    "Simo_Planck = np.genfromtxt('input/SimoFisher_Planck_LB_June12.txt')\n",
    "Simo_SO = np.genfromtxt('input/LAT_baseline_fsky04_fish_mat.dat')\n",
    "\n",
    "def Planck_barebones(n):\n",
    "   result = np.zeros((n,n))\n",
    "   mapping_Planck = {0:4,1:2,2:3,3:0,4:1,5:5}\n",
    "   for i in range(6):\n",
    "      for j in range(6):\n",
    "         result[i,j] = Simo_Planck[mapping_Planck[i],mapping_Planck[j]]\n",
    "   # Planck_barebones is in the h,A_s,n_s,Omega_cdm,Omega_b,tau basis \n",
    "   result[1,:] *= params['A_s']\n",
    "   result[:,1] *= params['A_s']\n",
    "   result[3,:] /= params['h']**2\n",
    "   result[:,3] /= params['h']**2\n",
    "   result[4,:] /= params['h']**2\n",
    "   result[:,4] /= params['h']**2\n",
    "   # Planck_barebones is in the h,log(A_s),n_s,omega_cdm,omega_b,tau basis \n",
    "   return result\n",
    "\n",
    "\n",
    "def SO_barebones(n):\n",
    "   result = np.zeros((n,n))\n",
    "   mapping_SO = {0:0,1:5,2:6,3:4,4:3,5:1}\n",
    "   for i in range(6):\n",
    "      for j in range(6):\n",
    "         result[i,j] = Simo_SO[mapping_SO[i],mapping_SO[j]]\n",
    "   # SO_barebones is in the H,A_s,n_s,omega_cdm,omega_b,tau basis\n",
    "   result[0,:] *= 100.\n",
    "   result[:,0] *= 100.\n",
    "   result[1,:] *= params['A_s']\n",
    "   result[:,1] *= params['A_s']\n",
    "   # SO_barebones is in the h,log(A_s),n_s,omega_cdm,omega_b,tau basis\n",
    "   return result\n",
    "\n",
    "Planck_LCDM = Planck_barebones(6)\n",
    "SO_LCDM = SO_barebones(6)\n",
    "\n",
    "np.savetxt('input/planck_lcdm.txt',Planck_LCDM)\n",
    "np.savetxt('input/so_lcdm.txt',SO_LCDM)"
   ]
  },
  {
   "cell_type": "code",
   "execution_count": null,
   "metadata": {},
   "outputs": [],
   "source": []
  },
  {
   "cell_type": "code",
   "execution_count": null,
   "metadata": {},
   "outputs": [],
   "source": []
  },
  {
   "cell_type": "code",
   "execution_count": null,
   "metadata": {},
   "outputs": [],
   "source": []
  },
  {
   "cell_type": "code",
   "execution_count": null,
   "metadata": {},
   "outputs": [],
   "source": []
  },
  {
   "cell_type": "code",
   "execution_count": null,
   "metadata": {},
   "outputs": [],
   "source": []
  },
  {
   "cell_type": "code",
   "execution_count": null,
   "metadata": {},
   "outputs": [],
   "source": []
  },
  {
   "cell_type": "code",
   "execution_count": null,
   "metadata": {},
   "outputs": [],
   "source": []
  },
  {
   "cell_type": "code",
   "execution_count": null,
   "metadata": {},
   "outputs": [],
   "source": [
    "# Calculate the Jacobian\n",
    "def J(param1,param2):\n",
    "   if param1 != 'theta_s': return float(param1 == param2)\n",
    "   fid_theta_s = cosmo.get_current_derived_parameters(['100*theta_s'])['100*theta_s']/100\n",
    "   if param2 != 'm_ncdm':\n",
    "      fid_val = params[param2]\n",
    "      params[param2] = fid_val*1.05\n",
    "      cosmo.set(params)\n",
    "      cosmo.compute()\n",
    "      new_theta_s = cosmo.get_current_derived_parameters(['100*theta_s'])['100*theta_s']/100\n",
    "      params[param2] = fid_val\n",
    "      cosmo.set(params)\n",
    "      cosmo.compute()\n",
    "      return (new_theta_s-fid_theta_s)/(fid_val*0.05)\n",
    "   params['m_ncdm'] = '0.0103,0.0503'\n",
    "   cosmo.set(params)\n",
    "   cosmo.compute()\n",
    "   new_theta_s = cosmo.get_current_derived_parameters(['100*theta_s'])['100*theta_s']/100\n",
    "   params['m_ncdm'] = '0.01,0.05'\n",
    "   cosmo.set(params)\n",
    "   cosmo.compute()\n",
    "   return (new_theta_s-fid_theta_s)/0.0006"
   ]
  },
  {
   "cell_type": "code",
   "execution_count": null,
   "metadata": {},
   "outputs": [],
   "source": [
    "jac = np.zeros((7,7))\n",
    "for i,p1 in enumerate(np.array(['theta_s','A_s','n_s','omega_cdm','omega_b','tau_reio','m_ncdm'])):\n",
    "   for j,p2 in enumerate(np.array(['h','A_s','n_s','omega_cdm','omega_b','tau_reio','m_ncdm'])):\n",
    "     jac[i,j] = J(p1,p2)"
   ]
  },
  {
   "cell_type": "code",
   "execution_count": null,
   "metadata": {},
   "outputs": [],
   "source": []
  },
  {
   "cell_type": "code",
   "execution_count": null,
   "metadata": {},
   "outputs": [],
   "source": []
  },
  {
   "cell_type": "code",
   "execution_count": null,
   "metadata": {},
   "outputs": [],
   "source": []
  },
  {
   "cell_type": "code",
   "execution_count": null,
   "metadata": {},
   "outputs": [],
   "source": [
    "Simo_SO = np.genfromtxt('input/LAT_baseline_fsky04_fish_mat.dat')\n",
    "Simo_Planck = np.genfromtxt('input/SimoFisher_Planck_LB_June12.txt')\n",
    "Simo_S4 = np.genfromtxt('input/fullS4ql.tau0.066.r1.lT30_3000.lP30_5000_1_1_0.4.fish')\n",
    "\n",
    "def SO_with_mnu(n):\n",
    "   result = np.zeros((n,n))\n",
    "   mapping_SO = {0:0,1:5,2:6,3:4,4:3,5:1,6:2}\n",
    "   for i in range(n):\n",
    "      for j in range(n):\n",
    "         try:\n",
    "            result[i,j] = Simo_SO[mapping_SO[i],mapping_SO[j]]\n",
    "         except:\n",
    "            continue\n",
    "   # SO_barebones is in the H,A_s,n_s,omega_cdm,omega_b,tau, omega_nu basis\n",
    "   result[0,:] *= 100.\n",
    "   result[:,0] *= 100.\n",
    "   result[1,:] *= params['A_s']\n",
    "   result[:,1] *= params['A_s']\n",
    "   result[:,6] /= 94.\n",
    "   result[6,:] /= 94.\n",
    "   # SO_barebones is in the h,log(A_s),n_s,omega_cdm,omega_b,tau,m_ncdm basis\n",
    "   return result\n",
    "\n",
    "def Planck_with_mnu(n):\n",
    "   result = np.zeros((n,n))\n",
    "   mapping_Planck = {0:4,1:2,2:3,3:0,4:1,5:5,6:6}\n",
    "   for i in range(n):\n",
    "      for j in range(n):\n",
    "         try:\n",
    "            result[i,j] = Simo_Planck[mapping_Planck[i],mapping_Planck[j]]\n",
    "         except:\n",
    "            continue\n",
    "   # Planck_barebones is in the h,A_s,n_s,Omega_cdm,Omega_b,tau basis \n",
    "   result[1,:] *= params['A_s']\n",
    "   result[:,1] *= params['A_s']\n",
    "   result[3,:] /= params['h']**2\n",
    "   result[:,3] /= params['h']**2\n",
    "   result[4,:] /= params['h']**2\n",
    "   result[:,4] /= params['h']**2\n",
    "   # Planck_barebones is in the h,log(A_s),n_s,omega_cdm,omega_b,tau basis \n",
    "   return result\n",
    "\n",
    "\n",
    "def S4_with_mnu(n):\n",
    "   result = np.zeros((n,n))\n",
    "   mapping_S4 = {0:2,1:8,2:9,3:0,4:1,5:13,6:6}\n",
    "   for i in range(n):\n",
    "      for j in range(n):\n",
    "         try:\n",
    "            result[i,j] = Simo_S4[mapping_S4[i],mapping_S4[j]]\n",
    "         except:\n",
    "            continue\n",
    "   # S4 is in the theta_s,log10(A_s),n_s,omega_cdm,omega_b,tau,m_ncdm  basis \n",
    "   result[1,:] /= np.log(10.)\n",
    "   result[:,1] /= np.log(10.)\n",
    "   # SO is in the theta_s,log(A_s),n_s,omega_cdm,omega_b,tau,m_ncdm  basis\n",
    "   result[1,:] /= params['A_s']\n",
    "   result[:,1] /= params['A_s']\n",
    "   # SO is in the theta_s,A_s,n_s,omega_cdm,omega_b,tau,m_ncdm  basis\n",
    "   return result"
   ]
  },
  {
   "cell_type": "code",
   "execution_count": null,
   "metadata": {},
   "outputs": [],
   "source": [
    "SO = SO_with_mnu(7)\n",
    "Planck = Planck_with_mnu(7)\n",
    "S4 = S4_with_mnu(7)\n",
    "S4 = np.dot(np.dot(np.transpose(jac),S4),jac)\n",
    "S4[1,:] *= params['A_s']\n",
    "S4[:,1] *= params['A_s']"
   ]
  },
  {
   "cell_type": "code",
   "execution_count": null,
   "metadata": {},
   "outputs": [],
   "source": []
  },
  {
   "cell_type": "code",
   "execution_count": null,
   "metadata": {},
   "outputs": [],
   "source": []
  },
  {
   "cell_type": "code",
   "execution_count": null,
   "metadata": {},
   "outputs": [],
   "source": []
  },
  {
   "cell_type": "code",
   "execution_count": null,
   "metadata": {},
   "outputs": [],
   "source": [
    "def CMB_with_mnu(F,n):\n",
    "   result = np.zeros((n,n))\n",
    "   # 'omch2', 'ombh2', 'As', 'ns', 'H0', 'tau', 'mnu', 'neff', 'omk' \n",
    "   #  'h','log(A_s)','n_s','omega_cdm','omega_b','tau_reio','m_ncdm','b','b2','bs','alpha0','alpha2','alpha4','N','sn2'\n",
    "   mapping = {0:4,1:2,2:3,3:0,4:1,5:5,6:6}\n",
    "   for i in range(n):\n",
    "      for j in range(n):\n",
    "         try:\n",
    "            result[i,j] = F[mapping[i],mapping[j]]\n",
    "         except:\n",
    "            continue\n",
    "   #  'H0','A_s','n_s','omega_cdm','omega_b','tau_reio','m_ncdm' basis\n",
    "   result[0,:] *= 100.\n",
    "   result[:,0] *= 100.\n",
    "   result[1,:] *= params['A_s']\n",
    "   result[:,1] *= params['A_s']\n",
    "   return result"
   ]
  },
  {
   "cell_type": "code",
   "execution_count": null,
   "metadata": {},
   "outputs": [],
   "source": [
    "Planck_LowEll = np.genfromtxt('input/SimoFisher_Planck_LowEll_02-10-2020.txt')\n",
    "SO_HighEll = np.genfromtxt('input/SimoFisher_SO_HighEll_02-10-2020.txt')\n",
    "S4_HighEll = np.genfromtxt('input/SimoFisher_S4_HighEll_02-10-2020.txt')\n",
    "LiteBird_LowEll = np.genfromtxt('input/SimoFisher_LiteBird_LowEll_02-10-2020.txt')\n",
    "Planck_SO = CMB_with_mnu(Planck_LowEll + SO_HighEll,7)\n",
    "Planck_S4 = CMB_with_mnu(Planck_LowEll + S4_HighEll,7)\n",
    "LiteBird_S4 = CMB_with_mnu(LiteBird_LowEll + S4_HighEll,7)"
   ]
  },
  {
   "cell_type": "code",
   "execution_count": null,
   "metadata": {},
   "outputs": [],
   "source": []
  },
  {
   "cell_type": "code",
   "execution_count": null,
   "metadata": {},
   "outputs": [],
   "source": []
  },
  {
   "cell_type": "code",
   "execution_count": null,
   "metadata": {},
   "outputs": [],
   "source": []
  },
  {
   "cell_type": "code",
   "execution_count": null,
   "metadata": {},
   "outputs": [],
   "source": [
    "basis = np.array(['h','log(A_s)','n_s','omega_cdm','omega_b','tau_reio','m_ncdm',\\\n",
    "                                  'b','b2','bs','alpha0','alpha2','alpha4','N','sn2'])\n",
    "basis_hi = np.array(list(basis)+['Tb'])\n",
    "derivatives_desi = desiCast.load_derivatives(basis)\n",
    "derivatives_puma = puma32pessCast.load_derivatives(basis_hi)"
   ]
  },
  {
   "cell_type": "code",
   "execution_count": null,
   "metadata": {},
   "outputs": [],
   "source": [
    "def tmp_function(kmax_knl,marg_nonlin=True,s4=False):\n",
    "   x = [0,1,2,3,4,5,6,7,13,14]\n",
    "   if marg_nonlin: x = [0,1,2,3,4,5,6,7,8,9,10,11,12,13]\n",
    "   F_desi = desiCast.gen_fisher(basis,kmax_knl=kmax_knl,derivatives=derivatives_desi)\n",
    "   F = meld_fishers([Planck_SO,F_desi])\n",
    "   if s4: F = meld_fishers([Planck_S4,F_desi])\n",
    "   F = F[x][:,x]\n",
    "   return np.sqrt(np.linalg.inv(F)[6,6])*1000\n",
    "\n",
    "def tmp_plop(kmax_knl,sigma_tau=0.007,marg_nonlin=True,s4=False):\n",
    "   x = [0,1,2,3,4,5,6,7,13,14]\n",
    "   if marg_nonlin: x = [0,1,2,3,4,5,6,7,8,9,10,11,12,13,14]\n",
    "   F_desi = desiCast.gen_fisher(basis,kmax_knl=kmax_knl,derivatives=derivatives_desi)\n",
    "   F = meld_fishers([SO,F_desi,Planck])\n",
    "   if s4: F = meld_fishers([S4,F_desi,Planck])\n",
    "   F = F[x][:,x]\n",
    "   return np.sqrt(np.linalg.inv(F)[6,6])*1000"
   ]
  },
  {
   "cell_type": "code",
   "execution_count": null,
   "metadata": {},
   "outputs": [],
   "source": [
    "kratios = np.linspace(0.1,1,50)"
   ]
  },
  {
   "cell_type": "code",
   "execution_count": null,
   "metadata": {},
   "outputs": [],
   "source": [
    "constraints = [tmp_function(kratio) for kratio in kratios]"
   ]
  },
  {
   "cell_type": "code",
   "execution_count": null,
   "metadata": {},
   "outputs": [],
   "source": [
    "constraintsa = [tmp_function(kratio,marg_nonlin=False) for kratio in kratios]"
   ]
  },
  {
   "cell_type": "code",
   "execution_count": null,
   "metadata": {},
   "outputs": [],
   "source": []
  },
  {
   "cell_type": "code",
   "execution_count": null,
   "metadata": {},
   "outputs": [],
   "source": []
  },
  {
   "cell_type": "code",
   "execution_count": null,
   "metadata": {},
   "outputs": [],
   "source": [
    "def tmp_function_sketch(kmax_knl,marg_nonlin=True,s4=False):\n",
    "   x = [0,1,2,3,4,5,6,7,13,14]\n",
    "   if marg_nonlin: x = [0,1,2,3,4,5,6,7,8,9,10,11,12,13]\n",
    "   F_desi = desiCast.gen_fisher(basis,kmax_knl=kmax_knl,derivatives=derivatives_desi)\n",
    "   F_desi[7,7] += 1/0.0147**2\n",
    "   F = meld_fishers([Planck_SO,F_desi])\n",
    "   if s4: F = meld_fishers([Planck_S4,F_desi])\n",
    "   F = F[x][:,x]\n",
    "   return np.sqrt(np.linalg.inv(F)[6,6])*1000"
   ]
  },
  {
   "cell_type": "code",
   "execution_count": null,
   "metadata": {},
   "outputs": [],
   "source": []
  },
  {
   "cell_type": "code",
   "execution_count": null,
   "metadata": {},
   "outputs": [],
   "source": [
    "constraints_sketch = [tmp_function_sketch(kratio,marg_nonlin=False) for kratio in kratios]"
   ]
  },
  {
   "cell_type": "code",
   "execution_count": null,
   "metadata": {},
   "outputs": [],
   "source": []
  },
  {
   "cell_type": "code",
   "execution_count": null,
   "metadata": {},
   "outputs": [],
   "source": [
    "constraints_S4 = [tmp_function(kratio,s4=True) for kratio in kratios]"
   ]
  },
  {
   "cell_type": "code",
   "execution_count": null,
   "metadata": {},
   "outputs": [],
   "source": [
    "constraintsa_S4 = [tmp_function(kratio,s4=True,sigma_tau=0.003) for kratio in kratios]"
   ]
  },
  {
   "cell_type": "code",
   "execution_count": null,
   "metadata": {},
   "outputs": [],
   "source": []
  },
  {
   "cell_type": "code",
   "execution_count": null,
   "metadata": {},
   "outputs": [],
   "source": []
  },
  {
   "cell_type": "code",
   "execution_count": null,
   "metadata": {},
   "outputs": [],
   "source": []
  },
  {
   "cell_type": "code",
   "execution_count": null,
   "metadata": {},
   "outputs": [],
   "source": [
    "def tmp_puma(kmax_knl,s4=False,litebird=False):\n",
    "   x = [0,1,2,3,4,5,6,7,8,9,10,11,12,13,14,15]\n",
    "   F_puma = puma32optCast.gen_fisher(basis_hi,kmax_knl=kmax_knl,derivatives=derivatives_puma)\n",
    "   F = meld_fishers([Planck_SO,F_puma])\n",
    "   if s4: F = meld_fishers([Planck_S4,F_puma])\n",
    "   if litebird: F = meld_fishers([LiteBird_S4,F_puma])\n",
    "   F = F[x][:,x]\n",
    "   return np.sqrt(np.linalg.inv(F)[6,6])*1000"
   ]
  },
  {
   "cell_type": "code",
   "execution_count": null,
   "metadata": {},
   "outputs": [],
   "source": [
    "kratios2 = np.linspace(0.12,1,50)"
   ]
  },
  {
   "cell_type": "code",
   "execution_count": null,
   "metadata": {},
   "outputs": [],
   "source": [
    "constraints_puma_S4 = [tmp_puma(kratio,s4=True) for kratio in kratios2]"
   ]
  },
  {
   "cell_type": "code",
   "execution_count": null,
   "metadata": {},
   "outputs": [],
   "source": [
    "constraints_puma_litebird = [tmp_puma(kratio,litebird=True) for kratio in kratios2]"
   ]
  },
  {
   "cell_type": "code",
   "execution_count": null,
   "metadata": {},
   "outputs": [],
   "source": []
  },
  {
   "cell_type": "code",
   "execution_count": null,
   "metadata": {},
   "outputs": [],
   "source": []
  },
  {
   "cell_type": "code",
   "execution_count": null,
   "metadata": {},
   "outputs": [],
   "source": []
  },
  {
   "cell_type": "code",
   "execution_count": null,
   "metadata": {},
   "outputs": [],
   "source": [
    "def tmp_puma2(kmax_knl,sigma_tau=0.007,s4=False,litebird=False):\n",
    "   x = [0,1,2,3,4,5,6,7,8,9,10,11,12,13,14]\n",
    "   F_puma = puma32optCast.gen_fisher(basis_hi,kmax_knl=kmax_knl,derivatives=derivatives_puma)\n",
    "   tau_prior = np.zeros((7,7))\n",
    "   tau_prior[5,5] = 1./sigma_tau**2.\n",
    "   F = meld_fishers([SO,F_puma,tau_prior])\n",
    "   if s4: F = meld_fishers([S4,F_puma,tau_prior])\n",
    "   if litebird: F = meld_fishers([S4,F_puma,tau_prior])\n",
    "   F = F[x][:,x]\n",
    "   return np.sqrt(np.linalg.inv(F)[6,6])*1000"
   ]
  },
  {
   "cell_type": "code",
   "execution_count": null,
   "metadata": {},
   "outputs": [],
   "source": [
    "constraintsa_puma_S4 = [tmp_puma2(kratio,sigma_tau=0.007,s4=True) for kratio in kratios2]"
   ]
  },
  {
   "cell_type": "code",
   "execution_count": null,
   "metadata": {},
   "outputs": [],
   "source": []
  },
  {
   "cell_type": "code",
   "execution_count": null,
   "metadata": {},
   "outputs": [],
   "source": []
  },
  {
   "cell_type": "code",
   "execution_count": null,
   "metadata": {},
   "outputs": [],
   "source": [
    "fudge = np.array(constraintsa)/np.array(constraints)\n",
    "fudge = [min(f,0.91) for f in fudge]"
   ]
  },
  {
   "cell_type": "code",
   "execution_count": null,
   "metadata": {},
   "outputs": [],
   "source": [
    "fig,ax = plt.subplots(figsize=(8,5))\n",
    "\n",
    "ax.plot(kratios,constraints,lw=4,c='C0',label=r'\\textit{Planck}$\\,+\\,{\\rm SO}+{\\rm DESI}$')\n",
    "#ax.plot(kratios,np.array(constraints)*np.array(fudge),lw=4,c='C0',ls='--')\n",
    "#ax.plot(kratios,constraints_sketch,lw=4,c='C0',ls='dotted')\n",
    "\n",
    "#ax.plot(kratios,constraints_S4,lw=4,c='C1',label=r'CMB-S4$\\,+\\,{\\rm DESI}+{\\tau\\,\\,\\rm prior}$')\n",
    "#ax.plot(kratios,constraintsa_S4,lw=4,c='C1',ls='--')\n",
    "\n",
    "#ax.plot(kratios2[1:],constraints_puma[1:],lw=4,c='C2',label=r'${\\rm SO}\\,\\,+\\,\\,$PUMA-32K$\\,\\,+\\,{\\tau\\,\\,\\rm prior}$')\n",
    "#ax.plot(kratios2[1:],constraintsa_puma[1:],lw=4,c='C2',ls='--')\n",
    "\n",
    "ax.plot(kratios2[1:],constraints_puma_S4[1:],lw=4,c='C1',label=r'\\textit{Planck}$\\,+\\,$CMB-S4$\\,+\\,$PUMA')\n",
    "#ax.plot(kratios2[1:],constraintsa_puma_S4[1:],lw=4,c='C3',ls='dotted')\n",
    " \n",
    "ax.set_xlabel(r'$k_\\text{max}/k_\\text{nl}$')\n",
    "ax.set_ylabel(r'$\\sigma(M_\\nu)\\,\\,[{\\rm meV}]$')\n",
    "ax.set_xlim(0.1,1.)\n",
    "ax.set_xticks(ticks=[0.1,0.2,0.3,0.4,0.5,0.6,0.7,0.8,0.9,1.0])\n",
    "ax.set_yticks(ticks=[10,20,30,40,50,60,70,80])\n",
    "plt.axhline(30,0,2,color='k',ls='dotted')\n",
    "plt.axhline(20,0,2,color='k',ls='dotted')\n",
    "plt.axhline(15,0,2,color='k',ls='dotted')\n",
    "plt.axhline(12,0,2,color='k',ls='dotted')\n",
    "plt.text(1.02,29,r'$2\\,\\sigma$')\n",
    "plt.text(1.02,19,r'$3\\,\\sigma$')\n",
    "plt.text(1.02,14.5,r'$4\\,\\sigma$')\n",
    "plt.text(1.02,10.5,r'$5\\,\\sigma$')\n",
    "plt.legend(loc='upper right',frameon=False,fontsize=21,handlelength=1)\n",
    "plt.ylim(6,60)\n",
    "plt.savefig('figures/desi_SO_mnu_vs_kmax.pdf',bbox_inches='tight')"
   ]
  },
  {
   "cell_type": "code",
   "execution_count": null,
   "metadata": {},
   "outputs": [],
   "source": []
  },
  {
   "cell_type": "code",
   "execution_count": null,
   "metadata": {},
   "outputs": [],
   "source": [
    "60./np.array(constraints_puma_S4)"
   ]
  },
  {
   "cell_type": "code",
   "execution_count": null,
   "metadata": {},
   "outputs": [],
   "source": [
    "60./(np.array(constraints)*np.array(fudge))"
   ]
  },
  {
   "cell_type": "code",
   "execution_count": null,
   "metadata": {},
   "outputs": [],
   "source": [
    "kratios[22]"
   ]
  },
  {
   "cell_type": "code",
   "execution_count": null,
   "metadata": {},
   "outputs": [],
   "source": [
    "60./np.array(constraints)[-1]"
   ]
  },
  {
   "cell_type": "code",
   "execution_count": null,
   "metadata": {},
   "outputs": [],
   "source": [
    "1.5,2.3,2.5, 4.4"
   ]
  },
  {
   "cell_type": "code",
   "execution_count": null,
   "metadata": {},
   "outputs": [],
   "source": []
  },
  {
   "cell_type": "code",
   "execution_count": null,
   "metadata": {},
   "outputs": [],
   "source": []
  },
  {
   "cell_type": "code",
   "execution_count": null,
   "metadata": {},
   "outputs": [],
   "source": []
  },
  {
   "cell_type": "code",
   "execution_count": null,
   "metadata": {},
   "outputs": [],
   "source": []
  },
  {
   "cell_type": "code",
   "execution_count": null,
   "metadata": {},
   "outputs": [],
   "source": []
  },
  {
   "cell_type": "code",
   "execution_count": null,
   "metadata": {},
   "outputs": [],
   "source": []
  },
  {
   "cell_type": "code",
   "execution_count": null,
   "metadata": {},
   "outputs": [],
   "source": []
  },
  {
   "cell_type": "code",
   "execution_count": null,
   "metadata": {},
   "outputs": [],
   "source": []
  },
  {
   "cell_type": "code",
   "execution_count": null,
   "metadata": {},
   "outputs": [],
   "source": []
  },
  {
   "cell_type": "code",
   "execution_count": null,
   "metadata": {},
   "outputs": [],
   "source": []
  },
  {
   "cell_type": "code",
   "execution_count": null,
   "metadata": {},
   "outputs": [],
   "source": []
  },
  {
   "cell_type": "code",
   "execution_count": null,
   "metadata": {},
   "outputs": [],
   "source": []
  },
  {
   "cell_type": "code",
   "execution_count": null,
   "metadata": {},
   "outputs": [],
   "source": []
  },
  {
   "cell_type": "code",
   "execution_count": null,
   "metadata": {},
   "outputs": [],
   "source": []
  },
  {
   "cell_type": "code",
   "execution_count": null,
   "metadata": {},
   "outputs": [],
   "source": [
    "kratios = np.linspace(0.1,1,50)"
   ]
  },
  {
   "cell_type": "code",
   "execution_count": null,
   "metadata": {},
   "outputs": [],
   "source": [
    "def constraint(nratio,kmax_knl,fancy=False):\n",
    "   fishcast.experiment = experiment(zmin=2., zmax=5., nbins=3, fsky=0.34, sigma_z=0, LBG=True,\\\n",
    "                                 custom_n=True, n=lambda z: nratio*LBGn(fishcast,z)) \n",
    "   F = fishcast.gen_fisher(basis,kmax_knl=kmax_knl,derivatives=derivatives_fish)\n",
    "   x = [0,1,2,3,4,5,6,7,8,9,10,11,12,13,14]\n",
    "   F = meld_fishers([F,Planck_SO])[x][:,x]\n",
    "   if fancy: F = meld_fishers([F,LiteBird_S4])[x][:,x]\n",
    "   return np.sqrt(np.linalg.inv(F)[-1,-1])*1000"
   ]
  },
  {
   "cell_type": "code",
   "execution_count": null,
   "metadata": {},
   "outputs": [],
   "source": [
    "constraints = [constraint(0.3,kratio) for kratio in kratios]"
   ]
  },
  {
   "cell_type": "code",
   "execution_count": null,
   "metadata": {},
   "outputs": [],
   "source": [
    "constraintsa = [constraint(0.5,kratio) for kratio in kratios]"
   ]
  },
  {
   "cell_type": "code",
   "execution_count": null,
   "metadata": {},
   "outputs": [],
   "source": [
    "constraintsb = [constraint(1.,kratio) for kratio in kratios]"
   ]
  },
  {
   "cell_type": "code",
   "execution_count": null,
   "metadata": {},
   "outputs": [],
   "source": [
    "constraints_tightertau = [constraint(0.3,kratio,fancy=True) for kratio in kratios]"
   ]
  },
  {
   "cell_type": "code",
   "execution_count": null,
   "metadata": {},
   "outputs": [],
   "source": [
    "constraintsa_tightertau = [constraint(0.5,kratio,fancy=True) for kratio in kratios]"
   ]
  },
  {
   "cell_type": "code",
   "execution_count": null,
   "metadata": {},
   "outputs": [],
   "source": [
    "constraintsb_tightertau = [constraint(1.,kratio,fancy=True) for kratio in kratios]"
   ]
  },
  {
   "cell_type": "code",
   "execution_count": null,
   "metadata": {},
   "outputs": [],
   "source": [
    "fig,ax = plt.subplots(figsize=(10,8))\n",
    "\n",
    "ax.plot(kratios,constraints,lw=4,c='C0',ls='dotted')\n",
    "ax.plot(kratios,constraintsa,lw=4,c='C0',ls='--')\n",
    "ax.plot(kratios,constraintsb,lw=4,c='C0')\n",
    "\n",
    "ax.plot(kratios,constraints_tightertau,lw=4,c='C1',ls='dotted')\n",
    "ax.plot(kratios,constraintsa_tightertau,lw=4,c='C1',ls='--')\n",
    "ax.plot(kratios,constraintsb_tightertau,lw=4,c='C1')\n",
    "\n",
    "ax.plot([],[],lw=4,ls='dotted',c='k',label=r'$\\bar{n}/n_\\text{LBG}=0.3$')\n",
    "ax.plot([],[],lw=4,ls='--',c='k',label=r'$\\bar{n}/n_\\text{LBG}=0.5$')\n",
    "ax.plot([],[],lw=4,ls='-',c='k',label=r'$\\bar{n}/n_\\text{LBG}=1.0$')\n",
    "\n",
    "ax.set_xlabel(r'$k_\\text{max}/k_\\text{nl}$')\n",
    "ax.set_ylabel(r'$\\sigma(M_\\nu)\\,\\,[{\\rm meV}]$')\n",
    "ax.set_xlim(0.1,1.)\n",
    "ax.set_xticks(ticks=[0.1,0.2,0.3,0.4,0.5,0.6,0.7,0.8,0.9,1.0])\n",
    "ax.set_yticks(ticks=[10,20,30,40,50,60])\n",
    "plt.axhline(30,0,2,color='k',ls='--')\n",
    "plt.text(1.01,30,r'$2\\,\\sigma$',fontsize=20)\n",
    "plt.axhline(20,0,2,color='k',ls='--')\n",
    "plt.text(1.01,20,r'$3\\,\\sigma$',fontsize=20)\n",
    "plt.axhline(15,0,2,color='k',ls='--')\n",
    "plt.text(1.01,15,r'$4\\,\\sigma$',fontsize=20)\n",
    "plt.axhline(12,0,2,color='k',ls='--')\n",
    "plt.text(1.01,12,r'$5\\,\\sigma$',fontsize=20)\n",
    "plt.axhline(10,0,2,color='k',ls='--')\n",
    "plt.text(1.01,10,r'$6\\,\\sigma$',fontsize=20)\n",
    "plt.legend(loc='upper right',frameon=False,fontsize=20)\n",
    "plt.ylim(10,50)\n",
    "plt.savefig('figures/sigma_mu_vs_kratio.pdf',bbox_inches='tight')"
   ]
  },
  {
   "cell_type": "code",
   "execution_count": null,
   "metadata": {},
   "outputs": [],
   "source": []
  },
  {
   "cell_type": "code",
   "execution_count": null,
   "metadata": {},
   "outputs": [],
   "source": []
  }
 ],
 "metadata": {
  "kernelspec": {
   "display_name": "Python 3",
   "language": "python",
   "name": "python3"
  },
  "language_info": {
   "codemirror_mode": {
    "name": "ipython",
    "version": 3
   },
   "file_extension": ".py",
   "mimetype": "text/x-python",
   "name": "python",
   "nbconvert_exporter": "python",
   "pygments_lexer": "ipython3",
   "version": "3.6.5"
  }
 },
 "nbformat": 4,
 "nbformat_minor": 2
}
