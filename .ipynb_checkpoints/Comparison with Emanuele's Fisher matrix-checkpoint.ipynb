{
 "cells": [
  {
   "cell_type": "code",
   "execution_count": 1,
   "metadata": {},
   "outputs": [],
   "source": [
    "# import all revelant packages\n",
    "from headers import *\n",
    "outputFolder = 'output'"
   ]
  },
  {
   "cell_type": "markdown",
   "metadata": {},
   "source": [
    "## Setting parameters to match Emanuele"
   ]
  },
  {
   "cell_type": "code",
   "execution_count": 2,
   "metadata": {},
   "outputs": [],
   "source": [
    "params = {\n",
    "          'output': 'mPk,mTk',\n",
    "          'P_k_max_h/Mpc': 100.,\n",
    "          #'non linear' : 'HMCode',\n",
    "          #'non linear' : 'halofit',\n",
    "          'z_pk': '0.0,10',\n",
    "          'A_s': 2.10732e-9,\n",
    "          'n_s': 0.96824,\n",
    "          'h': 0.6770,\n",
    "          'omega_b': 0.02247,\n",
    "          'omega_cdm': 0.11923}\n",
    "\n",
    "cosmo = Class()\n",
    "cosmo.set(params)\n",
    "cosmo.compute()"
   ]
  },
  {
   "cell_type": "markdown",
   "metadata": {},
   "source": [
    "The experiment has noise $N = 1000 \\text{ [Mpc/h]}^3$, which corresponds to $n = 0.001 \\text{ [h/Mpc]}^{3}$. I'm evaluating the power spectrum at $z=1$, so I choose to have one redshift bin centered about $1$. I'm setting the bias to $b=1.5$."
   ]
  },
  {
   "cell_type": "code",
   "execution_count": 3,
   "metadata": {},
   "outputs": [],
   "source": [
    "exp = experiment(zmin=0.8,zmax=1.2,n=1e-3,nbins=1,sigma_z=0.,b=1.5)"
   ]
  },
  {
   "cell_type": "markdown",
   "metadata": {},
   "source": [
    "I'm marginalizing over the parameters $\\Omega_b, \\Omega_c, h, \\log(A_s), n_s, b, \\text{ and }N$. I'm setting $k_\\text{min}=2\\times10^{-3}\\text{ h/Mpc}$ and $k_\\text{max} = 0.2\\text{ h/Mpc}$. I'm splitting the integral up into 200 $k$ and $\\mu$ bins."
   ]
  },
  {
   "cell_type": "code",
   "execution_count": 4,
   "metadata": {},
   "outputs": [],
   "source": [
    "fishcast = fisherForecast(experiment=exp,cosmo=cosmo,params=params,khmin=1.e-3,khmax=0.2,Nk=7000,Nmu=1000)\n",
    "fishcast.marg_params = np.array(['omega_b','omega_cdm','h','log(A_s)','n_s','b','N'])"
   ]
  },
  {
   "cell_type": "markdown",
   "metadata": {},
   "source": [
    "To be consistent with Emanuele, I'm setting the volume to be exactly  $22.2 \\text{ [Gpc/h]}^3$."
   ]
  },
  {
   "cell_type": "code",
   "execution_count": 5,
   "metadata": {},
   "outputs": [],
   "source": [
    "fishcast.Vsurvey = np.array([2.22e10])"
   ]
  },
  {
   "cell_type": "markdown",
   "metadata": {},
   "source": [
    "## Checking $\\Delta b(k)$ with Simo"
   ]
  },
  {
   "cell_type": "code",
   "execution_count": 6,
   "metadata": {},
   "outputs": [],
   "source": [
    "z=1.\n",
    "pmatter = compute_matter_power_spectrum(fishcast, z)\n",
    "D = 0.76 * fishcast.cosmo.scale_independent_growth_factor(z) # normalized so D(a) = a in the MD era\n",
    "# hacky way of calculating the transfer function\n",
    "T = np.sqrt(pmatter/fishcast.k**fishcast.params['n_s'])\n",
    "T /= T[0]\n",
    "fNL_factor = 3.*1.68*(1.5-1.)*(fishcast.params['omega_cdm']/fishcast.params['h']**2.)*100.**2.\n",
    "fNL_factor /= D * fishcast.k**2. * T * 299792.458**2."
   ]
  },
  {
   "cell_type": "code",
   "execution_count": 7,
   "metadata": {},
   "outputs": [],
   "source": [
    "delta_b = fishcast.get_f_at_fixed_mu(fNL_factor,0.)"
   ]
  },
  {
   "cell_type": "code",
   "execution_count": 8,
   "metadata": {},
   "outputs": [
    {
     "data": {
      "image/png": "[encoded data removed]",
      "text/plain": [
       "<Figure size 432x288 with 1 Axes>"
      ]
     },
     "metadata": {
      "needs_background": "light"
     },
     "output_type": "display_data"
    }
   ],
   "source": [
    "kk = np.linspace(8.e-3,0.199,1000)\n",
    "plt.semilogx(kk,10.*delta_b(kk),c='k',lw=3)\n",
    "plt.title(r'$\\Delta b(k,z=1)$ for $f_{NL}=10$, assuming $b=1.5$')\n",
    "plt.xlabel('k [h/Mpc]')\n",
    "plt.savefig('output/delta_b.pdf',bbox_inches='tight')"
   ]
  },
  {
   "cell_type": "code",
   "execution_count": 9,
   "metadata": {},
   "outputs": [],
   "source": [
    "from tabulate import tabulate\n",
    "table = tabulate(np.transpose(np.array([kk,10.*delta_b(kk)])),['k [h/Mpc]', 'delta b'])\n",
    "file = open(outputFolder+'/delta_b.dat','w')\n",
    "file.write(table)\n",
    "file.close()"
   ]
  },
  {
   "cell_type": "markdown",
   "metadata": {},
   "source": [
    "## Calculating power spectra and derivatives"
   ]
  },
  {
   "cell_type": "code",
   "execution_count": 10,
   "metadata": {},
   "outputs": [],
   "source": [
    "# Derivatives of the matter power spectrum at z=0\n",
    "data = np.genfromtxt(outputFolder+'/derivatives_dark_matter_z0p0_PlanckBAO.dat')\n",
    "EmanK_matter_0 = np.array([data[i][0] for i in range(len(data))])\n",
    "Eman_dPdomega_b_matter_0 = np.array([data[i][1] for i in range(len(data))])\n",
    "Eman_dPdomega_b_matter_0 = interp1d(EmanK_matter_0,Eman_dPdomega_b_matter_0,kind='linear')\n",
    "Eman_dPdomega_cdm_matter_0 = np.array([data[i][2] for i in range(len(data))])\n",
    "Eman_dPdomega_cdm_matter_0 = interp1d(EmanK_matter_0,Eman_dPdomega_cdm_matter_0,kind='linear')\n",
    "Eman_dPdh_matter_0 = np.array([data[i][3] for i in range(len(data))])\n",
    "Eman_dPdh_matter_0 = interp1d(EmanK_matter_0,Eman_dPdh_matter_0,kind='linear')\n",
    "Eman_p_fid_matter_0 = np.array([data[i][4] for i in range(len(data))])\n",
    "Eman_p_fid_matter_0 = interp1d(EmanK_matter_0,Eman_p_fid_matter_0,kind='linear')\n",
    "Eman_dPdn_s_matter_0 = np.array([data[i][5] for i in range(len(data))])\n",
    "Eman_dPdn_s_matter_0 = interp1d(EmanK_matter_0,Eman_dPdn_s_matter_0,kind='linear')\n",
    "\n",
    "# Fiducial galaxy power spectrum at z=1,mu=0\n",
    "data = np.genfromtxt(outputFolder+'/Pgg_mu0p0_z1p0_b1p5_PlanckBAO18.dat')\n",
    "EmanK_galaxy_1 = np.array([data[i][0] for i in range(len(data))])\n",
    "# scaled by b^2 \n",
    "Eman_p_fid_galaxy_1 = np.array([data[i][1] for i in range(len(data))]) * 2.25\n",
    "Eman_p_fid_galaxy_1 = interp1d(EmanK_galaxy_1,Eman_p_fid_galaxy_1,kind='linear')\n",
    "\n",
    "# Derivatives of the galay power spectrum at z=1,mu=0\n",
    "data = np.genfromtxt(outputFolder+'/derivatives_mu0p0_z1p0_b1p5_N1e3_V22p2e9_PlanckBAO18_kmax0p2.dat')\n",
    "EmanK_galaxy_1_0 = np.array([data[i][0] for i in range(len(data))])\n",
    "Eman_dlnPdomega_b_galaxy_1_0  = np.array([data[i][1] for i in range(len(data))])\n",
    "Eman_dlnPdomega_b_galaxy_1_0 = interp1d(EmanK_galaxy_1_0,Eman_dlnPdomega_b_galaxy_1_0,kind='linear')\n",
    "Eman_dlnPdomega_cdm_galaxy_1_0  = np.array([data[i][2] for i in range(len(data))])\n",
    "Eman_dlnPdomega_cdm_galaxy_1_0  = interp1d(EmanK_galaxy_1_0,Eman_dlnPdomega_cdm_galaxy_1_0 ,kind='linear')\n",
    "Eman_dlnPdh_galaxy_1_0  = np.array([data[i][3] for i in range(len(data))])\n",
    "Eman_dlnPdh_galaxy_1_0 = interp1d(EmanK_galaxy_1_0,Eman_dlnPdh_galaxy_1_0,kind='linear')\n",
    "Eman_dlnPdlogA_s_galaxy_1_0 = np.array([data[i][4] for i in range(len(data))])\n",
    "Eman_dlnPdlogA_s_galaxy_1_0 = interp1d(EmanK_galaxy_1_0,Eman_dlnPdlogA_s_galaxy_1_0,kind='linear')\n",
    "Eman_dlnPdn_s_galaxy_1_0  = np.array([data[i][5] for i in range(len(data))])\n",
    "Eman_dlnPdn_s_galaxy_1_0 = interp1d(EmanK_galaxy_1_0,Eman_dlnPdn_s_galaxy_1_0,kind='linear')\n",
    "\n",
    "# Derivatives of the galay power spectrum at z=1,mu=0.5\n",
    "data = np.genfromtxt(outputFolder+'/derivatives_mu0p5_z1p0_b1p5_N1e3_V22p2e9_PlanckBAO18_kmax0p2.dat')\n",
    "EmanK_galaxy_1_5 = np.array([data[i][0] for i in range(len(data))])\n",
    "Eman_dlnPdomega_b_galaxy_1_5  = np.array([data[i][1] for i in range(len(data))])\n",
    "Eman_dlnPdomega_b_galaxy_1_5 = interp1d(EmanK_galaxy_1_5,Eman_dlnPdomega_b_galaxy_1_5,kind='linear')\n",
    "Eman_dlnPdomega_cdm_galaxy_1_5  = np.array([data[i][2] for i in range(len(data))])\n",
    "Eman_dlnPdomega_cdm_galaxy_1_5  = interp1d(EmanK_galaxy_1_5,Eman_dlnPdomega_cdm_galaxy_1_5 ,kind='linear')\n",
    "Eman_dlnPdh_galaxy_1_5  = np.array([data[i][3] for i in range(len(data))])\n",
    "Eman_dlnPdh_galaxy_1_5 = interp1d(EmanK_galaxy_1_5,Eman_dlnPdh_galaxy_1_5,kind='linear')\n",
    "Eman_dlnPdlogA_s_galaxy_1_5 = np.array([data[i][4] for i in range(len(data))])\n",
    "Eman_dlnPdlogA_s_galaxy_1_5 = interp1d(EmanK_galaxy_1_5,Eman_dlnPdlogA_s_galaxy_1_5,kind='linear')\n",
    "Eman_dlnPdn_s_galaxy_1_5  = np.array([data[i][5] for i in range(len(data))])\n",
    "Eman_dlnPdn_s_galaxy_1_5 = interp1d(EmanK_galaxy_1_5,Eman_dlnPdn_s_galaxy_1_5,kind='linear')\n",
    "\n",
    "# Derivatives of the galay power spectrum at z=1,mu=1\n",
    "data = np.genfromtxt(outputFolder+'/derivatives_mu1p0_z1p0_b1p5_N1e3_V22p2e9_PlanckBAO18_kmax0p2.dat')\n",
    "EmanK_galaxy_1_1 = np.array([data[i][0] for i in range(len(data))])\n",
    "Eman_dlnPdomega_b_galaxy_1_1  = np.array([data[i][1] for i in range(len(data))])\n",
    "Eman_dlnPdomega_b_galaxy_1_1 = interp1d(EmanK_galaxy_1_1,Eman_dlnPdomega_b_galaxy_1_1,kind='linear')\n",
    "Eman_dlnPdomega_cdm_galaxy_1_1  = np.array([data[i][2] for i in range(len(data))])\n",
    "Eman_dlnPdomega_cdm_galaxy_1_1  = interp1d(EmanK_galaxy_1_1,Eman_dlnPdomega_cdm_galaxy_1_1 ,kind='linear')\n",
    "Eman_dlnPdh_galaxy_1_1  = np.array([data[i][3] for i in range(len(data))])\n",
    "Eman_dlnPdh_galaxy_1_1 = interp1d(EmanK_galaxy_1_1,Eman_dlnPdh_galaxy_1_1,kind='linear')\n",
    "Eman_dlnPdlogA_s_galaxy_1_1 = np.array([data[i][4] for i in range(len(data))])\n",
    "Eman_dlnPdlogA_s_galaxy_1_1 = interp1d(EmanK_galaxy_1_1,Eman_dlnPdlogA_s_galaxy_1_1,kind='linear')\n",
    "Eman_dlnPdn_s_galaxy_1_1  = np.array([data[i][5] for i in range(len(data))])\n",
    "Eman_dlnPdn_s_galaxy_1_1 = interp1d(EmanK_galaxy_1_1,Eman_dlnPdn_s_galaxy_1_1,kind='linear')"
   ]
  },
  {
   "cell_type": "code",
   "execution_count": 11,
   "metadata": {},
   "outputs": [],
   "source": [
    "# Derivatives of the matter power spectrum at z=0\n",
    "Noah_dPdomega_b_matter_0 = fishcast.compute_dPdp('omega_b',0.,five_point=True)/(1.5**2.)\n",
    "Noah_dPdomega_b_matter_0 = fishcast.get_f_at_fixed_mu(Noah_dPdomega_b_matter_0,0.)\n",
    "Noah_dPdomega_cdm_matter_0 = fishcast.compute_dPdp('omega_cdm',0.,five_point=True)/(1.5**2.)\n",
    "Noah_dPdomega_cdm_matter_0 = fishcast.get_f_at_fixed_mu(Noah_dPdomega_cdm_matter_0,0.)\n",
    "Noah_dPdh_matter_0 = fishcast.compute_dPdp('h',0.,five_point=True)/(1.5**2.)\n",
    "Noah_dPdh_matter_0 = fishcast.get_f_at_fixed_mu(Noah_dPdh_matter_0,0.)\n",
    "Noah_p_fid_matter_0 = fishcast.compute_dPdp('log(A_s)',0.,five_point=True)/(1.5**2.)\n",
    "Noah_p_fid_matter_0 = fishcast.get_f_at_fixed_mu(Noah_p_fid_matter_0,0.)\n",
    "Noah_dPdn_s_matter_0 = fishcast.compute_dPdp('n_s',0.,five_point=True)/(1.5**2.)\n",
    "Noah_dPdn_s_matter_0 = fishcast.get_f_at_fixed_mu(Noah_dPdn_s_matter_0,0.)\n",
    "\n",
    "# Fiducial matter power spectrum at z=1\n",
    "Noah_p_fid_matter_1 = fishcast.compute_dPdp('log(A_s)',1.,five_point=True)/(1.5**2.)\n",
    "Noah_p_fid_matter_1 = fishcast.get_f_at_fixed_mu(Noah_p_fid_matter_1,0.)\n",
    "\n",
    "# Derivatives of the galaxy power spectrum at z=0,mu=0\n",
    "Noah_dPdomega_b_galaxy_0 = lambda k: Noah_dPdomega_b_matter_0(k) * (1.5)**2.\n",
    "Noah_dPdomega_cdm_galaxy_0 = lambda k: Noah_dPdh_matter_0(k) * (1.5)**2.\n",
    "Noah_dPdh_galaxy_0 = lambda k: Noah_dPdh_matter_0(k) * (1.5)**2.\n",
    "Noah_p_fid_galaxy_0 = lambda k: Noah_p_fid_matter_0(k) * (1.5)**2.\n",
    "Noah_dPdn_s_galaxy_0 = lambda k: Noah_dPdn_s_matter_0(k) * (1.5)**2.\n",
    "\n",
    "# Derivatives of the galaxy power spectrum at z=1\n",
    "Noah_dPdomega_b_galaxy_1_brute = fishcast.compute_dPdp('omega_b',1.,five_point=True)\n",
    "Noah_dPdomega_cdm_galaxy_1_brute = fishcast.compute_dPdp('omega_cdm',1.,five_point=True)\n",
    "Noah_dPdh_galaxy_1_brute = fishcast.compute_dPdp('h',1.,five_point=True)\n",
    "Noah_p_fid_galaxy_1 = fishcast.compute_dPdp('log(A_s)',1.,five_point=True)\n",
    "Noah_dPdn_s_galaxy_1_brute = fishcast.compute_dPdp('n_s',1.,five_point=True)\n",
    "# mu=0\n",
    "Noah_dPdomega_b_galaxy_1_0_brute = fishcast.get_f_at_fixed_mu(Noah_dPdomega_b_galaxy_1_brute,0.)\n",
    "Noah_dPdomega_cdm_galaxy_1_0_brute = fishcast.get_f_at_fixed_mu(Noah_dPdomega_cdm_galaxy_1_brute,0.)\n",
    "Noah_dPdh_galaxy_1_0_brute = fishcast.get_f_at_fixed_mu(Noah_dPdh_galaxy_1_brute,0.)\n",
    "Noah_p_fid_galaxy_1_0 = fishcast.get_f_at_fixed_mu(Noah_p_fid_galaxy_1,0.)\n",
    "Noah_dPdn_s_galaxy_1_0_brute = fishcast.get_f_at_fixed_mu(Noah_dPdn_s_galaxy_1_brute,0.)\n",
    "# mu=0.5\n",
    "Noah_dPdomega_b_galaxy_1_5_brute = fishcast.get_f_at_fixed_mu(Noah_dPdomega_b_galaxy_1_brute,.5)\n",
    "Noah_dPdomega_cdm_galaxy_1_5_brute = fishcast.get_f_at_fixed_mu(Noah_dPdomega_cdm_galaxy_1_brute,.5)\n",
    "Noah_dPdh_galaxy_1_5_brute = fishcast.get_f_at_fixed_mu(Noah_dPdh_galaxy_1_brute,.5)\n",
    "Noah_p_fid_galaxy_1_5 = fishcast.get_f_at_fixed_mu(Noah_p_fid_galaxy_1,.5)\n",
    "Noah_dPdn_s_galaxy_1_5_brute = fishcast.get_f_at_fixed_mu(Noah_dPdn_s_galaxy_1_brute,.5)\n",
    "# mu=1.\n",
    "Noah_dPdomega_b_galaxy_1_1_brute = fishcast.get_f_at_fixed_mu(Noah_dPdomega_b_galaxy_1_brute,1.)\n",
    "Noah_dPdomega_cdm_galaxy_1_1_brute = fishcast.get_f_at_fixed_mu(Noah_dPdomega_cdm_galaxy_1_brute,1.)\n",
    "Noah_dPdh_galaxy_1_1_brute = fishcast.get_f_at_fixed_mu(Noah_dPdh_galaxy_1_brute,1.)\n",
    "Noah_p_fid_galaxy_1_1 = fishcast.get_f_at_fixed_mu(Noah_p_fid_galaxy_1,1.)\n",
    "Noah_dPdn_s_galaxy_1_1_brute = fishcast.get_f_at_fixed_mu(Noah_dPdn_s_galaxy_1_brute,1.)"
   ]
  },
  {
   "cell_type": "markdown",
   "metadata": {},
   "source": [
    "## Matter power spectrum at z=0"
   ]
  },
  {
   "cell_type": "markdown",
   "metadata": {},
   "source": [
    "They agree!"
   ]
  },
  {
   "cell_type": "code",
   "execution_count": 12,
   "metadata": {},
   "outputs": [
    {
     "ename": "ValueError",
     "evalue": "A value in x_new is below the interpolation range.",
     "output_type": "error",
     "traceback": [
      "\u001b[0;31m---------------------------------------------------------------------------\u001b[0m",
      "\u001b[0;31mValueError\u001b[0m                                Traceback (most recent call last)",
      "\u001b[0;32m<ipython-input-12-fa32d1df49a7>\u001b[0m in \u001b[0;36m<module>\u001b[0;34m\u001b[0m\n\u001b[1;32m      2\u001b[0m \u001b[0;34m\u001b[0m\u001b[0m\n\u001b[1;32m      3\u001b[0m \u001b[0mfig\u001b[0m\u001b[0;34m,\u001b[0m \u001b[0maxs\u001b[0m \u001b[0;34m=\u001b[0m \u001b[0mplt\u001b[0m\u001b[0;34m.\u001b[0m\u001b[0msubplots\u001b[0m\u001b[0;34m(\u001b[0m\u001b[0;36m3\u001b[0m\u001b[0;34m,\u001b[0m \u001b[0;36m2\u001b[0m\u001b[0;34m,\u001b[0m\u001b[0mfigsize\u001b[0m\u001b[0;34m=\u001b[0m\u001b[0;34m(\u001b[0m\u001b[0;36m12\u001b[0m\u001b[0;34m,\u001b[0m\u001b[0;36m12\u001b[0m\u001b[0;34m)\u001b[0m\u001b[0;34m)\u001b[0m\u001b[0;34m\u001b[0m\u001b[0;34m\u001b[0m\u001b[0m\n\u001b[0;32m----> 4\u001b[0;31m \u001b[0maxs\u001b[0m\u001b[0;34m[\u001b[0m\u001b[0;36m0\u001b[0m\u001b[0;34m,\u001b[0m\u001b[0;36m0\u001b[0m\u001b[0;34m]\u001b[0m\u001b[0;34m.\u001b[0m\u001b[0msemilogx\u001b[0m\u001b[0;34m(\u001b[0m\u001b[0mkk\u001b[0m\u001b[0;34m,\u001b[0m\u001b[0mNoah_p_fid_matter_0\u001b[0m\u001b[0;34m(\u001b[0m\u001b[0mkk\u001b[0m\u001b[0;34m)\u001b[0m\u001b[0;34m,\u001b[0m\u001b[0mc\u001b[0m\u001b[0;34m=\u001b[0m\u001b[0;34m'k'\u001b[0m\u001b[0;34m,\u001b[0m\u001b[0mlabel\u001b[0m\u001b[0;34m=\u001b[0m\u001b[0;34mr'$P_m(k,\\mu=0)$'\u001b[0m\u001b[0;34m,\u001b[0m\u001b[0mlw\u001b[0m\u001b[0;34m=\u001b[0m\u001b[0;36m3.\u001b[0m\u001b[0;34m)\u001b[0m\u001b[0;34m\u001b[0m\u001b[0;34m\u001b[0m\u001b[0m\n\u001b[0m\u001b[1;32m      5\u001b[0m \u001b[0maxs\u001b[0m\u001b[0;34m[\u001b[0m\u001b[0;36m0\u001b[0m\u001b[0;34m,\u001b[0m\u001b[0;36m0\u001b[0m\u001b[0;34m]\u001b[0m\u001b[0;34m.\u001b[0m\u001b[0msemilogx\u001b[0m\u001b[0;34m(\u001b[0m\u001b[0mkk\u001b[0m\u001b[0;34m,\u001b[0m\u001b[0mEman_p_fid_matter_0\u001b[0m\u001b[0;34m(\u001b[0m\u001b[0mkk\u001b[0m\u001b[0;34m)\u001b[0m\u001b[0;34m,\u001b[0m\u001b[0mc\u001b[0m\u001b[0;34m=\u001b[0m\u001b[0;34m'r'\u001b[0m\u001b[0;34m,\u001b[0m\u001b[0mls\u001b[0m\u001b[0;34m=\u001b[0m\u001b[0;34m'--'\u001b[0m\u001b[0;34m)\u001b[0m\u001b[0;34m\u001b[0m\u001b[0;34m\u001b[0m\u001b[0m\n\u001b[1;32m      6\u001b[0m \u001b[0;34m\u001b[0m\u001b[0m\n",
      "\u001b[0;32m~/.local/lib/python3.6/site-packages/scipy/interpolate/polyint.py\u001b[0m in \u001b[0;36m__call__\u001b[0;34m(self, x)\u001b[0m\n\u001b[1;32m     77\u001b[0m         \"\"\"\n\u001b[1;32m     78\u001b[0m         \u001b[0mx\u001b[0m\u001b[0;34m,\u001b[0m \u001b[0mx_shape\u001b[0m \u001b[0;34m=\u001b[0m \u001b[0mself\u001b[0m\u001b[0;34m.\u001b[0m\u001b[0m_prepare_x\u001b[0m\u001b[0;34m(\u001b[0m\u001b[0mx\u001b[0m\u001b[0;34m)\u001b[0m\u001b[0;34m\u001b[0m\u001b[0;34m\u001b[0m\u001b[0m\n\u001b[0;32m---> 79\u001b[0;31m         \u001b[0my\u001b[0m \u001b[0;34m=\u001b[0m \u001b[0mself\u001b[0m\u001b[0;34m.\u001b[0m\u001b[0m_evaluate\u001b[0m\u001b[0;34m(\u001b[0m\u001b[0mx\u001b[0m\u001b[0;34m)\u001b[0m\u001b[0;34m\u001b[0m\u001b[0;34m\u001b[0m\u001b[0m\n\u001b[0m\u001b[1;32m     80\u001b[0m         \u001b[0;32mreturn\u001b[0m \u001b[0mself\u001b[0m\u001b[0;34m.\u001b[0m\u001b[0m_finish_y\u001b[0m\u001b[0;34m(\u001b[0m\u001b[0my\u001b[0m\u001b[0;34m,\u001b[0m \u001b[0mx_shape\u001b[0m\u001b[0;34m)\u001b[0m\u001b[0;34m\u001b[0m\u001b[0;34m\u001b[0m\u001b[0m\n\u001b[1;32m     81\u001b[0m \u001b[0;34m\u001b[0m\u001b[0m\n",
      "\u001b[0;32m~/.local/lib/python3.6/site-packages/scipy/interpolate/interpolate.py\u001b[0m in \u001b[0;36m_evaluate\u001b[0;34m(self, x_new)\u001b[0m\n\u001b[1;32m    661\u001b[0m         \u001b[0my_new\u001b[0m \u001b[0;34m=\u001b[0m \u001b[0mself\u001b[0m\u001b[0;34m.\u001b[0m\u001b[0m_call\u001b[0m\u001b[0;34m(\u001b[0m\u001b[0mself\u001b[0m\u001b[0;34m,\u001b[0m \u001b[0mx_new\u001b[0m\u001b[0;34m)\u001b[0m\u001b[0;34m\u001b[0m\u001b[0;34m\u001b[0m\u001b[0m\n\u001b[1;32m    662\u001b[0m         \u001b[0;32mif\u001b[0m \u001b[0;32mnot\u001b[0m \u001b[0mself\u001b[0m\u001b[0;34m.\u001b[0m\u001b[0m_extrapolate\u001b[0m\u001b[0;34m:\u001b[0m\u001b[0;34m\u001b[0m\u001b[0;34m\u001b[0m\u001b[0m\n\u001b[0;32m--> 663\u001b[0;31m             \u001b[0mbelow_bounds\u001b[0m\u001b[0;34m,\u001b[0m \u001b[0mabove_bounds\u001b[0m \u001b[0;34m=\u001b[0m \u001b[0mself\u001b[0m\u001b[0;34m.\u001b[0m\u001b[0m_check_bounds\u001b[0m\u001b[0;34m(\u001b[0m\u001b[0mx_new\u001b[0m\u001b[0;34m)\u001b[0m\u001b[0;34m\u001b[0m\u001b[0;34m\u001b[0m\u001b[0m\n\u001b[0m\u001b[1;32m    664\u001b[0m             \u001b[0;32mif\u001b[0m \u001b[0mlen\u001b[0m\u001b[0;34m(\u001b[0m\u001b[0my_new\u001b[0m\u001b[0;34m)\u001b[0m \u001b[0;34m>\u001b[0m \u001b[0;36m0\u001b[0m\u001b[0;34m:\u001b[0m\u001b[0;34m\u001b[0m\u001b[0;34m\u001b[0m\u001b[0m\n\u001b[1;32m    665\u001b[0m                 \u001b[0;31m# Note fill_value must be broadcast up to the proper size\u001b[0m\u001b[0;34m\u001b[0m\u001b[0;34m\u001b[0m\u001b[0;34m\u001b[0m\u001b[0m\n",
      "\u001b[0;32m~/.local/lib/python3.6/site-packages/scipy/interpolate/interpolate.py\u001b[0m in \u001b[0;36m_check_bounds\u001b[0;34m(self, x_new)\u001b[0m\n\u001b[1;32m    690\u001b[0m         \u001b[0;31m# !! Could provide more information about which values are out of bounds\u001b[0m\u001b[0;34m\u001b[0m\u001b[0;34m\u001b[0m\u001b[0;34m\u001b[0m\u001b[0m\n\u001b[1;32m    691\u001b[0m         \u001b[0;32mif\u001b[0m \u001b[0mself\u001b[0m\u001b[0;34m.\u001b[0m\u001b[0mbounds_error\u001b[0m \u001b[0;32mand\u001b[0m \u001b[0mbelow_bounds\u001b[0m\u001b[0;34m.\u001b[0m\u001b[0many\u001b[0m\u001b[0;34m(\u001b[0m\u001b[0;34m)\u001b[0m\u001b[0;34m:\u001b[0m\u001b[0;34m\u001b[0m\u001b[0;34m\u001b[0m\u001b[0m\n\u001b[0;32m--> 692\u001b[0;31m             raise ValueError(\"A value in x_new is below the interpolation \"\n\u001b[0m\u001b[1;32m    693\u001b[0m                              \"range.\")\n\u001b[1;32m    694\u001b[0m         \u001b[0;32mif\u001b[0m \u001b[0mself\u001b[0m\u001b[0;34m.\u001b[0m\u001b[0mbounds_error\u001b[0m \u001b[0;32mand\u001b[0m \u001b[0mabove_bounds\u001b[0m\u001b[0;34m.\u001b[0m\u001b[0many\u001b[0m\u001b[0;34m(\u001b[0m\u001b[0;34m)\u001b[0m\u001b[0;34m:\u001b[0m\u001b[0;34m\u001b[0m\u001b[0;34m\u001b[0m\u001b[0m\n",
      "\u001b[0;31mValueError\u001b[0m: A value in x_new is below the interpolation range."
     ]
    },
    {
     "data": {
      "image/png": "[encoded data removed]",
      "text/plain": [
       "<Figure size 864x864 with 6 Axes>"
      ]
     },
     "metadata": {
      "needs_background": "light"
     },
     "output_type": "display_data"
    }
   ],
   "source": [
    "kk = np.linspace(3.e-3,0.199,1000)\n",
    "\n",
    "fig, axs = plt.subplots(3, 2,figsize=(12,12))\n",
    "axs[0,0].semilogx(kk,Noah_p_fid_matter_0(kk),c='k',label=r'$P_m(k,\\mu=0)$',lw=3.)\n",
    "axs[0,0].semilogx(kk,Eman_p_fid_matter_0(kk),c='r',ls='--')\n",
    "\n",
    "axs[0,1].semilogx(kk,Noah_dPdomega_b_matter_0(kk),c='k',label=r'$dP_m(k,\\mu=0)/d\\Omega_b$',lw=3.)\n",
    "axs[0,1].semilogx(kk,Eman_dPdomega_b_matter_0(kk),c='r',ls='--')\n",
    "\n",
    "axs[1,0].semilogx(kk,Noah_dPdomega_cdm_matter_0(kk),c='k',label=r'$dP_m(k,\\mu=0)/d\\Omega_c$',lw=3.)\n",
    "axs[1,0].semilogx(kk,Eman_dPdomega_cdm_matter_0(kk),c='r',ls='--')\n",
    "\n",
    "axs[1,1].semilogx(kk,Noah_dPdh_matter_0(kk),c='k',label=r'$dP_m(k,\\mu=0)/dh$',lw=3.)\n",
    "axs[1,1].semilogx(kk,Eman_dPdh_matter_0(kk),c='r',ls='--')\n",
    "\n",
    "axs[2,0].semilogx(kk,Noah_p_fid_matter_0(kk),c='k',label=r'$dP_m(k,\\mu=0)/d\\log(A_s)$',lw=3.)\n",
    "axs[2,0].semilogx(kk,Eman_p_fid_matter_0(kk),c='r',ls='--')\n",
    "\n",
    "axs[2,1].semilogx(kk,Noah_dPdn_s_matter_0(kk),c='k',label=r'$dP_m(k,\\mu=0)/dn_s$',lw=3.)\n",
    "axs[2,1].semilogx(kk,Eman_dPdn_s_matter_0(kk),c='r',ls='--')\n",
    "\n",
    "axs[0,0].legend(loc=0.)\n",
    "axs[0,1].legend(loc=0.)\n",
    "axs[1,0].legend(loc=0.)\n",
    "axs[1,1].legend(loc=0.)\n",
    "axs[2,0].legend(loc=0.)\n",
    "axs[2,1].legend(loc=0.)\n",
    "\n",
    "axs[2,0].set_xlabel('k [h/Mpc]')\n",
    "axs[2,1].set_xlabel('k [h/Mpc]')\n",
    "\n",
    "fig.suptitle(r'My curves are solid black, Emanueles are dashed red.')\n",
    "plt.savefig('output/matter_power_spectrum_z0.pdf')"
   ]
  },
  {
   "cell_type": "markdown",
   "metadata": {},
   "source": [
    "## Galaxy power spectrum at z=1"
   ]
  },
  {
   "cell_type": "markdown",
   "metadata": {},
   "source": [
    "They agree!"
   ]
  },
  {
   "cell_type": "code",
   "execution_count": null,
   "metadata": {},
   "outputs": [],
   "source": [
    "fig, axs = plt.subplots(3, 2,figsize=(12,12))\n",
    "axs[0,0].semilogx(kk,Noah_p_fid_galaxy_1_0(kk),c='b',lw=3.)\n",
    "axs[0,0].semilogx(kk,Eman_p_fid_galaxy_1(kk),c='cyan',ls='--')\n",
    "axs[0,0].set_title(r'$P_g(k,\\mu=0)$')\n",
    "\n",
    "axs[0,1].semilogx(kk,Noah_dPdomega_b_galaxy_1_0_brute(kk),c='b',lw=3.,label=r'$\\mu=0$')\n",
    "axs[0,1].semilogx(kk,Eman_dlnPdomega_b_galaxy_1_0(kk)*Eman_p_fid_galaxy_1(kk),c='cyan',ls='--')\n",
    "axs[0,1].semilogx(kk,Noah_dPdomega_b_galaxy_1_5_brute(kk),c='r',lw=3.,label=r'$\\mu=0.5$')\n",
    "axs[0,1].semilogx(kk,Eman_dlnPdomega_b_galaxy_1_5(kk),c='pink',ls='--')\n",
    "axs[0,1].semilogx(kk,Noah_dPdomega_b_galaxy_1_1_brute(kk),c='g',lw=3.,label=r'$\\mu=1$')\n",
    "axs[0,1].semilogx(kk,Eman_dlnPdomega_b_galaxy_1_1(kk),c='yellow',ls='--')\n",
    "axs[0,1].set_title(r'$dP_g(k,\\mu)/d\\Omega_b$')\n",
    "\n",
    "axs[1,0].semilogx(kk,Noah_dPdomega_cdm_galaxy_1_0_brute(kk),c='b',lw=3.,label=r'$\\mu=0$')\n",
    "axs[1,0].semilogx(kk,Eman_dlnPdomega_cdm_galaxy_1_0(kk)*Eman_p_fid_galaxy_1(kk),c='cyan',ls='--')\n",
    "axs[1,0].semilogx(kk,Noah_dPdomega_cdm_galaxy_1_5_brute(kk),c='r',lw=3.,label=r'$\\mu=0.5$')\n",
    "axs[1,0].semilogx(kk,Eman_dlnPdomega_cdm_galaxy_1_5(kk),c='pink',ls='--')\n",
    "axs[1,0].semilogx(kk,Noah_dPdomega_cdm_galaxy_1_1_brute(kk),c='g',lw=3.,label=r'$\\mu=1$')\n",
    "axs[1,0].semilogx(kk,Eman_dlnPdomega_cdm_galaxy_1_1(kk),c='yellow',ls='--')\n",
    "axs[1,0].set_title(r'$dP_g(k,\\mu)/d\\Omega_c$')\n",
    "\n",
    "axs[1,1].semilogx(kk,Noah_dPdh_galaxy_1_0_brute(kk),c='b',lw=3.,label=r'$\\mu=0$')\n",
    "axs[1,1].semilogx(kk,Eman_dlnPdh_galaxy_1_0(kk)*Eman_p_fid_galaxy_1(kk),c='cyan',ls='--')\n",
    "axs[1,1].semilogx(kk,Noah_dPdh_galaxy_1_5_brute(kk),c='r',lw=3.,label=r'$\\mu=0.5$')\n",
    "axs[1,1].semilogx(kk,Eman_dlnPdh_galaxy_1_5(kk),c='pink',ls='--')\n",
    "axs[1,1].semilogx(kk,Noah_dPdh_galaxy_1_1_brute(kk),c='g',lw=3.,label=r'$\\mu=0$')\n",
    "axs[1,1].semilogx(kk,Eman_dlnPdh_galaxy_1_1(kk),c='yellow',ls='--')\n",
    "axs[1,1].set_title(r'$dP_g(k,\\mu)/dh$')\n",
    "\n",
    "axs[2,0].semilogx(kk,Noah_p_fid_galaxy_1_0(kk),c='b',lw=3.,label=r'$\\mu=0$')\n",
    "axs[2,0].semilogx(kk,Eman_dlnPdlogA_s_galaxy_1_0(kk)*Eman_p_fid_galaxy_1(kk),c='cyan',ls='--')\n",
    "axs[2,0].semilogx(kk,Noah_p_fid_galaxy_1_5(kk),c='r',lw=3.,label=r'$\\mu=0.5$')\n",
    "axs[2,0].semilogx(kk,Eman_dlnPdlogA_s_galaxy_1_5(kk),c='pink',ls='--')\n",
    "axs[2,0].semilogx(kk,Noah_p_fid_galaxy_1_1(kk),c='g',lw=3.,label=r'$\\mu=1$')\n",
    "axs[2,0].semilogx(kk,Eman_dlnPdlogA_s_galaxy_1_1(kk),c='yellow',ls='--')\n",
    "axs[2,0].set_title(r'$dP_g(k,\\mu)/d\\log(A_s)$')\n",
    "\n",
    "axs[2,1].semilogx(kk,Noah_dPdn_s_galaxy_1_0_brute(kk),c='b',lw=3.,label=r'$\\mu=0$')\n",
    "axs[2,1].semilogx(kk,Eman_dlnPdn_s_galaxy_1_0(kk)*Eman_p_fid_galaxy_1(kk),c='cyan',ls='--')\n",
    "axs[2,1].semilogx(kk,Noah_dPdn_s_galaxy_1_5_brute(kk),c='r',lw=3.,label=r'$\\mu=0.5$')\n",
    "axs[2,1].semilogx(kk,Eman_dlnPdn_s_galaxy_1_5(kk),c='pink',ls='--')\n",
    "axs[2,1].semilogx(kk,Noah_dPdn_s_galaxy_1_1_brute(kk),c='g',lw=3.,label=r'$\\mu=1$')\n",
    "axs[2,1].semilogx(kk,Eman_dlnPdn_s_galaxy_1_1(kk),c='yellow',ls='--')\n",
    "\n",
    "axs[2,1].set_title(r'$dP_g(k,\\mu)/dn_s$')\n",
    "\n",
    "axs[0,1].legend(loc=0.)\n",
    "axs[1,0].legend(loc=0.)\n",
    "axs[1,1].legend(loc=0.)\n",
    "axs[2,0].legend(loc=0.)\n",
    "axs[2,1].legend(loc=0.)\n",
    "\n",
    "axs[2,0].set_xlabel('k [h/Mpc]')\n",
    "axs[2,1].set_xlabel('k [h/Mpc]')\n",
    "\n",
    "fig.suptitle('All of these plots are at z=1. My curves are solid and Emanueles are dashed.')\n",
    "plt.savefig('output/galaxy_power_spectrum_z1.pdf')"
   ]
  },
  {
   "cell_type": "markdown",
   "metadata": {},
   "source": [
    "## Comparing Fisher matrices"
   ]
  },
  {
   "cell_type": "code",
   "execution_count": 6,
   "metadata": {},
   "outputs": [],
   "source": [
    "F = fishcast.compute_Fisher_matrix()"
   ]
  },
  {
   "cell_type": "markdown",
   "metadata": {},
   "source": [
    "This is the Fisher matrix that Emanuele gets."
   ]
  },
  {
   "cell_type": "code",
   "execution_count": 7,
   "metadata": {},
   "outputs": [],
   "source": [
    "G = np.genfromtxt(outputFolder+'/Fisher_z1p0_b1p5_N1e3_V22p2e9_PlanckBAO18_kmax0p2.dat')"
   ]
  },
  {
   "cell_type": "markdown",
   "metadata": {},
   "source": [
    "And here's the ratio of our forecasts."
   ]
  },
  {
   "cell_type": "code",
   "execution_count": 9,
   "metadata": {},
   "outputs": [
    {
     "name": "stdout",
     "output_type": "stream",
     "text": [
      "  omega_b    omega_cdm         h    log(A_s)       n_s         b        N\n",
      "---------  -----------  --------  ----------  --------  --------  -------\n",
      " 1.11138       1.0788   1.16924     1.1492    0.989564  1.15093   1.04969\n",
      " 1.0788        1.07026  1.10307     1.1048    1.01601   1.10549   1.03855\n",
      " 1.16924       1.10307  1.27335     1.23388   0.949594  1.23608   1.07197\n",
      " 1.1492        1.1048   1.23388     1.19848   0.985994  1.20061   1.06757\n",
      " 0.989564      1.01601  0.949594    0.985994  1.03997   0.985724  1.00271\n",
      " 1.15093       1.10549  1.23608     1.20061   0.985724  1.20259   1.0682\n",
      " 1.04969       1.03855  1.07197     1.06757   1.00271   1.0682    1.10318\n"
     ]
    }
   ],
   "source": [
    "from tabulate import tabulate\n",
    "headers = list(fishcast.marg_params.copy())\n",
    "table = tabulate(G/F,headers)\n",
    "file = open(outputFolder+'/Fisher_ratio.dat','w')\n",
    "file.write(table)\n",
    "file.close()\n",
    "\n",
    "print(table)"
   ]
  },
  {
   "cell_type": "code",
   "execution_count": 10,
   "metadata": {},
   "outputs": [],
   "source": [
    "Finv = np.linalg.inv(F)\n",
    "Ginv = np.linalg.inv(G)"
   ]
  },
  {
   "cell_type": "code",
   "execution_count": 11,
   "metadata": {},
   "outputs": [
    {
     "name": "stdout",
     "output_type": "stream",
     "text": [
      "   omega_b    omega_cdm           h    log(A_s)         n_s          b           N\n",
      "----------  -----------  ----------  ----------  ----------  ---------  ----------\n",
      " 0.0988876    0.0919754   0.0955632   0.0853325   0.0997037  0.049813   -0.0667604\n",
      " 0.0919754    0.0863595   0.0892877   0.0802782   0.0945208  0.047105   -0.0615421\n",
      " 0.0955632    0.0892877   0.0926261   0.0829484   0.097204   0.0482975  -0.0628253\n",
      " 0.0853325    0.0802782   0.0829484   0.0747303   0.0884739  0.0460848  -0.0422642\n",
      " 0.0997037    0.0945208   0.097204    0.0884739   0.10324    0.0541177  -0.129298\n",
      " 0.049813     0.047105    0.0482975   0.0460848   0.0541177  0.0560113   0.0219798\n",
      "-0.0667604   -0.0615421  -0.0628253  -0.0422642  -0.129298   0.0219798   0.0555332\n"
     ]
    }
   ],
   "source": [
    "table2 = tabulate(Ginv/Finv,headers)\n",
    "print(table2)"
   ]
  },
  {
   "cell_type": "code",
   "execution_count": 12,
   "metadata": {},
   "outputs": [],
   "source": [
    "Fsub = F[:-1,:-1]\n",
    "Gsub = G[:-1,:-1]\n",
    "Fsubinv = np.linalg.inv(Fsub)\n",
    "Gsubinv = np.linalg.inv(Gsub)"
   ]
  },
  {
   "cell_type": "code",
   "execution_count": 13,
   "metadata": {},
   "outputs": [
    {
     "name": "stdout",
     "output_type": "stream",
     "text": [
      "  omega_b    omega_cdm          h    log(A_s)        n_s          b\n",
      "---------  -----------  ---------  ----------  ---------  ---------\n",
      "0.100643     0.0937522  0.0975121   0.0894871  0.0963273  0.0806867\n",
      "0.0937522    0.0882363  0.0912913   0.0844873  0.0914311  0.0773143\n",
      "0.0975121    0.0912913  0.0947895   0.087309   0.094138   0.0788441\n",
      "0.0894871    0.0844873  0.087309    0.0812499  0.0877077  0.0782257\n",
      "0.0963273    0.0914311  0.094138    0.0877077  0.0955723  0.0813726\n",
      "0.0806867    0.0773143  0.0788441   0.0782257  0.0813726  0.130984\n"
     ]
    }
   ],
   "source": [
    "table3 = tabulate(Gsubinv/Fsubinv,headers[:-1])\n",
    "print(table3)"
   ]
  },
  {
   "cell_type": "code",
   "execution_count": 20,
   "metadata": {},
   "outputs": [
    {
     "data": {
      "text/plain": [
       "array([3.35368932e-06, 3.35368932e-06, 3.35368932e-06, ...,\n",
       "       9.57738097e-05, 9.57738097e-05, 9.57738097e-05])"
      ]
     },
     "execution_count": 20,
     "metadata": {},
     "output_type": "execute_result"
    }
   ],
   "source": [
    "fishcast.dk"
   ]
  },
  {
   "cell_type": "code",
   "execution_count": 21,
   "metadata": {},
   "outputs": [],
   "source": [
    "Ffake = F.copy()"
   ]
  },
  {
   "cell_type": "code",
   "execution_count": 22,
   "metadata": {},
   "outputs": [],
   "source": [
    "Ffake[-1,-1] = G[-1,-1]"
   ]
  },
  {
   "cell_type": "code",
   "execution_count": 23,
   "metadata": {},
   "outputs": [],
   "source": [
    "Ffakeinv = np.linalg.inv(Ffake)"
   ]
  },
  {
   "cell_type": "code",
   "execution_count": 24,
   "metadata": {},
   "outputs": [],
   "source": [
    "table4 = tabulate(Ginv/Ffakeinv,headers)"
   ]
  },
  {
   "cell_type": "code",
   "execution_count": 25,
   "metadata": {},
   "outputs": [
    {
     "name": "stdout",
     "output_type": "stream",
     "text": [
      "  omega_b    omega_cdm         h    log(A_s)       n_s        b         N\n",
      "---------  -----------  --------  ----------  --------  -------  --------\n",
      " 1.02157      1.0215    1.01784     1.01627   1.02452   1.06612  0.919659\n",
      " 1.0215       1.02119   1.01767     1.01593   1.02391   1.06433  0.920952\n",
      " 1.01784      1.01767   1.01406     1.01243   1.02057   1.06164  0.916132\n",
      " 1.01627      1.01593   1.01243     1.01063   1.01872   1.05259  0.908653\n",
      " 1.02452      1.02391   1.02057     1.01872   1.02607   1.07094  0.932709\n",
      " 1.06612      1.06433   1.06164     1.05259   1.07094   1.02599  0.98928\n",
      " 0.919659     0.920952  0.916132    0.908653  0.932709  0.98928  0.96725\n"
     ]
    }
   ],
   "source": [
    "print(table4)"
   ]
  },
  {
   "cell_type": "code",
   "execution_count": null,
   "metadata": {},
   "outputs": [],
   "source": []
  }
 ],
 "metadata": {
  "kernelspec": {
   "display_name": "Python 3",
   "language": "python",
   "name": "python3"
  },
  "language_info": {
   "codemirror_mode": {
    "name": "ipython",
    "version": 3
   },
   "file_extension": ".py",
   "mimetype": "text/x-python",
   "name": "python",
   "nbconvert_exporter": "python",
   "pygments_lexer": "ipython3",
   "version": "3.6.9"
  }
 },
 "nbformat": 4,
 "nbformat_minor": 2
}
